{
 "cells": [
  {
   "cell_type": "code",
   "execution_count": 1,
   "metadata": {},
   "outputs": [],
   "source": [
    "import pandas as pd\n",
    "import matplotlib.pyplot as plt\n",
    "import numpy as np\n",
    "from datetime import date, timedelta, datetime\n",
    "\n",
    "data = pd.read_csv('complete.txt', sep=\",\", header=None)\n",
    "data.columns = [\"Name\", \"Date\", \"Time\"]\n",
    "\n",
    "# Time is irrelevant\n",
    "del data[\"Time\"]\n",
    "\n",
    "### Main DataFrame ###\n",
    "\n",
    "data = data.drop_duplicates().sort_values(\"Name\")\n",
    "data['Date'] = pd.to_datetime(data['Date'])\n",
    "data = data.sort_values(\"Date\").drop_duplicates()"
   ]
  },
  {
   "cell_type": "markdown",
   "metadata": {},
   "source": [
    "#### List of unique names of employees"
   ]
  },
  {
   "cell_type": "code",
   "execution_count": 2,
   "metadata": {},
   "outputs": [
    {
     "data": {
      "text/plain": [
       "['Jaye Shimek', 'Leandro Marse', 'Kyle Ryals', 'Lorrine Paek', 'Zofia Roll']"
      ]
     },
     "execution_count": 2,
     "metadata": {},
     "output_type": "execute_result"
    }
   ],
   "source": [
    "### MIN MAX per employee ###\n",
    "\n",
    "names = data[\"Name\"]\n",
    "names.value_counts()\n",
    "list_names = names.unique()\n",
    "#\n",
    "list_names = list(list_names)\n",
    "list_names[:5]"
   ]
  },
  {
   "cell_type": "markdown",
   "metadata": {},
   "source": [
    "#### Make DataFrame that contains info about when (which years) author was working"
   ]
  },
  {
   "cell_type": "code",
   "execution_count": 3,
   "metadata": {},
   "outputs": [],
   "source": [
    "start_date = []\n",
    "end_date = []\n",
    "\n",
    "### Creates DF in which employees are active\n",
    "## EG first and last date employee publishes\n",
    "\n",
    "for name in list_names:\n",
    "    subset = data[data[\"Name\"] == name].sort_values(\"Date\")\n",
    "    start_date.append(min(subset[\"Date\"]))\n",
    "    end_date.append(max(subset[\"Date\"]))\n",
    "\n",
    "# Create DF from this\n",
    "active = pd.DataFrame({'Name': list_names, 'Start': start_date, 'End': end_date})\n",
    "active = active.sort_values(\"Start\")\n",
    "active = active.sort_values(\"End\")\n",
    "active = active.reset_index()\n",
    "del active[\"index\"]"
   ]
  },
  {
   "cell_type": "markdown",
   "metadata": {},
   "source": [
    "#### Exclude weekends from possible working days, create range"
   ]
  },
  {
   "cell_type": "code",
   "execution_count": 4,
   "metadata": {},
   "outputs": [],
   "source": [
    "# Take a subset of timeframe IF needed\n",
    "\n",
    "start_date = '2012-01-01'\n",
    "end_date = '2019-12-31'\n",
    "\n",
    "subset = data[(data['Date'] >= start_date) & (data['Date'] <= end_date)]\n",
    "\n",
    "## Create list with all dates people normally work at\n",
    "## So weekends are excluded.\n",
    "## Not public holidays though\n",
    "\n",
    "def possible_range(date1, date2):\n",
    "\n",
    "    # prepare the input data-range\n",
    "    begin = date1.astype(str).values[0].split('-')\n",
    "    end = date2.astype(str).values[0].split('-')\n",
    "    sdate = date(int(begin[0]), int(begin[1]), int(begin[2]))\n",
    "    fdate = date(int(end[0]), int(end[1]), int(end[2]))\n",
    "\n",
    "    def daterange(sdate, fdate):\n",
    "        for n in range(int((fdate - sdate).days)+1):\n",
    "            yield sdate + timedelta(n)\n",
    "\n",
    "    all_dates = []\n",
    "    weekdays = [6,7]\n",
    "\n",
    "    for dt in daterange(sdate, fdate):\n",
    "        if dt.isoweekday() not in weekdays:\n",
    "            da = datetime.strftime(dt, \"%Y-%m-%d\")\n",
    "            all_dates.append(da)\n",
    "\n",
    "    df = pd.DataFrame(all_dates)\n",
    "    df = pd.to_datetime(df[0])\n",
    "    return set(df)\n",
    "\n",
    "\n",
    "### Unique names that posted in the defined period\n",
    "\n",
    "names_all = subset[\"Name\"].unique()"
   ]
  },
  {
   "cell_type": "markdown",
   "metadata": {},
   "source": [
    "### list of workingdays on which employees are absent (as a dict)"
   ]
  },
  {
   "cell_type": "markdown",
   "metadata": {},
   "source": [
    "Also list with co-absences are created. That is, working days on which two coworkers are both absent"
   ]
  },
  {
   "cell_type": "code",
   "execution_count": 5,
   "metadata": {},
   "outputs": [],
   "source": [
    "### Make dicts with employee as key,\n",
    "### List of absences as value\n",
    "### Used for plotting later\n",
    "\n",
    "to_plot = dict()\n",
    "absent_dict = dict()\n",
    "pairs = []\n",
    "values = []\n",
    "namesAll = list(names_all)\n",
    "\n",
    "for i in range(len(namesAll)):\n",
    "    name = namesAll[i]\n",
    "    row = active[active[\"Name\"] == name]\n",
    "    all = possible_range(row['Start'], row['End'])\n",
    "    subsubset = subset[subset[\"Name\"] == name]\n",
    "    dates = set(subsubset[\"Date\"])\n",
    "\n",
    "    # Calculate difference between sets\n",
    "    # Absent days are: all possible work days minus (-) the days an employee publishes\n",
    "    absent =  all - dates\n",
    "\n",
    "    # Append self, add own pair to dict\n",
    "    pairs.append((name, name))\n",
    "    values.append(len(absent))\n",
    "    absent_dict[name] = absent\n",
    "\n",
    "    for j in range(i+1, len(namesAll)):\n",
    "        co_worker = namesAll[j]\n",
    "        row_c = active[active[\"Name\"] == co_worker]\n",
    "        all_c = possible_range(row_c['Start'], row_c['End'])\n",
    "        subsubset2 = subset[subset[\"Name\"] == co_worker]\n",
    "        co_dates = set(subsubset2[\"Date\"])\n",
    "        co_absent = all_c - co_dates\n",
    "\n",
    "        # Days they are absent together\n",
    "        # same absent days = absent days employee 1 has similar with absent days employee 2\n",
    "        together = absent & co_absent\n",
    "        pairs.append((name, co_worker))\n",
    "        values.append(len(together))\n",
    "\n",
    "co_absence = pd.DataFrame({'Pair': pairs, 'Co-absence': values})\n",
    "co_absence = co_absence.sort_values(\"Co-absence\", ascending=False)"
   ]
  },
  {
   "cell_type": "markdown",
   "metadata": {},
   "source": [
    "#### Absences further examined and stored into csv"
   ]
  },
  {
   "cell_type": "code",
   "execution_count": 6,
   "metadata": {},
   "outputs": [],
   "source": [
    "## OWN ABSENCES ##\n",
    "\n",
    "own = []\n",
    "val_own = []\n",
    "# len_val = []\n",
    "for self in co_absence.values:\n",
    "    if self[0][0] == self[0][1]:\n",
    "        own.append(self[0][0])\n",
    "        val_own.append(self[1])\n",
    "        # len_val.append(len(self[1]))\n",
    "\n",
    "abs_self = pd.DataFrame({'Name': own, 'Absence': val_own})\n",
    "abs_self = abs_self.sort_values(\"Absence\", ascending=False)\n",
    "\n",
    "merged_active = pd.merge(abs_self, active, on=\"Name\", how=\"left\")\n",
    "\n",
    "years = []\n",
    "avg_ = []\n",
    "for row in merged_active.values:\n",
    "    begin = str(row[2]).split('-')\n",
    "    end = str(row[3]).split('-')\n",
    "    years_ = int(end[0]) - int(begin[0]) + 1\n",
    "    # 7 public holidays / year in the Netherlands\n",
    "\n",
    "    avg = (int(row[1]) - (7*years_)) / years_\n",
    "    avg_.append(avg)\n",
    "\n",
    "merged_active[\"Avg abs/y\"] = avg_\n",
    "final = merged_active.sort_values(\"Avg abs/y\", ascending=True)\n",
    "\n",
    "### Average absences saved to csv file\n",
    "\n",
    "final.to_csv(\"final_2.csv\", index=False)"
   ]
  },
  {
   "cell_type": "code",
   "execution_count": 7,
   "metadata": {},
   "outputs": [],
   "source": [
    "# Exclude parttimers\n",
    "\n",
    "abs_ = pd.read_csv('final_2.csv')\n",
    "normal_employees = abs_.head(30)"
   ]
  },
  {
   "cell_type": "code",
   "execution_count": 8,
   "metadata": {},
   "outputs": [],
   "source": [
    "n = normal_employees.tail(10)"
   ]
  },
  {
   "cell_type": "code",
   "execution_count": 9,
   "metadata": {},
   "outputs": [
    {
     "name": "stdout",
     "output_type": "stream",
     "text": [
      "\\begin{tabular}{lrllr}\n",
      "\\toprule\n",
      "              Name &  Absence &       Start &         End &  Avg abs/y \\\\\n",
      "\\midrule\n",
      "    Layne Woodside &      172 &  2012-01-02 &  2019-12-31 &     14.500 \\\\\n",
      "      Narcisa Core &      173 &  2012-01-02 &  2019-12-31 &     14.625 \\\\\n",
      " Milagros Salmeron &      174 &  2012-01-02 &  2019-12-31 &     14.750 \\\\\n",
      "     Leatrice Heer &      174 &  2012-01-02 &  2019-12-31 &     14.750 \\\\\n",
      "      Michale Tuch &      175 &  2012-01-02 &  2019-12-31 &     14.875 \\\\\n",
      "     Lester Preiss &      176 &  2012-01-02 &  2019-12-31 &     15.000 \\\\\n",
      "        Vance Ates &       66 &  2012-01-02 &  2014-12-31 &     15.000 \\\\\n",
      "   Stephine Gatlin &      177 &  2012-01-02 &  2019-12-31 &     15.125 \\\\\n",
      "     Julieta Knapp &      179 &  2012-01-02 &  2019-12-31 &     15.375 \\\\\n",
      "  Harmony Mcmurtry &      180 &  2012-01-02 &  2019-12-31 &     15.500 \\\\\n",
      "\\bottomrule\n",
      "\\end{tabular}\n",
      "\n"
     ]
    }
   ],
   "source": [
    "print(n.to_latex(index=False))"
   ]
  },
  {
   "cell_type": "code",
   "execution_count": 10,
   "metadata": {},
   "outputs": [
    {
     "data": {
      "text/html": [
       "<div>\n",
       "<style scoped>\n",
       "    .dataframe tbody tr th:only-of-type {\n",
       "        vertical-align: middle;\n",
       "    }\n",
       "\n",
       "    .dataframe tbody tr th {\n",
       "        vertical-align: top;\n",
       "    }\n",
       "\n",
       "    .dataframe thead th {\n",
       "        text-align: right;\n",
       "    }\n",
       "</style>\n",
       "<table border=\"1\" class=\"dataframe\">\n",
       "  <thead>\n",
       "    <tr style=\"text-align: right;\">\n",
       "      <th></th>\n",
       "      <th>Absence</th>\n",
       "      <th>Avg abs/y</th>\n",
       "    </tr>\n",
       "  </thead>\n",
       "  <tbody>\n",
       "    <tr>\n",
       "      <th>count</th>\n",
       "      <td>30.000000</td>\n",
       "      <td>30.000000</td>\n",
       "    </tr>\n",
       "    <tr>\n",
       "      <th>mean</th>\n",
       "      <td>146.833333</td>\n",
       "      <td>14.082500</td>\n",
       "    </tr>\n",
       "    <tr>\n",
       "      <th>std</th>\n",
       "      <td>41.868500</td>\n",
       "      <td>0.889338</td>\n",
       "    </tr>\n",
       "    <tr>\n",
       "      <th>min</th>\n",
       "      <td>55.000000</td>\n",
       "      <td>11.333333</td>\n",
       "    </tr>\n",
       "    <tr>\n",
       "      <th>25%</th>\n",
       "      <td>131.500000</td>\n",
       "      <td>13.616667</td>\n",
       "    </tr>\n",
       "    <tr>\n",
       "      <th>50%</th>\n",
       "      <td>168.500000</td>\n",
       "      <td>14.125000</td>\n",
       "    </tr>\n",
       "    <tr>\n",
       "      <th>75%</th>\n",
       "      <td>172.750000</td>\n",
       "      <td>14.718750</td>\n",
       "    </tr>\n",
       "    <tr>\n",
       "      <th>max</th>\n",
       "      <td>180.000000</td>\n",
       "      <td>15.500000</td>\n",
       "    </tr>\n",
       "  </tbody>\n",
       "</table>\n",
       "</div>"
      ],
      "text/plain": [
       "          Absence  Avg abs/y\n",
       "count   30.000000  30.000000\n",
       "mean   146.833333  14.082500\n",
       "std     41.868500   0.889338\n",
       "min     55.000000  11.333333\n",
       "25%    131.500000  13.616667\n",
       "50%    168.500000  14.125000\n",
       "75%    172.750000  14.718750\n",
       "max    180.000000  15.500000"
      ]
     },
     "execution_count": 10,
     "metadata": {},
     "output_type": "execute_result"
    }
   ],
   "source": [
    "normal_employees.describe()\n",
    "\n",
    "# Mean is 14 days. 15 However seems more plausible (3 weeks). And some years 6 instead of 7 national holidays days are common."
   ]
  },
  {
   "cell_type": "markdown",
   "metadata": {},
   "source": [
    "## PLOTS"
   ]
  },
  {
   "cell_type": "markdown",
   "metadata": {},
   "source": [
    "#### Absence patterns all employees"
   ]
  },
  {
   "cell_type": "code",
   "execution_count": 11,
   "metadata": {},
   "outputs": [
    {
     "data": {
      "image/png": "[encoded data removed]",
      "text/plain": [
       "<Figure size 432x288 with 1 Axes>"
      ]
     },
     "metadata": {
      "needs_background": "light"
     },
     "output_type": "display_data"
    }
   ],
   "source": [
    "# Split dict in 2 to get more readable results\n",
    "\n",
    "d1 = dict(list(absent_dict.items())[len(absent_dict)//2:])\n",
    "d2 = dict(list(absent_dict.items())[:len(absent_dict)//2])\n",
    "\n",
    "xs, ys = zip(*((x, k) for k in d1 for x in d1[k]))\n",
    "plt.title(\"Absence pattern per employee PT 1\")\n",
    "plt.plot(xs, ys, 'ko', markersize=0.5)\n",
    "plt.savefig(\"plots/absence-1B.png\", bbox_inches='tight')\n",
    "plt.show()"
   ]
  },
  {
   "cell_type": "code",
   "execution_count": 12,
   "metadata": {},
   "outputs": [
    {
     "data": {
      "image/png": "[encoded data removed]",
      "text/plain": [
       "<Figure size 432x288 with 1 Axes>"
      ]
     },
     "metadata": {
      "needs_background": "light"
     },
     "output_type": "display_data"
    }
   ],
   "source": [
    "xz, yz = zip(*((x, k) for k in d2 for x in d2[k]))\n",
    "plt.title(\"Absence pattern per employee PT 2\")\n",
    "plt.plot(xz, yz, 'ko', markersize=0.5)\n",
    "plt.savefig(\"plots/absence-2B.png\", bbox_inches='tight')\n",
    "plt.show()"
   ]
  },
  {
   "cell_type": "markdown",
   "metadata": {},
   "source": [
    "#### Identify couples"
   ]
  },
  {
   "cell_type": "code",
   "execution_count": 13,
   "metadata": {},
   "outputs": [
    {
     "data": {
      "image/png": "[encoded data removed]",
      "text/plain": [
       "<Figure size 432x288 with 1 Axes>"
      ]
     },
     "metadata": {
      "needs_background": "light"
     },
     "output_type": "display_data"
    }
   ],
   "source": [
    "### Take individual employees and PLOT ###\n",
    "### ABSENCE PATTERN OF COUPELS ###\n",
    "\n",
    "pers_dict = dict()\n",
    "name_n = \"Grover Gibbons\"\n",
    "name_o = \"Augusta Beltrami\"\n",
    "name_x = \"Julieta Knapp\"\n",
    "name_y = \"Vonk Billips\"\n",
    "name_list = [name_n, name_o, name_x, name_y]\n",
    "tussen = absent_dict[name_o]\n",
    "tussen2 = absent_dict[name_n]\n",
    "tussen3 = absent_dict[name_x]\n",
    "tussen4 = absent_dict[name_y]\n",
    "\n",
    "pers_dict[name_n] = tussen2\n",
    "pers_dict[name_o] = tussen\n",
    "pers_dict[name_x] = tussen3\n",
    "pers_dict[name_y] = tussen4\n",
    "\n",
    "xs, ys = zip(*((x, k) for k in pers_dict for x in pers_dict[k]))\n",
    "plt.title(\"Absence pattern of couples\", size = 16)\n",
    "plt.plot(xs, ys, 'ko', markersize=1.5)\n",
    "plt.xticks(fontsize=14, rotation=90)\n",
    "plt.yticks(fontsize=14)\n",
    "plt.savefig(\"plots/grover-augusta-billips-knapp.png\", bbox_inches='tight')\n",
    "plt.show()"
   ]
  },
  {
   "cell_type": "markdown",
   "metadata": {},
   "source": [
    "#### Suspected parttimers"
   ]
  },
  {
   "cell_type": "code",
   "execution_count": 14,
   "metadata": {},
   "outputs": [
    {
     "data": {
      "image/png": "[encoded data removed]",
      "text/plain": [
       "<Figure size 432x288 with 1 Axes>"
      ]
     },
     "metadata": {
      "needs_background": "light"
     },
     "output_type": "display_data"
    }
   ],
   "source": [
    "### Take individual employees and PLOT ###\n",
    "### ABSENCE PATTERN OF COUPELS ###\n",
    "## list of parttimers\n",
    "\n",
    "list_pt = [\"Lorrine Paek\", \"Hassan Toner\", \"Annie Lapham\", \"Chung Zertuche\", \"Aurea Durrance\", \"Kiera Loar\", \"Randall Feather\",\n",
    "          \"Tora Echevarria\", \"Jarvis Pratts\", \"Anisha Mathes\", \"Adriene Wilde\"]\n",
    "\n",
    "pers_dict = dict()\n",
    "name_n = \"Lorrine Paek\"\n",
    "name_o = \"Hassan Toner\"\n",
    "name_x = \"Annie Lapham\"\n",
    "name_y = \"Chung Zertuche\"\n",
    "name_z = \"Aurea Durrance\"\n",
    "name_a = \"Kiera Loar\"\n",
    "name_b = \"Anisha Mathes\"\n",
    "name_c = \"Randall Feather\"\n",
    "name_d = \"Tora Echevarria\"\n",
    "name_e = \"Jarvis Pratts\"\n",
    "name_f = \"Adriene Wilde\"\n",
    "\n",
    "name_list = [name_n, name_o, name_x, name_y, name_z, name_a, name_b, name_c, name_d, name_e]\n",
    "tussen = absent_dict[name_o]\n",
    "tussen2 = absent_dict[name_n]\n",
    "tussen3 = absent_dict[name_x]\n",
    "tussen4 = absent_dict[name_y]\n",
    "tussen5 = absent_dict[name_z]\n",
    "tussen6 = absent_dict[name_a]\n",
    "tussen7 = absent_dict[name_b]\n",
    "tussen8 = absent_dict[name_c]\n",
    "tussen9 = absent_dict[name_d]\n",
    "tussen10 = absent_dict[name_e]\n",
    "tussen11 = absent_dict[name_f]\n",
    "\n",
    "pers_dict[name_n] = tussen2\n",
    "pers_dict[name_o] = tussen\n",
    "pers_dict[name_x] = tussen3\n",
    "pers_dict[name_y] = tussen4\n",
    "pers_dict[name_z] = tussen5\n",
    "pers_dict[name_a] = tussen6\n",
    "pers_dict[name_b] = tussen7\n",
    "pers_dict[name_c] = tussen8\n",
    "pers_dict[name_d] = tussen9\n",
    "pers_dict[name_e] = tussen10\n",
    "pers_dict[name_f] = tussen11\n",
    "\n",
    "xs, ys = zip(*((x, k) for k in pers_dict for x in pers_dict[k]))\n",
    "plt.title(\"People that work parttime\", size = 16)\n",
    "plt.plot(xs, ys, 'ko', markersize=1.5)\n",
    "plt.xticks(fontsize=14, rotation=90)\n",
    "plt.yticks(fontsize=14)\n",
    "plt.savefig(\"plots/parttimers.png\", bbox_inches='tight')\n",
    "plt.show()"
   ]
  },
  {
   "cell_type": "markdown",
   "metadata": {},
   "source": [
    "#### Absence pattern Corine Gallop"
   ]
  },
  {
   "cell_type": "code",
   "execution_count": 15,
   "metadata": {},
   "outputs": [
    {
     "data": {
      "image/png": "[encoded data removed]",
      "text/plain": [
       "<Figure size 432x288 with 1 Axes>"
      ]
     },
     "metadata": {
      "needs_background": "light"
     },
     "output_type": "display_data"
    }
   ],
   "source": [
    "new = []\n",
    "datum_b = date(2017,6,1)\n",
    "datum_e = date(2018,5,1)\n",
    "\n",
    "person_name= \"Corrine Gallop\"\n",
    "person = absent_dict[person_name]\n",
    "\n",
    "for i in person:\n",
    "    z1 = str(i).split(' ')\n",
    "    z = str(z1[0]).split('-')\n",
    "    y = date(int(z[0]), int(z[1]), int(z[2]))\n",
    "#     print(y)\n",
    "    if y > datum_b and y < datum_e:\n",
    "        new.append(i)\n",
    "        \n",
    "pers_dict_ = dict()\n",
    "pers_dict_[person_name] = new\n",
    "\n",
    "xr, yr = zip(*((x, k) for k in pers_dict_ for x in pers_dict_[k]))\n",
    "plt.title(\"Absence pattern for Misses Gallop\", fontsize=16)\n",
    "plt.plot(xr, yr, 'ko', markersize=0.5)\n",
    "plt.xticks(fontsize=14, rotation=90)\n",
    "plt.yticks(fontsize=14)\n",
    "plt.savefig(\"plots/gallopB.png\", bbox_inches='tight')\n",
    "plt.show()\n",
    "\n",
    "## End OWN ABsENcES"
   ]
  },
  {
   "cell_type": "markdown",
   "metadata": {},
   "source": [
    "#### Absence pattern Marthe Hale"
   ]
  },
  {
   "cell_type": "code",
   "execution_count": 16,
   "metadata": {},
   "outputs": [
    {
     "data": {
      "image/png": "[encoded data removed]",
      "text/plain": [
       "<Figure size 432x288 with 1 Axes>"
      ]
     },
     "metadata": {
      "needs_background": "light"
     },
     "output_type": "display_data"
    }
   ],
   "source": [
    "new = []\n",
    "datum_b = date(2013,3,1)\n",
    "datum_e = date(2015,1,1)\n",
    "\n",
    "person_name= \"Marthe Hale\"\n",
    "person = absent_dict[person_name]\n",
    "\n",
    "for i in person:\n",
    "    z1 = str(i).split(' ')\n",
    "    z = str(z1[0]).split('-')\n",
    "    y = date(int(z[0]), int(z[1]), int(z[2]))\n",
    "#     print(y)\n",
    "    if y > datum_b and y < datum_e:\n",
    "        new.append(i)\n",
    "        \n",
    "pers_dict_x = dict()\n",
    "pers_dict_x[person_name] = new\n",
    "\n",
    "xr, yr = zip(*((x, k) for k in pers_dict_x for x in pers_dict_x[k]))\n",
    "plt.title(\"Absence pattern for Misses Hale\", fontsize=16)\n",
    "plt.plot(xr, yr, 'ko', markersize=0.5)\n",
    "plt.xticks(fontsize=14, rotation=90)\n",
    "plt.yticks(fontsize=14)\n",
    "plt.savefig(\"plots/haleB.png\", bbox_inches='tight')\n",
    "plt.show()\n",
    "\n",
    "## End OWN ABsENcES"
   ]
  },
  {
   "cell_type": "code",
   "execution_count": 17,
   "metadata": {},
   "outputs": [
    {
     "data": {
      "text/html": [
       "<div>\n",
       "<style scoped>\n",
       "    .dataframe tbody tr th:only-of-type {\n",
       "        vertical-align: middle;\n",
       "    }\n",
       "\n",
       "    .dataframe tbody tr th {\n",
       "        vertical-align: top;\n",
       "    }\n",
       "\n",
       "    .dataframe thead th {\n",
       "        text-align: right;\n",
       "    }\n",
       "</style>\n",
       "<table border=\"1\" class=\"dataframe\">\n",
       "  <thead>\n",
       "    <tr style=\"text-align: right;\">\n",
       "      <th></th>\n",
       "      <th>Pair</th>\n",
       "      <th>Co-absence</th>\n",
       "    </tr>\n",
       "  </thead>\n",
       "  <tbody>\n",
       "    <tr>\n",
       "      <th>0</th>\n",
       "      <td>(Lorrine Paek, Lorrine Paek)</td>\n",
       "      <td>771</td>\n",
       "    </tr>\n",
       "    <tr>\n",
       "      <th>1</th>\n",
       "      <td>(Hassan Toner, Hassan Toner)</td>\n",
       "      <td>747</td>\n",
       "    </tr>\n",
       "    <tr>\n",
       "      <th>2</th>\n",
       "      <td>(Tora Echevarria, Tora Echevarria)</td>\n",
       "      <td>728</td>\n",
       "    </tr>\n",
       "    <tr>\n",
       "      <th>3</th>\n",
       "      <td>(Annie Lapham, Annie Lapham)</td>\n",
       "      <td>551</td>\n",
       "    </tr>\n",
       "    <tr>\n",
       "      <th>4</th>\n",
       "      <td>(Chung Zertuche, Chung Zertuche)</td>\n",
       "      <td>420</td>\n",
       "    </tr>\n",
       "  </tbody>\n",
       "</table>\n",
       "</div>"
      ],
      "text/plain": [
       "                                 Pair  Co-absence\n",
       "0        (Lorrine Paek, Lorrine Paek)         771\n",
       "1        (Hassan Toner, Hassan Toner)         747\n",
       "2  (Tora Echevarria, Tora Echevarria)         728\n",
       "3        (Annie Lapham, Annie Lapham)         551\n",
       "4    (Chung Zertuche, Chung Zertuche)         420"
      ]
     },
     "execution_count": 17,
     "metadata": {},
     "output_type": "execute_result"
    }
   ],
   "source": [
    "### Similar abscences ###\n",
    "\n",
    "# Note: Tora, Lorrine, Hassan and Annie Lapham Chung Zertuche, Kiera, work parttime.\n",
    "# Note: Also Kiera, but she starts later\n",
    "# Note: More do not work fully\n",
    "\n",
    "# Just to omit own\n",
    "real_pairs = []\n",
    "vals = []\n",
    "\n",
    "for pair in co_absence.values:\n",
    "    if pair[0][0] != pair[0][1]:\n",
    "        real_pairs.append(pair[0])\n",
    "        vals.append(pair[1])\n",
    "\n",
    "# Absences weekends excluded\n",
    "co_abs_p = pd.DataFrame({'Pair': real_pairs, 'Co-absence': vals})\n",
    "co_abs_p = co_abs_p.sort_values(\"Co-absence\", ascending=False)\n",
    "\n",
    "\n",
    "co_absence2 = co_absence.reset_index()\n",
    "del co_absence2['index']\n",
    "\n",
    "co_absence2.head()"
   ]
  },
  {
   "cell_type": "markdown",
   "metadata": {},
   "source": [
    "Now, weekends are excluded in the table presented below:"
   ]
  },
  {
   "cell_type": "code",
   "execution_count": 18,
   "metadata": {
    "scrolled": true
   },
   "outputs": [
    {
     "data": {
      "text/html": [
       "<div>\n",
       "<style scoped>\n",
       "    .dataframe tbody tr th:only-of-type {\n",
       "        vertical-align: middle;\n",
       "    }\n",
       "\n",
       "    .dataframe tbody tr th {\n",
       "        vertical-align: top;\n",
       "    }\n",
       "\n",
       "    .dataframe thead th {\n",
       "        text-align: right;\n",
       "    }\n",
       "</style>\n",
       "<table border=\"1\" class=\"dataframe\">\n",
       "  <thead>\n",
       "    <tr style=\"text-align: right;\">\n",
       "      <th></th>\n",
       "      <th>Pair</th>\n",
       "      <th>Co-absence</th>\n",
       "    </tr>\n",
       "  </thead>\n",
       "  <tbody>\n",
       "    <tr>\n",
       "      <th>0</th>\n",
       "      <td>(Lorrine Paek, Hassan Toner)</td>\n",
       "      <td>282</td>\n",
       "    </tr>\n",
       "    <tr>\n",
       "      <th>1</th>\n",
       "      <td>(Lorrine Paek, Tora Echevarria)</td>\n",
       "      <td>278</td>\n",
       "    </tr>\n",
       "    <tr>\n",
       "      <th>2</th>\n",
       "      <td>(Tora Echevarria, Hassan Toner)</td>\n",
       "      <td>267</td>\n",
       "    </tr>\n",
       "    <tr>\n",
       "      <th>3</th>\n",
       "      <td>(Lorrine Paek, Annie Lapham)</td>\n",
       "      <td>220</td>\n",
       "    </tr>\n",
       "    <tr>\n",
       "      <th>4</th>\n",
       "      <td>(Tora Echevarria, Annie Lapham)</td>\n",
       "      <td>200</td>\n",
       "    </tr>\n",
       "    <tr>\n",
       "      <th>5</th>\n",
       "      <td>(Hassan Toner, Annie Lapham)</td>\n",
       "      <td>190</td>\n",
       "    </tr>\n",
       "    <tr>\n",
       "      <th>6</th>\n",
       "      <td>(Lorrine Paek, Chung Zertuche)</td>\n",
       "      <td>169</td>\n",
       "    </tr>\n",
       "    <tr>\n",
       "      <th>7</th>\n",
       "      <td>(Lorrine Paek, Aurea Durrance)</td>\n",
       "      <td>156</td>\n",
       "    </tr>\n",
       "    <tr>\n",
       "      <th>8</th>\n",
       "      <td>(Chung Zertuche, Adriene Wilde)</td>\n",
       "      <td>155</td>\n",
       "    </tr>\n",
       "    <tr>\n",
       "      <th>9</th>\n",
       "      <td>(Hassan Toner, Jarvis Pratts)</td>\n",
       "      <td>155</td>\n",
       "    </tr>\n",
       "    <tr>\n",
       "      <th>10</th>\n",
       "      <td>(Lorrine Paek, Anisha Mathes)</td>\n",
       "      <td>155</td>\n",
       "    </tr>\n",
       "    <tr>\n",
       "      <th>12</th>\n",
       "      <td>(Aurea Durrance, Tora Echevarria)</td>\n",
       "      <td>151</td>\n",
       "    </tr>\n",
       "    <tr>\n",
       "      <th>11</th>\n",
       "      <td>(Hassan Toner, Chung Zertuche)</td>\n",
       "      <td>151</td>\n",
       "    </tr>\n",
       "    <tr>\n",
       "      <th>13</th>\n",
       "      <td>(Lorrine Paek, Jarvis Pratts)</td>\n",
       "      <td>149</td>\n",
       "    </tr>\n",
       "    <tr>\n",
       "      <th>14</th>\n",
       "      <td>(Aurea Durrance, Hassan Toner)</td>\n",
       "      <td>146</td>\n",
       "    </tr>\n",
       "    <tr>\n",
       "      <th>15</th>\n",
       "      <td>(Lorrine Paek, Tasia Dube)</td>\n",
       "      <td>146</td>\n",
       "    </tr>\n",
       "    <tr>\n",
       "      <th>16</th>\n",
       "      <td>(Lorrine Paek, Kiera Loar)</td>\n",
       "      <td>144</td>\n",
       "    </tr>\n",
       "    <tr>\n",
       "      <th>17</th>\n",
       "      <td>(Tora Echevarria, Chung Zertuche)</td>\n",
       "      <td>143</td>\n",
       "    </tr>\n",
       "    <tr>\n",
       "      <th>18</th>\n",
       "      <td>(Anisha Mathes, Hassan Toner)</td>\n",
       "      <td>143</td>\n",
       "    </tr>\n",
       "    <tr>\n",
       "      <th>19</th>\n",
       "      <td>(Tora Echevarria, Tasia Dube)</td>\n",
       "      <td>141</td>\n",
       "    </tr>\n",
       "    <tr>\n",
       "      <th>22</th>\n",
       "      <td>(Hassan Toner, Remedios Fincham)</td>\n",
       "      <td>140</td>\n",
       "    </tr>\n",
       "    <tr>\n",
       "      <th>21</th>\n",
       "      <td>(Tora Echevarria, Jarvis Pratts)</td>\n",
       "      <td>140</td>\n",
       "    </tr>\n",
       "    <tr>\n",
       "      <th>20</th>\n",
       "      <td>(Tora Echevarria, Randall Feather)</td>\n",
       "      <td>140</td>\n",
       "    </tr>\n",
       "    <tr>\n",
       "      <th>23</th>\n",
       "      <td>(Hassan Toner, Tasia Dube)</td>\n",
       "      <td>134</td>\n",
       "    </tr>\n",
       "    <tr>\n",
       "      <th>24</th>\n",
       "      <td>(Hassan Toner, Kiera Loar)</td>\n",
       "      <td>132</td>\n",
       "    </tr>\n",
       "    <tr>\n",
       "      <th>25</th>\n",
       "      <td>(Tora Echevarria, Remedios Fincham)</td>\n",
       "      <td>132</td>\n",
       "    </tr>\n",
       "    <tr>\n",
       "      <th>26</th>\n",
       "      <td>(Hassan Toner, Randall Feather)</td>\n",
       "      <td>131</td>\n",
       "    </tr>\n",
       "    <tr>\n",
       "      <th>27</th>\n",
       "      <td>(Tora Echevarria, Anisha Mathes)</td>\n",
       "      <td>131</td>\n",
       "    </tr>\n",
       "    <tr>\n",
       "      <th>28</th>\n",
       "      <td>(Lorrine Paek, Randall Feather)</td>\n",
       "      <td>124</td>\n",
       "    </tr>\n",
       "    <tr>\n",
       "      <th>30</th>\n",
       "      <td>(Randall Feather, Corrine Gallop)</td>\n",
       "      <td>123</td>\n",
       "    </tr>\n",
       "    <tr>\n",
       "      <th>29</th>\n",
       "      <td>(Tora Echevarria, Kiera Loar)</td>\n",
       "      <td>123</td>\n",
       "    </tr>\n",
       "    <tr>\n",
       "      <th>31</th>\n",
       "      <td>(Vonk Billips, Julieta Knapp)</td>\n",
       "      <td>122</td>\n",
       "    </tr>\n",
       "    <tr>\n",
       "      <th>32</th>\n",
       "      <td>(Lorrine Paek, Adriene Wilde)</td>\n",
       "      <td>118</td>\n",
       "    </tr>\n",
       "    <tr>\n",
       "      <th>33</th>\n",
       "      <td>(Lorrine Paek, Remedios Fincham)</td>\n",
       "      <td>118</td>\n",
       "    </tr>\n",
       "    <tr>\n",
       "      <th>34</th>\n",
       "      <td>(Annie Lapham, Chung Zertuche)</td>\n",
       "      <td>113</td>\n",
       "    </tr>\n",
       "    <tr>\n",
       "      <th>35</th>\n",
       "      <td>(Anisha Mathes, Annie Lapham)</td>\n",
       "      <td>106</td>\n",
       "    </tr>\n",
       "    <tr>\n",
       "      <th>36</th>\n",
       "      <td>(Corrine Gallop, Kiera Loar)</td>\n",
       "      <td>102</td>\n",
       "    </tr>\n",
       "    <tr>\n",
       "      <th>37</th>\n",
       "      <td>(Annie Lapham, Kiera Loar)</td>\n",
       "      <td>102</td>\n",
       "    </tr>\n",
       "    <tr>\n",
       "      <th>38</th>\n",
       "      <td>(Hassan Toner, Adriene Wilde)</td>\n",
       "      <td>101</td>\n",
       "    </tr>\n",
       "    <tr>\n",
       "      <th>39</th>\n",
       "      <td>(Jarvis Pratts, Annie Lapham)</td>\n",
       "      <td>98</td>\n",
       "    </tr>\n",
       "    <tr>\n",
       "      <th>40</th>\n",
       "      <td>(Aurea Durrance, Annie Lapham)</td>\n",
       "      <td>96</td>\n",
       "    </tr>\n",
       "    <tr>\n",
       "      <th>42</th>\n",
       "      <td>(Tora Echevarria, Adriene Wilde)</td>\n",
       "      <td>96</td>\n",
       "    </tr>\n",
       "    <tr>\n",
       "      <th>41</th>\n",
       "      <td>(Remedios Fincham, Annie Lapham)</td>\n",
       "      <td>96</td>\n",
       "    </tr>\n",
       "    <tr>\n",
       "      <th>43</th>\n",
       "      <td>(Stephine Gatlin, Hassan Toner)</td>\n",
       "      <td>94</td>\n",
       "    </tr>\n",
       "    <tr>\n",
       "      <th>44</th>\n",
       "      <td>(Chung Zertuche, Kiera Loar)</td>\n",
       "      <td>92</td>\n",
       "    </tr>\n",
       "    <tr>\n",
       "      <th>45</th>\n",
       "      <td>(Anisha Mathes, Jarvis Pratts)</td>\n",
       "      <td>89</td>\n",
       "    </tr>\n",
       "    <tr>\n",
       "      <th>46</th>\n",
       "      <td>(Hassan Toner, Leatrice Heer)</td>\n",
       "      <td>89</td>\n",
       "    </tr>\n",
       "    <tr>\n",
       "      <th>47</th>\n",
       "      <td>(Lorrine Paek, Narcisa Core)</td>\n",
       "      <td>88</td>\n",
       "    </tr>\n",
       "    <tr>\n",
       "      <th>48</th>\n",
       "      <td>(Augusta Beltrami, Grover Gibbons)</td>\n",
       "      <td>88</td>\n",
       "    </tr>\n",
       "    <tr>\n",
       "      <th>49</th>\n",
       "      <td>(Tora Echevarria, Corrine Gallop)</td>\n",
       "      <td>87</td>\n",
       "    </tr>\n",
       "  </tbody>\n",
       "</table>\n",
       "</div>"
      ],
      "text/plain": [
       "                                   Pair  Co-absence\n",
       "0          (Lorrine Paek, Hassan Toner)         282\n",
       "1       (Lorrine Paek, Tora Echevarria)         278\n",
       "2       (Tora Echevarria, Hassan Toner)         267\n",
       "3          (Lorrine Paek, Annie Lapham)         220\n",
       "4       (Tora Echevarria, Annie Lapham)         200\n",
       "5          (Hassan Toner, Annie Lapham)         190\n",
       "6        (Lorrine Paek, Chung Zertuche)         169\n",
       "7        (Lorrine Paek, Aurea Durrance)         156\n",
       "8       (Chung Zertuche, Adriene Wilde)         155\n",
       "9         (Hassan Toner, Jarvis Pratts)         155\n",
       "10        (Lorrine Paek, Anisha Mathes)         155\n",
       "12    (Aurea Durrance, Tora Echevarria)         151\n",
       "11       (Hassan Toner, Chung Zertuche)         151\n",
       "13        (Lorrine Paek, Jarvis Pratts)         149\n",
       "14       (Aurea Durrance, Hassan Toner)         146\n",
       "15           (Lorrine Paek, Tasia Dube)         146\n",
       "16           (Lorrine Paek, Kiera Loar)         144\n",
       "17    (Tora Echevarria, Chung Zertuche)         143\n",
       "18        (Anisha Mathes, Hassan Toner)         143\n",
       "19        (Tora Echevarria, Tasia Dube)         141\n",
       "22     (Hassan Toner, Remedios Fincham)         140\n",
       "21     (Tora Echevarria, Jarvis Pratts)         140\n",
       "20   (Tora Echevarria, Randall Feather)         140\n",
       "23           (Hassan Toner, Tasia Dube)         134\n",
       "24           (Hassan Toner, Kiera Loar)         132\n",
       "25  (Tora Echevarria, Remedios Fincham)         132\n",
       "26      (Hassan Toner, Randall Feather)         131\n",
       "27     (Tora Echevarria, Anisha Mathes)         131\n",
       "28      (Lorrine Paek, Randall Feather)         124\n",
       "30    (Randall Feather, Corrine Gallop)         123\n",
       "29        (Tora Echevarria, Kiera Loar)         123\n",
       "31        (Vonk Billips, Julieta Knapp)         122\n",
       "32        (Lorrine Paek, Adriene Wilde)         118\n",
       "33     (Lorrine Paek, Remedios Fincham)         118\n",
       "34       (Annie Lapham, Chung Zertuche)         113\n",
       "35        (Anisha Mathes, Annie Lapham)         106\n",
       "36         (Corrine Gallop, Kiera Loar)         102\n",
       "37           (Annie Lapham, Kiera Loar)         102\n",
       "38        (Hassan Toner, Adriene Wilde)         101\n",
       "39        (Jarvis Pratts, Annie Lapham)          98\n",
       "40       (Aurea Durrance, Annie Lapham)          96\n",
       "42     (Tora Echevarria, Adriene Wilde)          96\n",
       "41     (Remedios Fincham, Annie Lapham)          96\n",
       "43      (Stephine Gatlin, Hassan Toner)          94\n",
       "44         (Chung Zertuche, Kiera Loar)          92\n",
       "45       (Anisha Mathes, Jarvis Pratts)          89\n",
       "46        (Hassan Toner, Leatrice Heer)          89\n",
       "47         (Lorrine Paek, Narcisa Core)          88\n",
       "48   (Augusta Beltrami, Grover Gibbons)          88\n",
       "49    (Tora Echevarria, Corrine Gallop)          87"
      ]
     },
     "execution_count": 18,
     "metadata": {},
     "output_type": "execute_result"
    }
   ],
   "source": [
    "co_abs_p.head(50)"
   ]
  },
  {
   "cell_type": "code",
   "execution_count": 19,
   "metadata": {},
   "outputs": [
    {
     "name": "stdout",
     "output_type": "stream",
     "text": [
      "['Lorrine Paek', 'Hassan Toner', 'Annie Lapham', 'Chung Zertuche', 'Aurea Durrance', 'Kiera Loar', 'Randall Feather', 'Tora Echevarria', 'Jarvis Pratts', 'Anisha Mathes', 'Adriene Wilde']\n"
     ]
    }
   ],
   "source": [
    "parttimers = [\"Lorrine Paek\", \"Hassan Toner\", \"Annie Lapham\", \"Chung Zertuche\", \"Aurea Durrance\", \"Kiera Loar\", \"Randall Feather\",\n",
    "          \"Tora Echevarria\", \"Jarvis Pratts\", \"Anisha Mathes\", \"Adriene Wilde\"]\n",
    "print(parttimers)"
   ]
  },
  {
   "cell_type": "markdown",
   "metadata": {},
   "source": [
    "#### Identify possible couples by co-absences"
   ]
  },
  {
   "cell_type": "markdown",
   "metadata": {},
   "source": [
    "Remove parttime workers"
   ]
  },
  {
   "cell_type": "code",
   "execution_count": 20,
   "metadata": {},
   "outputs": [],
   "source": [
    "possible = []\n",
    "\n",
    "for i in co_abs_p.values:\n",
    "    if i[0][0] not in parttimers:\n",
    "        if i[0][1] not in parttimers:\n",
    "            possible.append([i[0], i[1]])"
   ]
  },
  {
   "cell_type": "code",
   "execution_count": 21,
   "metadata": {},
   "outputs": [
    {
     "data": {
      "text/plain": [
       "[[('Vonk Billips', 'Julieta Knapp'), 122],\n",
       " [('Augusta Beltrami', 'Grover Gibbons'), 88],\n",
       " [('Remedios Fincham', 'Tasia Dube'), 68],\n",
       " [('Tasia Dube', 'Leatrice Heer'), 63],\n",
       " [('Stephine Gatlin', 'Remedios Fincham'), 63]]"
      ]
     },
     "execution_count": 21,
     "metadata": {},
     "output_type": "execute_result"
    }
   ],
   "source": [
    "x = possible[:5]\n",
    "x"
   ]
  },
  {
   "cell_type": "code",
   "execution_count": 22,
   "metadata": {},
   "outputs": [
    {
     "data": {
      "text/html": [
       "<div>\n",
       "<style scoped>\n",
       "    .dataframe tbody tr th:only-of-type {\n",
       "        vertical-align: middle;\n",
       "    }\n",
       "\n",
       "    .dataframe tbody tr th {\n",
       "        vertical-align: top;\n",
       "    }\n",
       "\n",
       "    .dataframe thead th {\n",
       "        text-align: right;\n",
       "    }\n",
       "</style>\n",
       "<table border=\"1\" class=\"dataframe\">\n",
       "  <thead>\n",
       "    <tr style=\"text-align: right;\">\n",
       "      <th></th>\n",
       "      <th>Pair</th>\n",
       "      <th>Absence</th>\n",
       "    </tr>\n",
       "  </thead>\n",
       "  <tbody>\n",
       "    <tr>\n",
       "      <th>0</th>\n",
       "      <td>(Vonk Billips, Julieta Knapp)</td>\n",
       "      <td>122</td>\n",
       "    </tr>\n",
       "    <tr>\n",
       "      <th>1</th>\n",
       "      <td>(Augusta Beltrami, Grover Gibbons)</td>\n",
       "      <td>88</td>\n",
       "    </tr>\n",
       "    <tr>\n",
       "      <th>2</th>\n",
       "      <td>(Remedios Fincham, Tasia Dube)</td>\n",
       "      <td>68</td>\n",
       "    </tr>\n",
       "    <tr>\n",
       "      <th>3</th>\n",
       "      <td>(Tasia Dube, Leatrice Heer)</td>\n",
       "      <td>63</td>\n",
       "    </tr>\n",
       "    <tr>\n",
       "      <th>4</th>\n",
       "      <td>(Stephine Gatlin, Remedios Fincham)</td>\n",
       "      <td>63</td>\n",
       "    </tr>\n",
       "  </tbody>\n",
       "</table>\n",
       "</div>"
      ],
      "text/plain": [
       "                                  Pair  Absence\n",
       "0        (Vonk Billips, Julieta Knapp)      122\n",
       "1   (Augusta Beltrami, Grover Gibbons)       88\n",
       "2       (Remedios Fincham, Tasia Dube)       68\n",
       "3          (Tasia Dube, Leatrice Heer)       63\n",
       "4  (Stephine Gatlin, Remedios Fincham)       63"
      ]
     },
     "execution_count": 22,
     "metadata": {},
     "output_type": "execute_result"
    }
   ],
   "source": [
    "pairs_ = []\n",
    "amount_ = []\n",
    "\n",
    "for i in x:\n",
    "    pairs_.append(i[0])\n",
    "    amount_.append(i[1])\n",
    "    \n",
    "couples = pd.DataFrame()\n",
    "\n",
    "couples[\"Pair\"] = pairs_\n",
    "couples[\"Absence\"] = amount_\n",
    "\n",
    "couples"
   ]
  }
 ],
 "metadata": {
  "kernelspec": {
   "display_name": "Python 3",
   "language": "python",
   "name": "python3"
  },
  "language_info": {
   "codemirror_mode": {
    "name": "ipython",
    "version": 3
   },
   "file_extension": ".py",
   "mimetype": "text/x-python",
   "name": "python",
   "nbconvert_exporter": "python",
   "pygments_lexer": "ipython3",
   "version": "3.7.6"
  }
 },
 "nbformat": 4,
 "nbformat_minor": 4
}
