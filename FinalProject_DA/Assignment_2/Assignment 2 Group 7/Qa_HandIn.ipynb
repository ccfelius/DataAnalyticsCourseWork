{
 "cells": [
  {
   "cell_type": "markdown",
   "metadata": {},
   "source": [
    "# Second Assignment"
   ]
  },
  {
   "cell_type": "markdown",
   "metadata": {},
   "source": [
    "## Question A"
   ]
  },
  {
   "cell_type": "code",
   "execution_count": 30,
   "metadata": {},
   "outputs": [],
   "source": [
    "import pickle \n",
    "import pandas as pd"
   ]
  },
  {
   "cell_type": "code",
   "execution_count": 31,
   "metadata": {},
   "outputs": [],
   "source": [
    "# Open AS dataset\n",
    "\n",
    "with open('Data/AS_dataset.pkl', 'rb') as AS_data:\n",
    "    data2 = pickle.load(AS_data)"
   ]
  },
  {
   "cell_type": "code",
   "execution_count": 5,
   "metadata": {},
   "outputs": [],
   "source": [
    "# Filter AS dataset on EU codes\n",
    "\n",
    "countryCodesEU = [\"AT\", \"BE\", \"BG\", \"CY\", \"CZ\", \"DE\", \"DK\", \"EE\", \"ES\", \"FI\",\n",
    "\"FR\", \"GB\", \"GR\", \"HR\", \"HU\", \"IE\", \"IT\", \"LT\", \"LU\", \"LV\",\n",
    "\"MT\", \"NL\", \"PL\", \"PT\", \"RO\", \"SE\", \"SI\", \"SK\"]\n",
    "\n",
    "\n",
    "EU_data = data2[data2['Country'].isin(countryCodesEU)]\n",
    "EU_data3 = EU_data[EU_data['type'] == 'hosting']"
   ]
  },
  {
   "cell_type": "code",
   "execution_count": 6,
   "metadata": {},
   "outputs": [
    {
     "data": {
      "text/plain": [
       "649"
      ]
     },
     "execution_count": 6,
     "metadata": {},
     "output_type": "execute_result"
    }
   ],
   "source": [
    "len(EU_data3)"
   ]
  },
  {
   "cell_type": "code",
   "execution_count": 7,
   "metadata": {},
   "outputs": [],
   "source": [
    "# Find unique ASN's from dataset AS\n",
    "\n",
    "ASN_COL = EU_data3['ASN']\n",
    "ASN_COL2 = ASN_COL.unique()"
   ]
  },
  {
   "cell_type": "code",
   "execution_count": 8,
   "metadata": {},
   "outputs": [
    {
     "name": "stdout",
     "output_type": "stream",
     "text": [
      "649\n",
      "649\n"
     ]
    }
   ],
   "source": [
    "# Unique ASN's, for every entry there is a different ASN\n",
    "\n",
    "print(len(ASN_COL2))\n",
    "print(len(ASN_COL))"
   ]
  },
  {
   "cell_type": "code",
   "execution_count": 32,
   "metadata": {},
   "outputs": [],
   "source": [
    "# Open probe dataset\n",
    "\n",
    "with open('Data/probe_dataset.pkl', 'rb') as probe_data:\n",
    "    data = pickle.load(probe_data)"
   ]
  },
  {
   "cell_type": "code",
   "execution_count": 11,
   "metadata": {},
   "outputs": [],
   "source": [
    "# Filter probes in probe dataset that have a corresponding AS that occur in AS dataset with Europe AS'es\n",
    "\n",
    "\n",
    "probs = data[data['ASN'].isin(ASN_COL)]"
   ]
  },
  {
   "cell_type": "code",
   "execution_count": 12,
   "metadata": {},
   "outputs": [
    {
     "data": {
      "text/html": [
       "<div>\n",
       "<style scoped>\n",
       "    .dataframe tbody tr th:only-of-type {\n",
       "        vertical-align: middle;\n",
       "    }\n",
       "\n",
       "    .dataframe tbody tr th {\n",
       "        vertical-align: top;\n",
       "    }\n",
       "\n",
       "    .dataframe thead th {\n",
       "        text-align: right;\n",
       "    }\n",
       "</style>\n",
       "<table border=\"1\" class=\"dataframe\">\n",
       "  <thead>\n",
       "    <tr style=\"text-align: right;\">\n",
       "      <th></th>\n",
       "      <th>prb_id</th>\n",
       "      <th>ASN</th>\n",
       "    </tr>\n",
       "  </thead>\n",
       "  <tbody>\n",
       "    <tr>\n",
       "      <th>27</th>\n",
       "      <td>57</td>\n",
       "      <td>AS20621</td>\n",
       "    </tr>\n",
       "    <tr>\n",
       "      <th>42</th>\n",
       "      <td>92</td>\n",
       "      <td>AS12859</td>\n",
       "    </tr>\n",
       "    <tr>\n",
       "      <th>47</th>\n",
       "      <td>107</td>\n",
       "      <td>AS25596</td>\n",
       "    </tr>\n",
       "    <tr>\n",
       "      <th>61</th>\n",
       "      <td>142</td>\n",
       "      <td>AS12637</td>\n",
       "    </tr>\n",
       "    <tr>\n",
       "      <th>62</th>\n",
       "      <td>144</td>\n",
       "      <td>AS12637</td>\n",
       "    </tr>\n",
       "  </tbody>\n",
       "</table>\n",
       "</div>"
      ],
      "text/plain": [
       "   prb_id      ASN\n",
       "27     57  AS20621\n",
       "42     92  AS12859\n",
       "47    107  AS25596\n",
       "61    142  AS12637\n",
       "62    144  AS12637"
      ]
     },
     "execution_count": 12,
     "metadata": {},
     "output_type": "execute_result"
    }
   ],
   "source": [
    "# Turns out to be 6148 probes with their corresponding ASN occur in AS dataset\n",
    "# Not every prob has an unique ASN\n",
    "\n",
    "len(probs)\n",
    "probs.head()"
   ]
  },
  {
   "cell_type": "code",
   "execution_count": 13,
   "metadata": {},
   "outputs": [],
   "source": [
    "prob_ASN = probs['ASN']"
   ]
  },
  {
   "cell_type": "code",
   "execution_count": 14,
   "metadata": {},
   "outputs": [
    {
     "data": {
      "text/plain": [
       "166"
      ]
     },
     "execution_count": 14,
     "metadata": {},
     "output_type": "execute_result"
    }
   ],
   "source": [
    "len(prob_ASN.unique())"
   ]
  },
  {
   "cell_type": "code",
   "execution_count": 15,
   "metadata": {},
   "outputs": [
    {
     "data": {
      "text/plain": [
       "AS35540     34\n",
       "AS25596     28\n",
       "AS16276     15\n",
       "AS24940     10\n",
       "AS60876      8\n",
       "AS203953     6\n",
       "AS41095      6\n",
       "AS12859      4\n",
       "AS197540     4\n",
       "AS15954      4\n",
       "AS61157      4\n",
       "AS39647      4\n",
       "AS16347      4\n",
       "AS29014      4\n",
       "AS197595     4\n",
       "AS13287      3\n",
       "AS9211       3\n",
       "AS24961      3\n",
       "AS15987      3\n",
       "AS39923      3\n",
       "AS8304       3\n",
       "AS48854      3\n",
       "AS60781      3\n",
       "AS197019     3\n",
       "AS201971     3\n",
       "AS39405      3\n",
       "AS51468      3\n",
       "AS12876      3\n",
       "AS16245      3\n",
       "AS29119      3\n",
       "            ..\n",
       "AS200062     1\n",
       "AS47447      1\n",
       "AS42160      1\n",
       "AS41678      1\n",
       "AS29066      1\n",
       "AS196745     1\n",
       "AS12552      1\n",
       "AS41075      1\n",
       "AS33876      1\n",
       "AS5521       1\n",
       "AS25369      1\n",
       "AS15510      1\n",
       "AS30962      1\n",
       "AS34788      1\n",
       "AS61211      1\n",
       "AS42699      1\n",
       "AS15826      1\n",
       "AS21503      1\n",
       "AS48403      1\n",
       "AS205544     1\n",
       "AS198651     1\n",
       "AS39704      1\n",
       "AS39458      1\n",
       "AS51862      1\n",
       "AS31727      1\n",
       "AS49604      1\n",
       "AS25542      1\n",
       "AS61272      1\n",
       "AS29278      1\n",
       "AS201525     1\n",
       "Name: ASN, Length: 166, dtype: int64"
      ]
     },
     "execution_count": 15,
     "metadata": {},
     "output_type": "execute_result"
    }
   ],
   "source": [
    "# Multiple probes can refer to one AS\n",
    "\n",
    "prob_ASN.value_counts()"
   ]
  },
  {
   "cell_type": "code",
   "execution_count": 16,
   "metadata": {},
   "outputs": [
    {
     "data": {
      "text/plain": [
       "366"
      ]
     },
     "execution_count": 16,
     "metadata": {},
     "output_type": "execute_result"
    }
   ],
   "source": [
    "len(prob_ASN)"
   ]
  },
  {
   "cell_type": "code",
   "execution_count": 17,
   "metadata": {},
   "outputs": [
    {
     "data": {
      "text/plain": [
       "166"
      ]
     },
     "execution_count": 17,
     "metadata": {},
     "output_type": "execute_result"
    }
   ],
   "source": [
    "# ASN can have multiple probs, therefore amount reduces\n",
    "\n",
    "EU_Data2 = EU_data[EU_data['ASN'].isin(prob_ASN)]\n",
    "len(EU_Data2)\n",
    "# EU_Data2.head(10)"
   ]
  },
  {
   "cell_type": "code",
   "execution_count": 18,
   "metadata": {},
   "outputs": [
    {
     "data": {
      "text/plain": [
       "hosting    166\n",
       "Name: type, dtype: int64"
      ]
     },
     "execution_count": 18,
     "metadata": {},
     "output_type": "execute_result"
    }
   ],
   "source": [
    "EU_Data2[\"type\"].value_counts()"
   ]
  },
  {
   "cell_type": "code",
   "execution_count": 19,
   "metadata": {},
   "outputs": [],
   "source": [
    "EU_ASN = EU_Data2[EU_Data2[\"type\"] == \"hosting\"]"
   ]
  },
  {
   "cell_type": "code",
   "execution_count": 20,
   "metadata": {},
   "outputs": [
    {
     "data": {
      "text/plain": [
       "166"
      ]
     },
     "execution_count": 20,
     "metadata": {},
     "output_type": "execute_result"
    }
   ],
   "source": [
    "len(EU_ASN)"
   ]
  },
  {
   "cell_type": "code",
   "execution_count": 21,
   "metadata": {},
   "outputs": [
    {
     "data": {
      "text/html": [
       "<div>\n",
       "<style scoped>\n",
       "    .dataframe tbody tr th:only-of-type {\n",
       "        vertical-align: middle;\n",
       "    }\n",
       "\n",
       "    .dataframe tbody tr th {\n",
       "        vertical-align: top;\n",
       "    }\n",
       "\n",
       "    .dataframe thead th {\n",
       "        text-align: right;\n",
       "    }\n",
       "</style>\n",
       "<table border=\"1\" class=\"dataframe\">\n",
       "  <thead>\n",
       "    <tr style=\"text-align: right;\">\n",
       "      <th></th>\n",
       "      <th>ASN</th>\n",
       "      <th>Country</th>\n",
       "      <th>Name</th>\n",
       "      <th>NumIPs</th>\n",
       "      <th>type</th>\n",
       "    </tr>\n",
       "  </thead>\n",
       "  <tbody>\n",
       "    <tr>\n",
       "      <th>3973</th>\n",
       "      <td>AS47692</td>\n",
       "      <td>AT</td>\n",
       "      <td>Nessus GmbH</td>\n",
       "      <td>30,720</td>\n",
       "      <td>hosting</td>\n",
       "    </tr>\n",
       "    <tr>\n",
       "      <th>4022</th>\n",
       "      <td>AS5404</td>\n",
       "      <td>AT</td>\n",
       "      <td>conova communications GmbH</td>\n",
       "      <td>8,448</td>\n",
       "      <td>hosting</td>\n",
       "    </tr>\n",
       "    <tr>\n",
       "      <th>5816</th>\n",
       "      <td>AS34762</td>\n",
       "      <td>BE</td>\n",
       "      <td>Combell NV</td>\n",
       "      <td>98,048</td>\n",
       "      <td>hosting</td>\n",
       "    </tr>\n",
       "    <tr>\n",
       "      <th>5832</th>\n",
       "      <td>AS42160</td>\n",
       "      <td>BE</td>\n",
       "      <td>lcp nv</td>\n",
       "      <td>15,360</td>\n",
       "      <td>hosting</td>\n",
       "    </tr>\n",
       "    <tr>\n",
       "      <th>5840</th>\n",
       "      <td>AS39923</td>\n",
       "      <td>BE</td>\n",
       "      <td>Unix-Solutions BVBA</td>\n",
       "      <td>9,728</td>\n",
       "      <td>hosting</td>\n",
       "    </tr>\n",
       "  </tbody>\n",
       "</table>\n",
       "</div>"
      ],
      "text/plain": [
       "          ASN Country                        Name  NumIPs     type\n",
       "3973  AS47692      AT                 Nessus GmbH  30,720  hosting\n",
       "4022   AS5404      AT  conova communications GmbH   8,448  hosting\n",
       "5816  AS34762      BE                  Combell NV  98,048  hosting\n",
       "5832  AS42160      BE                      lcp nv  15,360  hosting\n",
       "5840  AS39923      BE         Unix-Solutions BVBA   9,728  hosting"
      ]
     },
     "execution_count": 21,
     "metadata": {},
     "output_type": "execute_result"
    }
   ],
   "source": [
    "EU_ASN.head()"
   ]
  },
  {
   "cell_type": "code",
   "execution_count": 22,
   "metadata": {},
   "outputs": [],
   "source": [
    "# Algorithm for splitting strings to ints in order to make them able to sort correctly\n",
    "\n",
    "import re\n",
    "\n",
    "numbers = []\n",
    "\n",
    "for val in EU_ASN[\"ASN\"]:\n",
    "    numbers.append(int(re.sub(\"[^0-9]\", \"\", val)))"
   ]
  },
  {
   "cell_type": "code",
   "execution_count": 23,
   "metadata": {},
   "outputs": [],
   "source": [
    "# Create new column that has accesible numbers to sort\n",
    "\n",
    "EU_ASN[\"SortValue\"] = numbers"
   ]
  },
  {
   "cell_type": "code",
   "execution_count": 24,
   "metadata": {},
   "outputs": [
    {
     "data": {
      "text/html": [
       "<div>\n",
       "<style scoped>\n",
       "    .dataframe tbody tr th:only-of-type {\n",
       "        vertical-align: middle;\n",
       "    }\n",
       "\n",
       "    .dataframe tbody tr th {\n",
       "        vertical-align: top;\n",
       "    }\n",
       "\n",
       "    .dataframe thead th {\n",
       "        text-align: right;\n",
       "    }\n",
       "</style>\n",
       "<table border=\"1\" class=\"dataframe\">\n",
       "  <thead>\n",
       "    <tr style=\"text-align: right;\">\n",
       "      <th></th>\n",
       "      <th>ASN</th>\n",
       "      <th>Country</th>\n",
       "      <th>Name</th>\n",
       "      <th>NumIPs</th>\n",
       "      <th>type</th>\n",
       "      <th>SortValue</th>\n",
       "    </tr>\n",
       "  </thead>\n",
       "  <tbody>\n",
       "    <tr>\n",
       "      <th>4022</th>\n",
       "      <td>AS5404</td>\n",
       "      <td>AT</td>\n",
       "      <td>conova communications GmbH</td>\n",
       "      <td>8,448</td>\n",
       "      <td>hosting</td>\n",
       "      <td>5404</td>\n",
       "    </tr>\n",
       "    <tr>\n",
       "      <th>18697</th>\n",
       "      <td>AS5430</td>\n",
       "      <td>DE</td>\n",
       "      <td>freenet Datenkommunikations GmbH</td>\n",
       "      <td>722,432</td>\n",
       "      <td>hosting</td>\n",
       "      <td>5430</td>\n",
       "    </tr>\n",
       "    <tr>\n",
       "      <th>18895</th>\n",
       "      <td>AS5521</td>\n",
       "      <td>DE</td>\n",
       "      <td>PlusServer GmbH</td>\n",
       "      <td>22,528</td>\n",
       "      <td>hosting</td>\n",
       "      <td>5521</td>\n",
       "    </tr>\n",
       "    <tr>\n",
       "      <th>18719</th>\n",
       "      <td>AS6724</td>\n",
       "      <td>DE</td>\n",
       "      <td>Strato AG</td>\n",
       "      <td>166,144</td>\n",
       "      <td>hosting</td>\n",
       "      <td>6724</td>\n",
       "    </tr>\n",
       "    <tr>\n",
       "      <th>16715</th>\n",
       "      <td>AS8304</td>\n",
       "      <td>FR</td>\n",
       "      <td>Ecritel SARL</td>\n",
       "      <td>56,832</td>\n",
       "      <td>hosting</td>\n",
       "      <td>8304</td>\n",
       "    </tr>\n",
       "  </tbody>\n",
       "</table>\n",
       "</div>"
      ],
      "text/plain": [
       "          ASN Country                              Name   NumIPs     type  \\\n",
       "4022   AS5404      AT        conova communications GmbH    8,448  hosting   \n",
       "18697  AS5430      DE  freenet Datenkommunikations GmbH  722,432  hosting   \n",
       "18895  AS5521      DE                   PlusServer GmbH   22,528  hosting   \n",
       "18719  AS6724      DE                         Strato AG  166,144  hosting   \n",
       "16715  AS8304      FR                      Ecritel SARL   56,832  hosting   \n",
       "\n",
       "       SortValue  \n",
       "4022        5404  \n",
       "18697       5430  \n",
       "18895       5521  \n",
       "18719       6724  \n",
       "16715       8304  "
      ]
     },
     "execution_count": 24,
     "metadata": {},
     "output_type": "execute_result"
    }
   ],
   "source": [
    "# Sort in ascending order by new column 'SortValue'\n",
    "\n",
    "EU_ASN_p = EU_ASN.sort_values(by ='SortValue')\n",
    "\n",
    "# Check whether new dataset is indeed sorted as intended\n",
    "\n",
    "EU_ASN_p.head()"
   ]
  },
  {
   "cell_type": "code",
   "execution_count": 25,
   "metadata": {},
   "outputs": [
    {
     "data": {
      "text/html": [
       "<div>\n",
       "<style scoped>\n",
       "    .dataframe tbody tr th:only-of-type {\n",
       "        vertical-align: middle;\n",
       "    }\n",
       "\n",
       "    .dataframe tbody tr th {\n",
       "        vertical-align: top;\n",
       "    }\n",
       "\n",
       "    .dataframe thead th {\n",
       "        text-align: right;\n",
       "    }\n",
       "</style>\n",
       "<table border=\"1\" class=\"dataframe\">\n",
       "  <thead>\n",
       "    <tr style=\"text-align: right;\">\n",
       "      <th></th>\n",
       "      <th>ASN</th>\n",
       "      <th>Country</th>\n",
       "      <th>Name</th>\n",
       "      <th>NumIPs</th>\n",
       "      <th>type</th>\n",
       "      <th>SortValue</th>\n",
       "    </tr>\n",
       "  </thead>\n",
       "  <tbody>\n",
       "    <tr>\n",
       "      <th>4022</th>\n",
       "      <td>AS5404</td>\n",
       "      <td>AT</td>\n",
       "      <td>conova communications GmbH</td>\n",
       "      <td>8,448</td>\n",
       "      <td>hosting</td>\n",
       "      <td>5404</td>\n",
       "    </tr>\n",
       "    <tr>\n",
       "      <th>18697</th>\n",
       "      <td>AS5430</td>\n",
       "      <td>DE</td>\n",
       "      <td>freenet Datenkommunikations GmbH</td>\n",
       "      <td>722,432</td>\n",
       "      <td>hosting</td>\n",
       "      <td>5430</td>\n",
       "    </tr>\n",
       "    <tr>\n",
       "      <th>18895</th>\n",
       "      <td>AS5521</td>\n",
       "      <td>DE</td>\n",
       "      <td>PlusServer GmbH</td>\n",
       "      <td>22,528</td>\n",
       "      <td>hosting</td>\n",
       "      <td>5521</td>\n",
       "    </tr>\n",
       "  </tbody>\n",
       "</table>\n",
       "</div>"
      ],
      "text/plain": [
       "          ASN Country                              Name   NumIPs     type  \\\n",
       "4022   AS5404      AT        conova communications GmbH    8,448  hosting   \n",
       "18697  AS5430      DE  freenet Datenkommunikations GmbH  722,432  hosting   \n",
       "18895  AS5521      DE                   PlusServer GmbH   22,528  hosting   \n",
       "\n",
       "       SortValue  \n",
       "4022        5404  \n",
       "18697       5430  \n",
       "18895       5521  "
      ]
     },
     "execution_count": 25,
     "metadata": {},
     "output_type": "execute_result"
    }
   ],
   "source": [
    "# Print first 3\n",
    "\n",
    "EU_ASN_p.head(3)"
   ]
  },
  {
   "cell_type": "code",
   "execution_count": 26,
   "metadata": {},
   "outputs": [
    {
     "data": {
      "text/html": [
       "<div>\n",
       "<style scoped>\n",
       "    .dataframe tbody tr th:only-of-type {\n",
       "        vertical-align: middle;\n",
       "    }\n",
       "\n",
       "    .dataframe tbody tr th {\n",
       "        vertical-align: top;\n",
       "    }\n",
       "\n",
       "    .dataframe thead th {\n",
       "        text-align: right;\n",
       "    }\n",
       "</style>\n",
       "<table border=\"1\" class=\"dataframe\">\n",
       "  <thead>\n",
       "    <tr style=\"text-align: right;\">\n",
       "      <th></th>\n",
       "      <th>ASN</th>\n",
       "      <th>Country</th>\n",
       "      <th>Name</th>\n",
       "      <th>NumIPs</th>\n",
       "      <th>type</th>\n",
       "      <th>SortValue</th>\n",
       "    </tr>\n",
       "  </thead>\n",
       "  <tbody>\n",
       "    <tr>\n",
       "      <th>15377</th>\n",
       "      <td>AS203953</td>\n",
       "      <td>DK</td>\n",
       "      <td>Hiper A/S</td>\n",
       "      <td>17,408</td>\n",
       "      <td>hosting</td>\n",
       "      <td>203953</td>\n",
       "    </tr>\n",
       "    <tr>\n",
       "      <th>54697</th>\n",
       "      <td>AS205544</td>\n",
       "      <td>GB</td>\n",
       "      <td>LEASEWEB UK LIMITED</td>\n",
       "      <td>12,032</td>\n",
       "      <td>hosting</td>\n",
       "      <td>205544</td>\n",
       "    </tr>\n",
       "    <tr>\n",
       "      <th>19599</th>\n",
       "      <td>AS205766</td>\n",
       "      <td>DE</td>\n",
       "      <td>Jonas Pasche</td>\n",
       "      <td>1,792</td>\n",
       "      <td>hosting</td>\n",
       "      <td>205766</td>\n",
       "    </tr>\n",
       "  </tbody>\n",
       "</table>\n",
       "</div>"
      ],
      "text/plain": [
       "            ASN Country                 Name  NumIPs     type  SortValue\n",
       "15377  AS203953      DK            Hiper A/S  17,408  hosting     203953\n",
       "54697  AS205544      GB  LEASEWEB UK LIMITED  12,032  hosting     205544\n",
       "19599  AS205766      DE         Jonas Pasche   1,792  hosting     205766"
      ]
     },
     "execution_count": 26,
     "metadata": {},
     "output_type": "execute_result"
    }
   ],
   "source": [
    "# Print last 3\n",
    "\n",
    "EU_ASN_p.tail(3)"
   ]
  },
  {
   "cell_type": "markdown",
   "metadata": {},
   "source": [
    "**Below this point was just code out of curiousity. It is not relevant for the assignment.**"
   ]
  },
  {
   "cell_type": "code",
   "execution_count": 27,
   "metadata": {},
   "outputs": [
    {
     "data": {
      "text/html": [
       "<div>\n",
       "<style scoped>\n",
       "    .dataframe tbody tr th:only-of-type {\n",
       "        vertical-align: middle;\n",
       "    }\n",
       "\n",
       "    .dataframe tbody tr th {\n",
       "        vertical-align: top;\n",
       "    }\n",
       "\n",
       "    .dataframe thead th {\n",
       "        text-align: right;\n",
       "    }\n",
       "</style>\n",
       "<table border=\"1\" class=\"dataframe\">\n",
       "  <thead>\n",
       "    <tr style=\"text-align: right;\">\n",
       "      <th></th>\n",
       "      <th>ASN</th>\n",
       "      <th>Country</th>\n",
       "      <th>Name</th>\n",
       "      <th>NumIPs</th>\n",
       "      <th>type</th>\n",
       "      <th>SortValue</th>\n",
       "    </tr>\n",
       "  </thead>\n",
       "  <tbody>\n",
       "    <tr>\n",
       "      <th>34736</th>\n",
       "      <td>AS8315</td>\n",
       "      <td>NL</td>\n",
       "      <td>Sentia Netherlands BV</td>\n",
       "      <td>38,656</td>\n",
       "      <td>hosting</td>\n",
       "      <td>8315</td>\n",
       "    </tr>\n",
       "    <tr>\n",
       "      <th>34714</th>\n",
       "      <td>AS12859</td>\n",
       "      <td>NL</td>\n",
       "      <td>BIT BV</td>\n",
       "      <td>66,816</td>\n",
       "      <td>hosting</td>\n",
       "      <td>12859</td>\n",
       "    </tr>\n",
       "    <tr>\n",
       "      <th>34678</th>\n",
       "      <td>AS15879</td>\n",
       "      <td>NL</td>\n",
       "      <td>KPN Internedservices B.V.</td>\n",
       "      <td>168,960</td>\n",
       "      <td>hosting</td>\n",
       "      <td>15879</td>\n",
       "    </tr>\n",
       "    <tr>\n",
       "      <th>34751</th>\n",
       "      <td>AS20559</td>\n",
       "      <td>NL</td>\n",
       "      <td>Fundaments B.V.</td>\n",
       "      <td>27,136</td>\n",
       "      <td>hosting</td>\n",
       "      <td>20559</td>\n",
       "    </tr>\n",
       "    <tr>\n",
       "      <th>34682</th>\n",
       "      <td>AS20857</td>\n",
       "      <td>NL</td>\n",
       "      <td>Transip B.V.</td>\n",
       "      <td>140,032</td>\n",
       "      <td>hosting</td>\n",
       "      <td>20857</td>\n",
       "    </tr>\n",
       "    <tr>\n",
       "      <th>34791</th>\n",
       "      <td>AS24875</td>\n",
       "      <td>NL</td>\n",
       "      <td>NovoServe B.V.</td>\n",
       "      <td>14,848</td>\n",
       "      <td>hosting</td>\n",
       "      <td>24875</td>\n",
       "    </tr>\n",
       "    <tr>\n",
       "      <th>34778</th>\n",
       "      <td>AS25151</td>\n",
       "      <td>NL</td>\n",
       "      <td>Cyso Management B.V.</td>\n",
       "      <td>16,640</td>\n",
       "      <td>hosting</td>\n",
       "      <td>25151</td>\n",
       "    </tr>\n",
       "    <tr>\n",
       "      <th>34747</th>\n",
       "      <td>AS25542</td>\n",
       "      <td>NL</td>\n",
       "      <td>Netspider Group B.V.</td>\n",
       "      <td>31,232</td>\n",
       "      <td>hosting</td>\n",
       "      <td>25542</td>\n",
       "    </tr>\n",
       "    <tr>\n",
       "      <th>34773</th>\n",
       "      <td>AS25596</td>\n",
       "      <td>NL</td>\n",
       "      <td>Cambrium IT Services B.V.</td>\n",
       "      <td>18,432</td>\n",
       "      <td>hosting</td>\n",
       "      <td>25596</td>\n",
       "    </tr>\n",
       "    <tr>\n",
       "      <th>34724</th>\n",
       "      <td>AS28878</td>\n",
       "      <td>NL</td>\n",
       "      <td>Signet B.V.</td>\n",
       "      <td>54,272</td>\n",
       "      <td>hosting</td>\n",
       "      <td>28878</td>\n",
       "    </tr>\n",
       "    <tr>\n",
       "      <th>34772</th>\n",
       "      <td>AS31673</td>\n",
       "      <td>NL</td>\n",
       "      <td>Uniserver Internet B.V.</td>\n",
       "      <td>18,432</td>\n",
       "      <td>hosting</td>\n",
       "      <td>31673</td>\n",
       "    </tr>\n",
       "    <tr>\n",
       "      <th>34688</th>\n",
       "      <td>AS39647</td>\n",
       "      <td>NL</td>\n",
       "      <td>Within Reach Group B.V.</td>\n",
       "      <td>130,048</td>\n",
       "      <td>hosting</td>\n",
       "      <td>39647</td>\n",
       "    </tr>\n",
       "    <tr>\n",
       "      <th>34776</th>\n",
       "      <td>AS39704</td>\n",
       "      <td>NL</td>\n",
       "      <td>CJ2 Hosting B.V.</td>\n",
       "      <td>17,664</td>\n",
       "      <td>hosting</td>\n",
       "      <td>39704</td>\n",
       "    </tr>\n",
       "    <tr>\n",
       "      <th>34677</th>\n",
       "      <td>AS41095</td>\n",
       "      <td>NL</td>\n",
       "      <td>IPTP LTD</td>\n",
       "      <td>171,008</td>\n",
       "      <td>hosting</td>\n",
       "      <td>41095</td>\n",
       "    </tr>\n",
       "    <tr>\n",
       "      <th>34761</th>\n",
       "      <td>AS41887</td>\n",
       "      <td>NL</td>\n",
       "      <td>Prolocation B.V.</td>\n",
       "      <td>22,784</td>\n",
       "      <td>hosting</td>\n",
       "      <td>41887</td>\n",
       "    </tr>\n",
       "    <tr>\n",
       "      <th>34841</th>\n",
       "      <td>AS42093</td>\n",
       "      <td>NL</td>\n",
       "      <td>InterRacks C.V.</td>\n",
       "      <td>8,192</td>\n",
       "      <td>hosting</td>\n",
       "      <td>42093</td>\n",
       "    </tr>\n",
       "    <tr>\n",
       "      <th>34699</th>\n",
       "      <td>AS43350</td>\n",
       "      <td>NL</td>\n",
       "      <td>NForce Entertainment B.V.</td>\n",
       "      <td>90,112</td>\n",
       "      <td>hosting</td>\n",
       "      <td>43350</td>\n",
       "    </tr>\n",
       "    <tr>\n",
       "      <th>34737</th>\n",
       "      <td>AS47869</td>\n",
       "      <td>NL</td>\n",
       "      <td>Ellada Projects B.V. trading as Netrouting</td>\n",
       "      <td>38,400</td>\n",
       "      <td>hosting</td>\n",
       "      <td>47869</td>\n",
       "    </tr>\n",
       "    <tr>\n",
       "      <th>34722</th>\n",
       "      <td>AS49981</td>\n",
       "      <td>NL</td>\n",
       "      <td>WorldStream B.V.</td>\n",
       "      <td>64,512</td>\n",
       "      <td>hosting</td>\n",
       "      <td>49981</td>\n",
       "    </tr>\n",
       "    <tr>\n",
       "      <th>34692</th>\n",
       "      <td>AS50673</td>\n",
       "      <td>NL</td>\n",
       "      <td>Serverius Holding B.V.</td>\n",
       "      <td>105,472</td>\n",
       "      <td>hosting</td>\n",
       "      <td>50673</td>\n",
       "    </tr>\n",
       "    <tr>\n",
       "      <th>34735</th>\n",
       "      <td>AS51088</td>\n",
       "      <td>NL</td>\n",
       "      <td>A2B IP B.V.</td>\n",
       "      <td>38,912</td>\n",
       "      <td>hosting</td>\n",
       "      <td>51088</td>\n",
       "    </tr>\n",
       "    <tr>\n",
       "      <th>34790</th>\n",
       "      <td>AS60144</td>\n",
       "      <td>NL</td>\n",
       "      <td>3W Infra B.V.</td>\n",
       "      <td>15,104</td>\n",
       "      <td>hosting</td>\n",
       "      <td>60144</td>\n",
       "    </tr>\n",
       "    <tr>\n",
       "      <th>34665</th>\n",
       "      <td>AS60781</td>\n",
       "      <td>NL</td>\n",
       "      <td>LeaseWeb Netherlands B.V.</td>\n",
       "      <td>434,176</td>\n",
       "      <td>hosting</td>\n",
       "      <td>60781</td>\n",
       "    </tr>\n",
       "  </tbody>\n",
       "</table>\n",
       "</div>"
      ],
      "text/plain": [
       "           ASN Country                                        Name   NumIPs  \\\n",
       "34736   AS8315      NL                       Sentia Netherlands BV   38,656   \n",
       "34714  AS12859      NL                                      BIT BV   66,816   \n",
       "34678  AS15879      NL                   KPN Internedservices B.V.  168,960   \n",
       "34751  AS20559      NL                             Fundaments B.V.   27,136   \n",
       "34682  AS20857      NL                                Transip B.V.  140,032   \n",
       "34791  AS24875      NL                              NovoServe B.V.   14,848   \n",
       "34778  AS25151      NL                        Cyso Management B.V.   16,640   \n",
       "34747  AS25542      NL                        Netspider Group B.V.   31,232   \n",
       "34773  AS25596      NL                   Cambrium IT Services B.V.   18,432   \n",
       "34724  AS28878      NL                                 Signet B.V.   54,272   \n",
       "34772  AS31673      NL                     Uniserver Internet B.V.   18,432   \n",
       "34688  AS39647      NL                     Within Reach Group B.V.  130,048   \n",
       "34776  AS39704      NL                            CJ2 Hosting B.V.   17,664   \n",
       "34677  AS41095      NL                                    IPTP LTD  171,008   \n",
       "34761  AS41887      NL                            Prolocation B.V.   22,784   \n",
       "34841  AS42093      NL                             InterRacks C.V.    8,192   \n",
       "34699  AS43350      NL                   NForce Entertainment B.V.   90,112   \n",
       "34737  AS47869      NL  Ellada Projects B.V. trading as Netrouting   38,400   \n",
       "34722  AS49981      NL                            WorldStream B.V.   64,512   \n",
       "34692  AS50673      NL                      Serverius Holding B.V.  105,472   \n",
       "34735  AS51088      NL                                 A2B IP B.V.   38,912   \n",
       "34790  AS60144      NL                               3W Infra B.V.   15,104   \n",
       "34665  AS60781      NL                   LeaseWeb Netherlands B.V.  434,176   \n",
       "\n",
       "          type  SortValue  \n",
       "34736  hosting       8315  \n",
       "34714  hosting      12859  \n",
       "34678  hosting      15879  \n",
       "34751  hosting      20559  \n",
       "34682  hosting      20857  \n",
       "34791  hosting      24875  \n",
       "34778  hosting      25151  \n",
       "34747  hosting      25542  \n",
       "34773  hosting      25596  \n",
       "34724  hosting      28878  \n",
       "34772  hosting      31673  \n",
       "34688  hosting      39647  \n",
       "34776  hosting      39704  \n",
       "34677  hosting      41095  \n",
       "34761  hosting      41887  \n",
       "34841  hosting      42093  \n",
       "34699  hosting      43350  \n",
       "34737  hosting      47869  \n",
       "34722  hosting      49981  \n",
       "34692  hosting      50673  \n",
       "34735  hosting      51088  \n",
       "34790  hosting      60144  \n",
       "34665  hosting      60781  "
      ]
     },
     "execution_count": 27,
     "metadata": {},
     "output_type": "execute_result"
    }
   ],
   "source": [
    "# See which instances in NL provide Autonomous Systems with type hosting\n",
    "\n",
    "EU_ASN_p[EU_ASN_p[\"Country\"] == \"NL\"]"
   ]
  },
  {
   "cell_type": "code",
   "execution_count": 28,
   "metadata": {},
   "outputs": [
    {
     "name": "stdout",
     "output_type": "stream",
     "text": [
      "166\n",
      "14601984\n"
     ]
    }
   ],
   "source": [
    "# Sum number of IP's just out of curiosity\n",
    "\n",
    "sum = 0\n",
    "\n",
    "for i in EU_ASN_p[\"NumIPs\"].values:\n",
    "    sum += int(i.replace(',', ''))\n",
    "\n",
    "print(len(EU_ASN_p[\"NumIPs\"]))\n",
    "print(sum)"
   ]
  },
  {
   "cell_type": "code",
   "execution_count": 29,
   "metadata": {},
   "outputs": [
    {
     "data": {
      "text/plain": [
       "ASN          166\n",
       "Country      166\n",
       "Name         166\n",
       "NumIPs       166\n",
       "type         166\n",
       "SortValue    166\n",
       "dtype: int64"
      ]
     },
     "execution_count": 29,
     "metadata": {},
     "output_type": "execute_result"
    }
   ],
   "source": [
    "# Check whether no values are gone\n",
    "\n",
    "EU_ASN_p.count()"
   ]
  }
 ],
 "metadata": {
  "kernelspec": {
   "display_name": "Python 3",
   "language": "python",
   "name": "python3"
  },
  "language_info": {
   "codemirror_mode": {
    "name": "ipython",
    "version": 3
   },
   "file_extension": ".py",
   "mimetype": "text/x-python",
   "name": "python",
   "nbconvert_exporter": "python",
   "pygments_lexer": "ipython3",
   "version": "3.6.5"
  }
 },
 "nbformat": 4,
 "nbformat_minor": 4
}
