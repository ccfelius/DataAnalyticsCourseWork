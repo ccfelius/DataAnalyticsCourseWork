{
 "cells": [
  {
   "cell_type": "markdown",
   "metadata": {},
   "source": [
    "# First Assignment: De Groote Nationale Investeer Bank"
   ]
  },
  {
   "cell_type": "code",
   "execution_count": 1,
   "metadata": {},
   "outputs": [],
   "source": [
    "### Imports\n",
    "\n",
    "import pandas as pd \n",
    "import numpy as np \n",
    "import sqlite3 \n",
    "%matplotlib inline\n",
    "import matplotlib.pyplot as plt\n",
    "import time"
   ]
  },
  {
   "cell_type": "code",
   "execution_count": 2,
   "metadata": {},
   "outputs": [],
   "source": [
    "# Create your connection to the database\n",
    "cnx = sqlite3.connect('transaction_data.db')\n",
    "\n",
    "start = time.time()\n",
    "\n",
    "# Read SQL data\n",
    "query = \"SELECT * FROM transaction_data\"\n",
    "\n",
    "# Make pandas DataFrame\n",
    "df = pd.read_sql_query(query, cnx)\n",
    "end = time.time()\n",
    "\n",
    "# Copy dataframe in another df for future adjustments\n",
    "\n",
    "df_mut = df"
   ]
  },
  {
   "cell_type": "code",
   "execution_count": 3,
   "metadata": {},
   "outputs": [
    {
     "name": "stdout",
     "output_type": "stream",
     "text": [
      "Reading and writing data to DataFrame took 110.46354675292969 seconds\n"
     ]
    }
   ],
   "source": [
    "# Printing seconds needed\n",
    "\n",
    "print(\"Reading and writing data to DataFrame took \" + str(end-start) + \" seconds\")"
   ]
  },
  {
   "cell_type": "code",
   "execution_count": 4,
   "metadata": {},
   "outputs": [
    {
     "name": "stdout",
     "output_type": "stream",
     "text": [
      "Length of DataFrame is: 7734834\n"
     ]
    },
    {
     "data": {
      "text/html": [
       "<div>\n",
       "<style scoped>\n",
       "    .dataframe tbody tr th:only-of-type {\n",
       "        vertical-align: middle;\n",
       "    }\n",
       "\n",
       "    .dataframe tbody tr th {\n",
       "        vertical-align: top;\n",
       "    }\n",
       "\n",
       "    .dataframe thead th {\n",
       "        text-align: right;\n",
       "    }\n",
       "</style>\n",
       "<table border=\"1\" class=\"dataframe\">\n",
       "  <thead>\n",
       "    <tr style=\"text-align: right;\">\n",
       "      <th></th>\n",
       "      <th>id</th>\n",
       "      <th>timestamp</th>\n",
       "      <th>type</th>\n",
       "      <th>amount</th>\n",
       "      <th>nameOrig</th>\n",
       "      <th>oldbalanceOrig</th>\n",
       "      <th>newbalanceOrig</th>\n",
       "      <th>nameDest</th>\n",
       "      <th>oldbalanceDest</th>\n",
       "      <th>newbalanceDest</th>\n",
       "    </tr>\n",
       "  </thead>\n",
       "  <tbody>\n",
       "    <tr>\n",
       "      <th>0</th>\n",
       "      <td>1</td>\n",
       "      <td>1</td>\n",
       "      <td>TRANSFER</td>\n",
       "      <td>0.01</td>\n",
       "      <td>C1231006815</td>\n",
       "      <td>170136.0</td>\n",
       "      <td>170135.990</td>\n",
       "      <td>C52983754</td>\n",
       "      <td>0.010</td>\n",
       "      <td>0.020</td>\n",
       "    </tr>\n",
       "    <tr>\n",
       "      <th>1</th>\n",
       "      <td>2</td>\n",
       "      <td>1</td>\n",
       "      <td>TRANSFER</td>\n",
       "      <td>9839.640</td>\n",
       "      <td>C1231006815</td>\n",
       "      <td>170136.000</td>\n",
       "      <td>160296.360</td>\n",
       "      <td>M1979787155</td>\n",
       "      <td>0.000</td>\n",
       "      <td>9839.630</td>\n",
       "    </tr>\n",
       "    <tr>\n",
       "      <th>2</th>\n",
       "      <td>3</td>\n",
       "      <td>1</td>\n",
       "      <td>TRANSFER</td>\n",
       "      <td>1864.280</td>\n",
       "      <td>C1666544295</td>\n",
       "      <td>21249.000</td>\n",
       "      <td>19384.720</td>\n",
       "      <td>M2044282225</td>\n",
       "      <td>0.000</td>\n",
       "      <td>1864.280</td>\n",
       "    </tr>\n",
       "    <tr>\n",
       "      <th>3</th>\n",
       "      <td>4</td>\n",
       "      <td>1</td>\n",
       "      <td>TRANSFER</td>\n",
       "      <td>181.000</td>\n",
       "      <td>C1305486145</td>\n",
       "      <td>181.000</td>\n",
       "      <td>0.000</td>\n",
       "      <td>C553264065</td>\n",
       "      <td>0.000</td>\n",
       "      <td>181.000</td>\n",
       "    </tr>\n",
       "    <tr>\n",
       "      <th>4</th>\n",
       "      <td>5</td>\n",
       "      <td>1</td>\n",
       "      <td>TRANSFER</td>\n",
       "      <td>181.000</td>\n",
       "      <td>C840083671</td>\n",
       "      <td>181.000</td>\n",
       "      <td>0.000</td>\n",
       "      <td>C38997010</td>\n",
       "      <td>21182.000</td>\n",
       "      <td>21363.000</td>\n",
       "    </tr>\n",
       "  </tbody>\n",
       "</table>\n",
       "</div>"
      ],
      "text/plain": [
       "   id  timestamp      type    amount     nameOrig oldbalanceOrig  \\\n",
       "0   1          1  TRANSFER      0.01  C1231006815       170136.0   \n",
       "1   2          1  TRANSFER  9839.640  C1231006815     170136.000   \n",
       "2   3          1  TRANSFER  1864.280  C1666544295      21249.000   \n",
       "3   4          1  TRANSFER   181.000  C1305486145        181.000   \n",
       "4   5          1  TRANSFER   181.000   C840083671        181.000   \n",
       "\n",
       "  newbalanceOrig     nameDest oldbalanceDest newbalanceDest  \n",
       "0     170135.990    C52983754          0.010          0.020  \n",
       "1     160296.360  M1979787155          0.000       9839.630  \n",
       "2      19384.720  M2044282225          0.000       1864.280  \n",
       "3          0.000   C553264065          0.000        181.000  \n",
       "4          0.000    C38997010      21182.000      21363.000  "
      ]
     },
     "execution_count": 4,
     "metadata": {},
     "output_type": "execute_result"
    }
   ],
   "source": [
    "# Show first 5 lines from the dataset, print length df\n",
    "\n",
    "print(\"Length of DataFrame is: \" + str(len(df)))\n",
    "df.head()"
   ]
  },
  {
   "cell_type": "markdown",
   "metadata": {},
   "source": [
    "# Examination of columns"
   ]
  },
  {
   "cell_type": "code",
   "execution_count": 5,
   "metadata": {},
   "outputs": [],
   "source": [
    "# Change str types of columns to numeric types\n",
    "\n",
    "df = df.astype({\"id\": int , \"amount\" : float, \"oldbalanceOrig\" : float, \n",
    "               \"newbalanceOrig\" : float, \"oldbalanceDest\" : float, \"newbalanceDest\" : float })"
   ]
  },
  {
   "cell_type": "code",
   "execution_count": 6,
   "metadata": {},
   "outputs": [
    {
     "data": {
      "text/html": [
       "<div>\n",
       "<style scoped>\n",
       "    .dataframe tbody tr th:only-of-type {\n",
       "        vertical-align: middle;\n",
       "    }\n",
       "\n",
       "    .dataframe tbody tr th {\n",
       "        vertical-align: top;\n",
       "    }\n",
       "\n",
       "    .dataframe thead th {\n",
       "        text-align: right;\n",
       "    }\n",
       "</style>\n",
       "<table border=\"1\" class=\"dataframe\">\n",
       "  <thead>\n",
       "    <tr style=\"text-align: right;\">\n",
       "      <th></th>\n",
       "      <th>id</th>\n",
       "      <th>timestamp</th>\n",
       "      <th>amount</th>\n",
       "      <th>oldbalanceOrig</th>\n",
       "      <th>newbalanceOrig</th>\n",
       "      <th>oldbalanceDest</th>\n",
       "      <th>newbalanceDest</th>\n",
       "    </tr>\n",
       "  </thead>\n",
       "  <tbody>\n",
       "    <tr>\n",
       "      <th>count</th>\n",
       "      <td>7.734834e+06</td>\n",
       "      <td>7.734834e+06</td>\n",
       "      <td>7.734834e+06</td>\n",
       "      <td>7.734834e+06</td>\n",
       "      <td>7.734834e+06</td>\n",
       "      <td>7.734834e+06</td>\n",
       "      <td>7.734834e+06</td>\n",
       "    </tr>\n",
       "    <tr>\n",
       "      <th>mean</th>\n",
       "      <td>3.867418e+06</td>\n",
       "      <td>2.434319e+02</td>\n",
       "      <td>1.479531e+05</td>\n",
       "      <td>8.339802e+05</td>\n",
       "      <td>6.860270e+05</td>\n",
       "      <td>1.297193e+06</td>\n",
       "      <td>1.445146e+06</td>\n",
       "    </tr>\n",
       "    <tr>\n",
       "      <th>std</th>\n",
       "      <td>2.232854e+06</td>\n",
       "      <td>1.423561e+02</td>\n",
       "      <td>5.519739e+05</td>\n",
       "      <td>2.890095e+06</td>\n",
       "      <td>2.943681e+06</td>\n",
       "      <td>3.441619e+06</td>\n",
       "      <td>3.647220e+06</td>\n",
       "    </tr>\n",
       "    <tr>\n",
       "      <th>min</th>\n",
       "      <td>1.000000e+00</td>\n",
       "      <td>1.000000e+00</td>\n",
       "      <td>0.000000e+00</td>\n",
       "      <td>-4.621192e+07</td>\n",
       "      <td>-9.244552e+07</td>\n",
       "      <td>-4.366623e+06</td>\n",
       "      <td>-4.234680e+06</td>\n",
       "    </tr>\n",
       "    <tr>\n",
       "      <th>25%</th>\n",
       "      <td>1.933709e+06</td>\n",
       "      <td>1.560000e+02</td>\n",
       "      <td>3.954593e+03</td>\n",
       "      <td>0.000000e+00</td>\n",
       "      <td>-1.072120e+05</td>\n",
       "      <td>0.000000e+00</td>\n",
       "      <td>8.961312e+03</td>\n",
       "    </tr>\n",
       "    <tr>\n",
       "      <th>50%</th>\n",
       "      <td>3.867418e+06</td>\n",
       "      <td>2.390000e+02</td>\n",
       "      <td>3.424565e+04</td>\n",
       "      <td>1.416400e+04</td>\n",
       "      <td>-2.773930e+03</td>\n",
       "      <td>1.330728e+04</td>\n",
       "      <td>1.830557e+05</td>\n",
       "    </tr>\n",
       "    <tr>\n",
       "      <th>75%</th>\n",
       "      <td>5.801126e+06</td>\n",
       "      <td>3.350000e+02</td>\n",
       "      <td>1.744628e+05</td>\n",
       "      <td>1.073520e+05</td>\n",
       "      <td>6.296063e+04</td>\n",
       "      <td>1.277121e+06</td>\n",
       "      <td>1.514394e+06</td>\n",
       "    </tr>\n",
       "    <tr>\n",
       "      <th>max</th>\n",
       "      <td>7.734834e+06</td>\n",
       "      <td>7.430000e+02</td>\n",
       "      <td>9.244552e+07</td>\n",
       "      <td>7.743097e+07</td>\n",
       "      <td>7.742894e+07</td>\n",
       "      <td>3.572774e+08</td>\n",
       "      <td>3.574408e+08</td>\n",
       "    </tr>\n",
       "  </tbody>\n",
       "</table>\n",
       "</div>"
      ],
      "text/plain": [
       "                 id     timestamp        amount  oldbalanceOrig  \\\n",
       "count  7.734834e+06  7.734834e+06  7.734834e+06    7.734834e+06   \n",
       "mean   3.867418e+06  2.434319e+02  1.479531e+05    8.339802e+05   \n",
       "std    2.232854e+06  1.423561e+02  5.519739e+05    2.890095e+06   \n",
       "min    1.000000e+00  1.000000e+00  0.000000e+00   -4.621192e+07   \n",
       "25%    1.933709e+06  1.560000e+02  3.954593e+03    0.000000e+00   \n",
       "50%    3.867418e+06  2.390000e+02  3.424565e+04    1.416400e+04   \n",
       "75%    5.801126e+06  3.350000e+02  1.744628e+05    1.073520e+05   \n",
       "max    7.734834e+06  7.430000e+02  9.244552e+07    7.743097e+07   \n",
       "\n",
       "       newbalanceOrig  oldbalanceDest  newbalanceDest  \n",
       "count    7.734834e+06    7.734834e+06    7.734834e+06  \n",
       "mean     6.860270e+05    1.297193e+06    1.445146e+06  \n",
       "std      2.943681e+06    3.441619e+06    3.647220e+06  \n",
       "min     -9.244552e+07   -4.366623e+06   -4.234680e+06  \n",
       "25%     -1.072120e+05    0.000000e+00    8.961312e+03  \n",
       "50%     -2.773930e+03    1.330728e+04    1.830557e+05  \n",
       "75%      6.296063e+04    1.277121e+06    1.514394e+06  \n",
       "max      7.742894e+07    3.572774e+08    3.574408e+08  "
      ]
     },
     "execution_count": 6,
     "metadata": {},
     "output_type": "execute_result"
    }
   ],
   "source": [
    "# Description of numeric columns\n",
    "\n",
    "df.describe()"
   ]
  },
  {
   "cell_type": "markdown",
   "metadata": {},
   "source": [
    "### Distribution of 'amount' and balances from original bankholder"
   ]
  },
  {
   "cell_type": "code",
   "execution_count": 7,
   "metadata": {},
   "outputs": [],
   "source": [
    "### Old and new balances of original bankaccount ###\n",
    "# Collect the right values. Convert negative values.\n",
    "\n",
    "amount_list_x = []\n",
    "\n",
    "for i in df['oldbalanceOrig'].values:\n",
    "# balance=0 is excluded to highlight other balances\n",
    "#     if i == 0:\n",
    "#         amount_list_x.append(i)\n",
    "    if i > 0:\n",
    "        amount_list_x.append(np.log(i))\n",
    "    elif i < 0:\n",
    "        value = -1* (np.log(i * -1))\n",
    "        amount_list_x.append(value)\n",
    "        \n",
    "amount_list_y = []\n",
    "\n",
    "for i in df['newbalanceOrig'].values:\n",
    "    if i == 0:\n",
    "        amount_list_y.append(i)\n",
    "    if i > 0:\n",
    "        amount_list_y.append(np.log(i))\n",
    "    elif i < 0:\n",
    "        value = -1* (np.log(i * -1))\n",
    "        amount_list_y.append(value)"
   ]
  },
  {
   "cell_type": "code",
   "execution_count": 8,
   "metadata": {
    "scrolled": true
   },
   "outputs": [
    {
     "data": {
      "image/png": "[encoded data removed]",
      "text/plain": [
       "<Figure size 432x288 with 1 Axes>"
      ]
     },
     "metadata": {
      "needs_background": "light"
     },
     "output_type": "display_data"
    }
   ],
   "source": [
    "# Plot\n",
    "\n",
    "plt.title('Distribution balanceOrig', fontsize=16)\n",
    "plt.xlabel('ln(balance)', fontsize=14)\n",
    "plt.ylabel('Count', fontsize=14)\n",
    "plt.hist(amount_list_y, bins = 100, color='skyblue')\n",
    "plt.hist(amount_list_x, bins = 100, color='indianred', alpha=0.5)\n",
    "plt.legend(['New balance', 'Old balance'])\n",
    "plt.grid()\n",
    "plt.savefig('amount-balOrig.png')\n",
    "plt.show()"
   ]
  },
  {
   "cell_type": "code",
   "execution_count": 9,
   "metadata": {},
   "outputs": [],
   "source": [
    "### Distribution of amount ###\n",
    "# Collect the right values. Store amount = 0 as 0.\n",
    "\n",
    "amount_list = []\n",
    "\n",
    "for i in df['amount'].values:\n",
    "    if i == 0:\n",
    "        amount_list.append(i)\n",
    "    else:\n",
    "        amount_list.append(np.log(i))"
   ]
  },
  {
   "cell_type": "code",
   "execution_count": 10,
   "metadata": {},
   "outputs": [
    {
     "data": {
      "image/png": "[encoded data removed]",
      "text/plain": [
       "<Figure size 432x288 with 1 Axes>"
      ]
     },
     "metadata": {
      "needs_background": "light"
     },
     "output_type": "display_data"
    }
   ],
   "source": [
    "plt.title('Amount', fontsize=16)\n",
    "plt.xlabel('ln(Amount)', fontsize=14)\n",
    "plt.ylabel('Count', fontsize=14)\n",
    "plt.hist(amount_list, bins = 100, color='skyblue')\n",
    "plt.grid()\n",
    "plt.savefig('amount-distribution.png')\n",
    "plt.show()"
   ]
  },
  {
   "cell_type": "markdown",
   "metadata": {},
   "source": [
    "### Bank account frequencies ###"
   ]
  },
  {
   "cell_type": "code",
   "execution_count": 11,
   "metadata": {},
   "outputs": [
    {
     "name": "stdout",
     "output_type": "stream",
     "text": [
      "2722364 6353308\n"
     ]
    }
   ],
   "source": [
    "# Unique destination and original bank accounts (respectively)\n",
    "\n",
    "udest = list(df[\"nameDest\"].unique())\n",
    "uorig = list(df[\"nameOrig\"].unique())\n",
    "\n",
    "print(len(udest), len(uorig))"
   ]
  },
  {
   "cell_type": "code",
   "execution_count": 12,
   "metadata": {},
   "outputs": [
    {
     "name": "stdout",
     "output_type": "stream",
     "text": [
      "9073902\n"
     ]
    }
   ],
   "source": [
    "# Calculate total distinct bank accounts\n",
    "\n",
    "x = set(udest)\n",
    "x.update(set(uorig))\n",
    "print(len(x))"
   ]
  },
  {
   "cell_type": "code",
   "execution_count": 13,
   "metadata": {},
   "outputs": [
    {
     "name": "stdout",
     "output_type": "stream",
     "text": [
      "1770\n"
     ]
    }
   ],
   "source": [
    "# Convert list to set and take intersection, convert back to list\n",
    "\n",
    "udest_ = set(udest)\n",
    "uorig_ = set(uorig)\n",
    "\n",
    "same = udest_.intersection(uorig_)\n",
    "same = list(same)\n",
    "\n",
    "# Bank accounts that occur both as original and destination bank account\n",
    "\n",
    "print(len(same))"
   ]
  },
  {
   "cell_type": "markdown",
   "metadata": {},
   "source": [
    "### Which accounts occur often?"
   ]
  },
  {
   "cell_type": "code",
   "execution_count": 14,
   "metadata": {},
   "outputs": [
    {
     "data": {
      "text/plain": [
       "C52983754      1372194\n",
       "C1286084959        113\n",
       "C985934102         109\n",
       "C665576141         105\n",
       "C2083562754        102\n",
       "                ...   \n",
       "M1453975563          1\n",
       "M733248339           1\n",
       "M370445585           1\n",
       "C1565221215          1\n",
       "M2085390022          1\n",
       "Name: nameDest, Length: 2722364, dtype: int64"
      ]
     },
     "execution_count": 14,
     "metadata": {},
     "output_type": "execute_result"
    }
   ],
   "source": [
    "# Destination accounts\n",
    "### C52983754  occurs 1372194 times\n",
    "# C1286084959  occurs 113 times\n",
    "\n",
    "df['nameDest'].value_counts()"
   ]
  },
  {
   "cell_type": "code",
   "execution_count": 15,
   "metadata": {},
   "outputs": [
    {
     "data": {
      "text/plain": [
       "C1286084959    20\n",
       "C883992034      4\n",
       "C1038870419     4\n",
       "C41773793       4\n",
       "C460723608      4\n",
       "               ..\n",
       "C1882777706     1\n",
       "C998995646      1\n",
       "C1578170325     1\n",
       "C111012330      1\n",
       "C985024183      1\n",
       "Name: nameOrig, Length: 6353308, dtype: int64"
      ]
     },
     "execution_count": 15,
     "metadata": {},
     "output_type": "execute_result"
    }
   ],
   "source": [
    "# Original accounts\n",
    "### C1286084959 occurs 20 times\n",
    "\n",
    "df['nameOrig'].value_counts()"
   ]
  },
  {
   "cell_type": "markdown",
   "metadata": {},
   "source": [
    "### 'Double' occurences"
   ]
  },
  {
   "cell_type": "markdown",
   "metadata": {},
   "source": [
    "I.e. accounts that occur both as original and destination account"
   ]
  },
  {
   "cell_type": "code",
   "execution_count": 16,
   "metadata": {},
   "outputs": [],
   "source": [
    "### Double Occurences ###\n",
    "### Write all double occurences to csv ###\n",
    "### Running takes about 30 min ###\n",
    "\n",
    "# double = pd.DataFrame()\n",
    "\n",
    "# counter = 0\n",
    "# for i in same:\n",
    "#     name = i\n",
    "#     x = df_mut[df_mut['nameDest'] == name] \n",
    "#     y = df_mut[df_mut['nameOrig'] == name]\n",
    "#     double = pd.concat([double, x])\n",
    "#     double = pd.concat([double, y])\n",
    "#     counter += 1\n",
    "#     print(str(len(same)-counter) + \" accounts to go.\")\n",
    "    \n",
    "# double.to_csv('double.csv', index=False) "
   ]
  },
  {
   "cell_type": "code",
   "execution_count": 17,
   "metadata": {},
   "outputs": [],
   "source": [
    "# Read from csv\n",
    "\n",
    "double = pd.read_csv('double.csv')"
   ]
  },
  {
   "cell_type": "code",
   "execution_count": 18,
   "metadata": {},
   "outputs": [
    {
     "data": {
      "text/html": [
       "<div>\n",
       "<style scoped>\n",
       "    .dataframe tbody tr th:only-of-type {\n",
       "        vertical-align: middle;\n",
       "    }\n",
       "\n",
       "    .dataframe tbody tr th {\n",
       "        vertical-align: top;\n",
       "    }\n",
       "\n",
       "    .dataframe thead th {\n",
       "        text-align: right;\n",
       "    }\n",
       "</style>\n",
       "<table border=\"1\" class=\"dataframe\">\n",
       "  <thead>\n",
       "    <tr style=\"text-align: right;\">\n",
       "      <th></th>\n",
       "      <th>id</th>\n",
       "      <th>timestamp</th>\n",
       "      <th>type</th>\n",
       "      <th>amount</th>\n",
       "      <th>nameOrig</th>\n",
       "      <th>oldbalanceOrig</th>\n",
       "      <th>newbalanceOrig</th>\n",
       "      <th>nameDest</th>\n",
       "      <th>oldbalanceDest</th>\n",
       "      <th>newbalanceDest</th>\n",
       "    </tr>\n",
       "  </thead>\n",
       "  <tbody>\n",
       "    <tr>\n",
       "      <th>0</th>\n",
       "      <td>3727454</td>\n",
       "      <td>235</td>\n",
       "      <td>TRANSFER</td>\n",
       "      <td>107289.96</td>\n",
       "      <td>C1471030317</td>\n",
       "      <td>30766.0</td>\n",
       "      <td>-76523.960</td>\n",
       "      <td>C1824353376</td>\n",
       "      <td>39201.905</td>\n",
       "      <td>146491.865</td>\n",
       "    </tr>\n",
       "    <tr>\n",
       "      <th>1</th>\n",
       "      <td>6179859</td>\n",
       "      <td>355</td>\n",
       "      <td>TRANSFER</td>\n",
       "      <td>303185.64</td>\n",
       "      <td>C1748972860</td>\n",
       "      <td>10118.0</td>\n",
       "      <td>-293067.640</td>\n",
       "      <td>C1824353376</td>\n",
       "      <td>146491.865</td>\n",
       "      <td>449677.495</td>\n",
       "    </tr>\n",
       "    <tr>\n",
       "      <th>2</th>\n",
       "      <td>3323007</td>\n",
       "      <td>212</td>\n",
       "      <td>TRANSFER</td>\n",
       "      <td>178288.29</td>\n",
       "      <td>C1824353376</td>\n",
       "      <td>217490.2</td>\n",
       "      <td>39201.905</td>\n",
       "      <td>C234366354</td>\n",
       "      <td>712602.000</td>\n",
       "      <td>890890.285</td>\n",
       "    </tr>\n",
       "    <tr>\n",
       "      <th>3</th>\n",
       "      <td>1776353</td>\n",
       "      <td>140</td>\n",
       "      <td>TRANSFER</td>\n",
       "      <td>67405.70</td>\n",
       "      <td>C1469420006</td>\n",
       "      <td>448.0</td>\n",
       "      <td>-66957.705</td>\n",
       "      <td>C1205108866</td>\n",
       "      <td>0.000</td>\n",
       "      <td>67405.695</td>\n",
       "    </tr>\n",
       "    <tr>\n",
       "      <th>4</th>\n",
       "      <td>2755737</td>\n",
       "      <td>187</td>\n",
       "      <td>TRANSFER</td>\n",
       "      <td>188951.14</td>\n",
       "      <td>C1898747885</td>\n",
       "      <td>11761.0</td>\n",
       "      <td>-177190.140</td>\n",
       "      <td>C1205108866</td>\n",
       "      <td>67405.695</td>\n",
       "      <td>256356.835</td>\n",
       "    </tr>\n",
       "  </tbody>\n",
       "</table>\n",
       "</div>"
      ],
      "text/plain": [
       "        id  timestamp      type     amount     nameOrig  oldbalanceOrig  \\\n",
       "0  3727454        235  TRANSFER  107289.96  C1471030317         30766.0   \n",
       "1  6179859        355  TRANSFER  303185.64  C1748972860         10118.0   \n",
       "2  3323007        212  TRANSFER  178288.29  C1824353376        217490.2   \n",
       "3  1776353        140  TRANSFER   67405.70  C1469420006           448.0   \n",
       "4  2755737        187  TRANSFER  188951.14  C1898747885         11761.0   \n",
       "\n",
       "   newbalanceOrig     nameDest  oldbalanceDest  newbalanceDest  \n",
       "0      -76523.960  C1824353376       39201.905      146491.865  \n",
       "1     -293067.640  C1824353376      146491.865      449677.495  \n",
       "2       39201.905   C234366354      712602.000      890890.285  \n",
       "3      -66957.705  C1205108866           0.000       67405.695  \n",
       "4     -177190.140  C1205108866       67405.695      256356.835  "
      ]
     },
     "execution_count": 18,
     "metadata": {},
     "output_type": "execute_result"
    }
   ],
   "source": [
    "double.head()"
   ]
  },
  {
   "cell_type": "code",
   "execution_count": 19,
   "metadata": {},
   "outputs": [
    {
     "data": {
      "text/plain": [
       "15604"
      ]
     },
     "execution_count": 19,
     "metadata": {},
     "output_type": "execute_result"
    }
   ],
   "source": [
    "# Length of constructed dataset\n",
    "\n",
    "len(double)"
   ]
  },
  {
   "cell_type": "code",
   "execution_count": 20,
   "metadata": {},
   "outputs": [],
   "source": [
    "del double['type']"
   ]
  },
  {
   "cell_type": "code",
   "execution_count": 21,
   "metadata": {},
   "outputs": [],
   "source": [
    "double = double.sort_values(by=['id'])"
   ]
  },
  {
   "cell_type": "code",
   "execution_count": 22,
   "metadata": {},
   "outputs": [
    {
     "data": {
      "text/html": [
       "<div>\n",
       "<style scoped>\n",
       "    .dataframe tbody tr th:only-of-type {\n",
       "        vertical-align: middle;\n",
       "    }\n",
       "\n",
       "    .dataframe tbody tr th {\n",
       "        vertical-align: top;\n",
       "    }\n",
       "\n",
       "    .dataframe thead th {\n",
       "        text-align: right;\n",
       "    }\n",
       "</style>\n",
       "<table border=\"1\" class=\"dataframe\">\n",
       "  <thead>\n",
       "    <tr style=\"text-align: right;\">\n",
       "      <th></th>\n",
       "      <th>id</th>\n",
       "      <th>timestamp</th>\n",
       "      <th>amount</th>\n",
       "      <th>nameOrig</th>\n",
       "      <th>oldbalanceOrig</th>\n",
       "      <th>newbalanceOrig</th>\n",
       "      <th>nameDest</th>\n",
       "      <th>oldbalanceDest</th>\n",
       "      <th>newbalanceDest</th>\n",
       "    </tr>\n",
       "  </thead>\n",
       "  <tbody>\n",
       "    <tr>\n",
       "      <th>9196</th>\n",
       "      <td>123</td>\n",
       "      <td>1</td>\n",
       "      <td>583848.46</td>\n",
       "      <td>C1839168128</td>\n",
       "      <td>0.00</td>\n",
       "      <td>-583848.465</td>\n",
       "      <td>C1286084959</td>\n",
       "      <td>0.300</td>\n",
       "      <td>583848.755</td>\n",
       "    </tr>\n",
       "    <tr>\n",
       "      <th>9197</th>\n",
       "      <td>446</td>\n",
       "      <td>1</td>\n",
       "      <td>176334.26</td>\n",
       "      <td>C169880779</td>\n",
       "      <td>45136.00</td>\n",
       "      <td>-131198.260</td>\n",
       "      <td>C1286084959</td>\n",
       "      <td>583849.595</td>\n",
       "      <td>760183.845</td>\n",
       "    </tr>\n",
       "    <tr>\n",
       "      <th>9198</th>\n",
       "      <td>469</td>\n",
       "      <td>1</td>\n",
       "      <td>373068.26</td>\n",
       "      <td>C1047934137</td>\n",
       "      <td>20034.00</td>\n",
       "      <td>-353034.260</td>\n",
       "      <td>C1286084959</td>\n",
       "      <td>760183.935</td>\n",
       "      <td>1133252.195</td>\n",
       "    </tr>\n",
       "    <tr>\n",
       "      <th>9199</th>\n",
       "      <td>569</td>\n",
       "      <td>1</td>\n",
       "      <td>403418.39</td>\n",
       "      <td>C848097505</td>\n",
       "      <td>3834666.95</td>\n",
       "      <td>3431248.560</td>\n",
       "      <td>C1286084959</td>\n",
       "      <td>1133252.445</td>\n",
       "      <td>1536670.835</td>\n",
       "    </tr>\n",
       "    <tr>\n",
       "      <th>5721</th>\n",
       "      <td>680</td>\n",
       "      <td>1</td>\n",
       "      <td>100588.80</td>\n",
       "      <td>C1636588948</td>\n",
       "      <td>18913.68</td>\n",
       "      <td>-81675.125</td>\n",
       "      <td>C2050019814</td>\n",
       "      <td>105223.000</td>\n",
       "      <td>205811.795</td>\n",
       "    </tr>\n",
       "  </tbody>\n",
       "</table>\n",
       "</div>"
      ],
      "text/plain": [
       "       id  timestamp     amount     nameOrig  oldbalanceOrig  newbalanceOrig  \\\n",
       "9196  123          1  583848.46  C1839168128            0.00     -583848.465   \n",
       "9197  446          1  176334.26   C169880779        45136.00     -131198.260   \n",
       "9198  469          1  373068.26  C1047934137        20034.00     -353034.260   \n",
       "9199  569          1  403418.39   C848097505      3834666.95     3431248.560   \n",
       "5721  680          1  100588.80  C1636588948        18913.68      -81675.125   \n",
       "\n",
       "         nameDest  oldbalanceDest  newbalanceDest  \n",
       "9196  C1286084959           0.300      583848.755  \n",
       "9197  C1286084959      583849.595      760183.845  \n",
       "9198  C1286084959      760183.935     1133252.195  \n",
       "9199  C1286084959     1133252.445     1536670.835  \n",
       "5721  C2050019814      105223.000      205811.795  "
      ]
     },
     "execution_count": 22,
     "metadata": {},
     "output_type": "execute_result"
    }
   ],
   "source": [
    "double.head()"
   ]
  },
  {
   "cell_type": "markdown",
   "metadata": {},
   "source": [
    "Not very interesting, only things we already found are highlighted."
   ]
  },
  {
   "cell_type": "markdown",
   "metadata": {},
   "source": [
    "#### Investigate value counts of double "
   ]
  },
  {
   "cell_type": "code",
   "execution_count": 23,
   "metadata": {},
   "outputs": [
    {
     "data": {
      "text/plain": [
       "C1286084959    20\n",
       "C1867564286     2\n",
       "C379896225      2\n",
       "C1230001999     2\n",
       "C1694056031     2\n",
       "               ..\n",
       "C1384022458     1\n",
       "C1603524835     1\n",
       "C1395919612     1\n",
       "C1624237728     1\n",
       "C1753150528     1\n",
       "Name: nameOrig, Length: 15190, dtype: int64"
      ]
     },
     "execution_count": 23,
     "metadata": {},
     "output_type": "execute_result"
    }
   ],
   "source": [
    "double['nameOrig'].value_counts()"
   ]
  },
  {
   "cell_type": "code",
   "execution_count": 24,
   "metadata": {},
   "outputs": [
    {
     "data": {
      "text/plain": [
       "C52983754      392\n",
       "C1286084959    113\n",
       "C874023329      58\n",
       "C1552859894     58\n",
       "C2050019814     52\n",
       "              ... \n",
       "M1596584117      1\n",
       "C1394291496      1\n",
       "C1137200061      1\n",
       "M1556077246      1\n",
       "C515053096       1\n",
       "Name: nameDest, Length: 3537, dtype: int64"
      ]
     },
     "execution_count": 24,
     "metadata": {},
     "output_type": "execute_result"
    }
   ],
   "source": [
    "### the account C52983754 wins again with  392 times (one ct account)\n",
    "\n",
    "double['nameDest'].value_counts()"
   ]
  },
  {
   "cell_type": "code",
   "execution_count": 25,
   "metadata": {},
   "outputs": [
    {
     "data": {
      "text/plain": [
       "307    140\n",
       "18     136\n",
       "139    136\n",
       "235    131\n",
       "187    125\n",
       "      ... \n",
       "437      1\n",
       "5        1\n",
       "452      1\n",
       "436      1\n",
       "743      1\n",
       "Name: timestamp, Length: 394, dtype: int64"
      ]
     },
     "execution_count": 25,
     "metadata": {},
     "output_type": "execute_result"
    }
   ],
   "source": [
    "double['timestamp'].value_counts()"
   ]
  },
  {
   "cell_type": "markdown",
   "metadata": {},
   "source": [
    "##### Investigate C52983754 "
   ]
  },
  {
   "cell_type": "code",
   "execution_count": 26,
   "metadata": {},
   "outputs": [
    {
     "data": {
      "text/html": [
       "<div>\n",
       "<style scoped>\n",
       "    .dataframe tbody tr th:only-of-type {\n",
       "        vertical-align: middle;\n",
       "    }\n",
       "\n",
       "    .dataframe tbody tr th {\n",
       "        vertical-align: top;\n",
       "    }\n",
       "\n",
       "    .dataframe thead th {\n",
       "        text-align: right;\n",
       "    }\n",
       "</style>\n",
       "<table border=\"1\" class=\"dataframe\">\n",
       "  <thead>\n",
       "    <tr style=\"text-align: right;\">\n",
       "      <th></th>\n",
       "      <th>id</th>\n",
       "      <th>timestamp</th>\n",
       "      <th>type</th>\n",
       "      <th>amount</th>\n",
       "      <th>nameOrig</th>\n",
       "      <th>oldbalanceOrig</th>\n",
       "      <th>newbalanceOrig</th>\n",
       "      <th>nameDest</th>\n",
       "      <th>oldbalanceDest</th>\n",
       "      <th>newbalanceDest</th>\n",
       "    </tr>\n",
       "  </thead>\n",
       "  <tbody>\n",
       "    <tr>\n",
       "      <th>2708676</th>\n",
       "      <td>2708677</td>\n",
       "      <td>186</td>\n",
       "      <td>TRANSFER</td>\n",
       "      <td>511765.670</td>\n",
       "      <td>C749789952</td>\n",
       "      <td>781.000</td>\n",
       "      <td>-510984.670</td>\n",
       "      <td>C1848904242</td>\n",
       "      <td>47975.790</td>\n",
       "      <td>559741.460</td>\n",
       "    </tr>\n",
       "    <tr>\n",
       "      <th>3020429</th>\n",
       "      <td>3020430</td>\n",
       "      <td>204</td>\n",
       "      <td>TRANSFER</td>\n",
       "      <td>225682.100</td>\n",
       "      <td>C628174458</td>\n",
       "      <td>0.000</td>\n",
       "      <td>-225682.100</td>\n",
       "      <td>C1848904242</td>\n",
       "      <td>559741.460</td>\n",
       "      <td>785423.560</td>\n",
       "    </tr>\n",
       "    <tr>\n",
       "      <th>3097002</th>\n",
       "      <td>3097003</td>\n",
       "      <td>206</td>\n",
       "      <td>TRANSFER</td>\n",
       "      <td>68020.120</td>\n",
       "      <td>C1100645484</td>\n",
       "      <td>0.000</td>\n",
       "      <td>-68020.120</td>\n",
       "      <td>C1848904242</td>\n",
       "      <td>785423.560</td>\n",
       "      <td>853443.680</td>\n",
       "    </tr>\n",
       "    <tr>\n",
       "      <th>3341605</th>\n",
       "      <td>3341606</td>\n",
       "      <td>212</td>\n",
       "      <td>TRANSFER</td>\n",
       "      <td>31998.570</td>\n",
       "      <td>C1293982536</td>\n",
       "      <td>1546.000</td>\n",
       "      <td>-30452.570</td>\n",
       "      <td>C1848904242</td>\n",
       "      <td>853443.680</td>\n",
       "      <td>885442.240</td>\n",
       "    </tr>\n",
       "    <tr>\n",
       "      <th>4421709</th>\n",
       "      <td>4421710</td>\n",
       "      <td>275</td>\n",
       "      <td>TRANSFER</td>\n",
       "      <td>408749.820</td>\n",
       "      <td>C653296049</td>\n",
       "      <td>20753.000</td>\n",
       "      <td>-387996.820</td>\n",
       "      <td>C1848904242</td>\n",
       "      <td>885442.240</td>\n",
       "      <td>1294192.050</td>\n",
       "    </tr>\n",
       "    <tr>\n",
       "      <th>5147807</th>\n",
       "      <td>5147808</td>\n",
       "      <td>306</td>\n",
       "      <td>TRANSFER</td>\n",
       "      <td>10273.250</td>\n",
       "      <td>C1173172451</td>\n",
       "      <td>5031.000</td>\n",
       "      <td>-5242.255</td>\n",
       "      <td>C1848904242</td>\n",
       "      <td>1294192.050</td>\n",
       "      <td>1304465.295</td>\n",
       "    </tr>\n",
       "    <tr>\n",
       "      <th>5672578</th>\n",
       "      <td>5672579</td>\n",
       "      <td>330</td>\n",
       "      <td>TRANSFER</td>\n",
       "      <td>279064.760</td>\n",
       "      <td>C1430314799</td>\n",
       "      <td>0.000</td>\n",
       "      <td>-279064.760</td>\n",
       "      <td>C1848904242</td>\n",
       "      <td>1304465.295</td>\n",
       "      <td>1583530.055</td>\n",
       "    </tr>\n",
       "    <tr>\n",
       "      <th>6077763</th>\n",
       "      <td>6077764</td>\n",
       "      <td>353</td>\n",
       "      <td>TRANSFER</td>\n",
       "      <td>812900.110</td>\n",
       "      <td>C248851571</td>\n",
       "      <td>0.000</td>\n",
       "      <td>-812900.110</td>\n",
       "      <td>C1848904242</td>\n",
       "      <td>1583530.055</td>\n",
       "      <td>2396430.165</td>\n",
       "    </tr>\n",
       "    <tr>\n",
       "      <th>6191644</th>\n",
       "      <td>6191645</td>\n",
       "      <td>355</td>\n",
       "      <td>TRANSFER</td>\n",
       "      <td>119466.250</td>\n",
       "      <td>C1977451530</td>\n",
       "      <td>299716.000</td>\n",
       "      <td>180249.750</td>\n",
       "      <td>C1848904242</td>\n",
       "      <td>2396430.165</td>\n",
       "      <td>2515896.415</td>\n",
       "    </tr>\n",
       "    <tr>\n",
       "      <th>6343634</th>\n",
       "      <td>6343635</td>\n",
       "      <td>370</td>\n",
       "      <td>TRANSFER</td>\n",
       "      <td>193711.300</td>\n",
       "      <td>C1552859894</td>\n",
       "      <td>36366437.725</td>\n",
       "      <td>36172726.425</td>\n",
       "      <td>C1848904242</td>\n",
       "      <td>2515896.415</td>\n",
       "      <td>2709607.715</td>\n",
       "    </tr>\n",
       "    <tr>\n",
       "      <th>7257479</th>\n",
       "      <td>7257480</td>\n",
       "      <td>406</td>\n",
       "      <td>TRANSFER</td>\n",
       "      <td>195809.590</td>\n",
       "      <td>C281823788</td>\n",
       "      <td>0.000</td>\n",
       "      <td>-195809.590</td>\n",
       "      <td>C1848904242</td>\n",
       "      <td>2709607.715</td>\n",
       "      <td>2905417.305</td>\n",
       "    </tr>\n",
       "    <tr>\n",
       "      <th>7628038</th>\n",
       "      <td>7628039</td>\n",
       "      <td>637</td>\n",
       "      <td>TRANSFER</td>\n",
       "      <td>149969.790</td>\n",
       "      <td>C710526774</td>\n",
       "      <td>9028.000</td>\n",
       "      <td>-140941.790</td>\n",
       "      <td>C1848904242</td>\n",
       "      <td>2905417.305</td>\n",
       "      <td>3055387.085</td>\n",
       "    </tr>\n",
       "  </tbody>\n",
       "</table>\n",
       "</div>"
      ],
      "text/plain": [
       "              id  timestamp      type      amount     nameOrig oldbalanceOrig  \\\n",
       "2708676  2708677        186  TRANSFER  511765.670   C749789952        781.000   \n",
       "3020429  3020430        204  TRANSFER  225682.100   C628174458          0.000   \n",
       "3097002  3097003        206  TRANSFER   68020.120  C1100645484          0.000   \n",
       "3341605  3341606        212  TRANSFER   31998.570  C1293982536       1546.000   \n",
       "4421709  4421710        275  TRANSFER  408749.820   C653296049      20753.000   \n",
       "5147807  5147808        306  TRANSFER   10273.250  C1173172451       5031.000   \n",
       "5672578  5672579        330  TRANSFER  279064.760  C1430314799          0.000   \n",
       "6077763  6077764        353  TRANSFER  812900.110   C248851571          0.000   \n",
       "6191644  6191645        355  TRANSFER  119466.250  C1977451530     299716.000   \n",
       "6343634  6343635        370  TRANSFER  193711.300  C1552859894   36366437.725   \n",
       "7257479  7257480        406  TRANSFER  195809.590   C281823788          0.000   \n",
       "7628038  7628039        637  TRANSFER  149969.790   C710526774       9028.000   \n",
       "\n",
       "        newbalanceOrig     nameDest oldbalanceDest newbalanceDest  \n",
       "2708676    -510984.670  C1848904242      47975.790     559741.460  \n",
       "3020429    -225682.100  C1848904242     559741.460     785423.560  \n",
       "3097002     -68020.120  C1848904242     785423.560     853443.680  \n",
       "3341605     -30452.570  C1848904242     853443.680     885442.240  \n",
       "4421709    -387996.820  C1848904242     885442.240    1294192.050  \n",
       "5147807      -5242.255  C1848904242    1294192.050    1304465.295  \n",
       "5672578    -279064.760  C1848904242    1304465.295    1583530.055  \n",
       "6077763    -812900.110  C1848904242    1583530.055    2396430.165  \n",
       "6191644     180249.750  C1848904242    2396430.165    2515896.415  \n",
       "6343634   36172726.425  C1848904242    2515896.415    2709607.715  \n",
       "7257479    -195809.590  C1848904242    2709607.715    2905417.305  \n",
       "7628038    -140941.790  C1848904242    2905417.305    3055387.085  "
      ]
     },
     "execution_count": 26,
     "metadata": {},
     "output_type": "execute_result"
    }
   ],
   "source": [
    "df_mut[df_mut['nameDest'] == 'C1848904242']"
   ]
  },
  {
   "cell_type": "markdown",
   "metadata": {},
   "source": [
    "## Mutate original data frame "
   ]
  },
  {
   "cell_type": "code",
   "execution_count": 27,
   "metadata": {},
   "outputs": [],
   "source": [
    "# Specify the datatype of the columns\n",
    "\n",
    "df_mut = df.astype({\"amount\" : float, \"oldbalanceOrig\" : float, \n",
    "               \"newbalanceOrig\" : float, \"oldbalanceDest\" : float, \"newbalanceDest\" : float })"
   ]
  },
  {
   "cell_type": "code",
   "execution_count": 28,
   "metadata": {},
   "outputs": [],
   "source": [
    "# Multiply bij 1000, then round for proper roundings. Then convert to 64bit int.\n",
    "# Long does NOT exists in python 3. An int is 64bit in Python 3.\n",
    "\n",
    "df_mut[\"timestamp\"] = df_mut[\"timestamp\"].apply(lambda x: int(x))\n",
    "df_mut[\"newbalanceOrig\"] = df_mut[\"newbalanceOrig\"].apply(lambda x: int(round(x*1000)))\n",
    "df_mut[\"oldbalanceOrig\"] = df_mut[\"oldbalanceOrig\"].apply(lambda x: int(round(x*1000)))\n",
    "df_mut[\"newbalanceDest\"] = df_mut[\"newbalanceDest\"].apply(lambda x: int(round(x*1000)))\n",
    "df_mut[\"oldbalanceDest\"] = df_mut[\"oldbalanceDest\"].apply(lambda x: int(round(x*1000)))\n",
    "df_mut[\"amount\"] = df_mut[\"amount\"].apply(lambda x: int(round(x*1000)))"
   ]
  },
  {
   "cell_type": "code",
   "execution_count": 29,
   "metadata": {},
   "outputs": [],
   "source": [
    "# Delete type column and id column\n",
    "\n",
    "del df_mut[\"type\"]\n",
    "del df_mut[\"id\"]"
   ]
  },
  {
   "cell_type": "markdown",
   "metadata": {},
   "source": [
    "### Calculate differences in balances"
   ]
  },
  {
   "cell_type": "code",
   "execution_count": 30,
   "metadata": {},
   "outputs": [],
   "source": [
    "# Define the difference in balance of the account that transfers and the account that receives the money\n",
    "# Add those differences to look for mistakes\n",
    "\n",
    "df_mut['Orig_diff'] = df_mut['oldbalanceOrig']  - df_mut['newbalanceOrig']\n",
    "df_mut['Dest_diff'] = df_mut['newbalanceDest'] - df_mut['oldbalanceDest']"
   ]
  },
  {
   "cell_type": "code",
   "execution_count": 31,
   "metadata": {},
   "outputs": [],
   "source": [
    "# Highlight inconsistencies in balance\n",
    "\n",
    "difference = []\n",
    "    \n",
    "for row in df_mut.values:\n",
    "    difference.append(row[9]-row[8])"
   ]
  },
  {
   "cell_type": "code",
   "execution_count": 32,
   "metadata": {},
   "outputs": [],
   "source": [
    "# Add new column with inconsistencies to dataframe \n",
    "\n",
    "df_mut['diff'] = difference"
   ]
  },
  {
   "cell_type": "code",
   "execution_count": 33,
   "metadata": {
    "scrolled": true
   },
   "outputs": [
    {
     "data": {
      "text/html": [
       "<div>\n",
       "<style scoped>\n",
       "    .dataframe tbody tr th:only-of-type {\n",
       "        vertical-align: middle;\n",
       "    }\n",
       "\n",
       "    .dataframe tbody tr th {\n",
       "        vertical-align: top;\n",
       "    }\n",
       "\n",
       "    .dataframe thead th {\n",
       "        text-align: right;\n",
       "    }\n",
       "</style>\n",
       "<table border=\"1\" class=\"dataframe\">\n",
       "  <thead>\n",
       "    <tr style=\"text-align: right;\">\n",
       "      <th></th>\n",
       "      <th>timestamp</th>\n",
       "      <th>amount</th>\n",
       "      <th>nameOrig</th>\n",
       "      <th>oldbalanceOrig</th>\n",
       "      <th>newbalanceOrig</th>\n",
       "      <th>nameDest</th>\n",
       "      <th>oldbalanceDest</th>\n",
       "      <th>newbalanceDest</th>\n",
       "      <th>Orig_diff</th>\n",
       "      <th>Dest_diff</th>\n",
       "      <th>diff</th>\n",
       "    </tr>\n",
       "  </thead>\n",
       "  <tbody>\n",
       "    <tr>\n",
       "      <th>0</th>\n",
       "      <td>1</td>\n",
       "      <td>10</td>\n",
       "      <td>C1231006815</td>\n",
       "      <td>170136000</td>\n",
       "      <td>170135990</td>\n",
       "      <td>C52983754</td>\n",
       "      <td>10</td>\n",
       "      <td>20</td>\n",
       "      <td>10</td>\n",
       "      <td>10</td>\n",
       "      <td>0</td>\n",
       "    </tr>\n",
       "    <tr>\n",
       "      <th>1</th>\n",
       "      <td>1</td>\n",
       "      <td>9839640</td>\n",
       "      <td>C1231006815</td>\n",
       "      <td>170136000</td>\n",
       "      <td>160296360</td>\n",
       "      <td>M1979787155</td>\n",
       "      <td>0</td>\n",
       "      <td>9839630</td>\n",
       "      <td>9839640</td>\n",
       "      <td>9839630</td>\n",
       "      <td>-10</td>\n",
       "    </tr>\n",
       "    <tr>\n",
       "      <th>2</th>\n",
       "      <td>1</td>\n",
       "      <td>1864280</td>\n",
       "      <td>C1666544295</td>\n",
       "      <td>21249000</td>\n",
       "      <td>19384720</td>\n",
       "      <td>M2044282225</td>\n",
       "      <td>0</td>\n",
       "      <td>1864280</td>\n",
       "      <td>1864280</td>\n",
       "      <td>1864280</td>\n",
       "      <td>0</td>\n",
       "    </tr>\n",
       "    <tr>\n",
       "      <th>3</th>\n",
       "      <td>1</td>\n",
       "      <td>181000</td>\n",
       "      <td>C1305486145</td>\n",
       "      <td>181000</td>\n",
       "      <td>0</td>\n",
       "      <td>C553264065</td>\n",
       "      <td>0</td>\n",
       "      <td>181000</td>\n",
       "      <td>181000</td>\n",
       "      <td>181000</td>\n",
       "      <td>0</td>\n",
       "    </tr>\n",
       "    <tr>\n",
       "      <th>4</th>\n",
       "      <td>1</td>\n",
       "      <td>181000</td>\n",
       "      <td>C840083671</td>\n",
       "      <td>181000</td>\n",
       "      <td>0</td>\n",
       "      <td>C38997010</td>\n",
       "      <td>21182000</td>\n",
       "      <td>21363000</td>\n",
       "      <td>181000</td>\n",
       "      <td>181000</td>\n",
       "      <td>0</td>\n",
       "    </tr>\n",
       "  </tbody>\n",
       "</table>\n",
       "</div>"
      ],
      "text/plain": [
       "   timestamp   amount     nameOrig  oldbalanceOrig  newbalanceOrig  \\\n",
       "0          1       10  C1231006815       170136000       170135990   \n",
       "1          1  9839640  C1231006815       170136000       160296360   \n",
       "2          1  1864280  C1666544295        21249000        19384720   \n",
       "3          1   181000  C1305486145          181000               0   \n",
       "4          1   181000   C840083671          181000               0   \n",
       "\n",
       "      nameDest  oldbalanceDest  newbalanceDest  Orig_diff  Dest_diff  diff  \n",
       "0    C52983754              10              20         10         10     0  \n",
       "1  M1979787155               0         9839630    9839640    9839630   -10  \n",
       "2  M2044282225               0         1864280    1864280    1864280     0  \n",
       "3   C553264065               0          181000     181000     181000     0  \n",
       "4    C38997010        21182000        21363000     181000     181000     0  "
      ]
     },
     "execution_count": 33,
     "metadata": {},
     "output_type": "execute_result"
    }
   ],
   "source": [
    "df_mut.head()"
   ]
  },
  {
   "cell_type": "markdown",
   "metadata": {},
   "source": [
    "### Investigate remarkable occurences"
   ]
  },
  {
   "cell_type": "code",
   "execution_count": 34,
   "metadata": {},
   "outputs": [],
   "source": [
    "### Make subset of dataset with difference in balances\n",
    "\n",
    "differences = df_mut[df_mut['diff'] != 0]"
   ]
  },
  {
   "cell_type": "code",
   "execution_count": 35,
   "metadata": {},
   "outputs": [
    {
     "data": {
      "text/html": [
       "<div>\n",
       "<style scoped>\n",
       "    .dataframe tbody tr th:only-of-type {\n",
       "        vertical-align: middle;\n",
       "    }\n",
       "\n",
       "    .dataframe tbody tr th {\n",
       "        vertical-align: top;\n",
       "    }\n",
       "\n",
       "    .dataframe thead th {\n",
       "        text-align: right;\n",
       "    }\n",
       "</style>\n",
       "<table border=\"1\" class=\"dataframe\">\n",
       "  <thead>\n",
       "    <tr style=\"text-align: right;\">\n",
       "      <th></th>\n",
       "      <th>timestamp</th>\n",
       "      <th>amount</th>\n",
       "      <th>nameOrig</th>\n",
       "      <th>oldbalanceOrig</th>\n",
       "      <th>newbalanceOrig</th>\n",
       "      <th>nameDest</th>\n",
       "      <th>oldbalanceDest</th>\n",
       "      <th>newbalanceDest</th>\n",
       "      <th>Orig_diff</th>\n",
       "      <th>Dest_diff</th>\n",
       "      <th>diff</th>\n",
       "    </tr>\n",
       "  </thead>\n",
       "  <tbody>\n",
       "    <tr>\n",
       "      <th>1</th>\n",
       "      <td>1</td>\n",
       "      <td>9839640</td>\n",
       "      <td>C1231006815</td>\n",
       "      <td>170136000</td>\n",
       "      <td>160296360</td>\n",
       "      <td>M1979787155</td>\n",
       "      <td>0</td>\n",
       "      <td>9839630</td>\n",
       "      <td>9839640</td>\n",
       "      <td>9839630</td>\n",
       "      <td>-10</td>\n",
       "    </tr>\n",
       "    <tr>\n",
       "      <th>5</th>\n",
       "      <td>1</td>\n",
       "      <td>11668140</td>\n",
       "      <td>C2048537720</td>\n",
       "      <td>41554000</td>\n",
       "      <td>29885855</td>\n",
       "      <td>M1230701703</td>\n",
       "      <td>0</td>\n",
       "      <td>11668135</td>\n",
       "      <td>11668145</td>\n",
       "      <td>11668135</td>\n",
       "      <td>-10</td>\n",
       "    </tr>\n",
       "    <tr>\n",
       "      <th>7</th>\n",
       "      <td>1</td>\n",
       "      <td>7817710</td>\n",
       "      <td>C90045638</td>\n",
       "      <td>53860000</td>\n",
       "      <td>46042290</td>\n",
       "      <td>M573487274</td>\n",
       "      <td>0</td>\n",
       "      <td>7817700</td>\n",
       "      <td>7817710</td>\n",
       "      <td>7817700</td>\n",
       "      <td>-10</td>\n",
       "    </tr>\n",
       "    <tr>\n",
       "      <th>8</th>\n",
       "      <td>1</td>\n",
       "      <td>7107770</td>\n",
       "      <td>C154988899</td>\n",
       "      <td>183195000</td>\n",
       "      <td>176087225</td>\n",
       "      <td>M408069119</td>\n",
       "      <td>0</td>\n",
       "      <td>7107765</td>\n",
       "      <td>7107775</td>\n",
       "      <td>7107765</td>\n",
       "      <td>-10</td>\n",
       "    </tr>\n",
       "    <tr>\n",
       "      <th>9</th>\n",
       "      <td>1</td>\n",
       "      <td>7861640</td>\n",
       "      <td>C1912850431</td>\n",
       "      <td>176087230</td>\n",
       "      <td>168225585</td>\n",
       "      <td>M633326333</td>\n",
       "      <td>0</td>\n",
       "      <td>7861635</td>\n",
       "      <td>7861645</td>\n",
       "      <td>7861635</td>\n",
       "      <td>-10</td>\n",
       "    </tr>\n",
       "  </tbody>\n",
       "</table>\n",
       "</div>"
      ],
      "text/plain": [
       "   timestamp    amount     nameOrig  oldbalanceOrig  newbalanceOrig  \\\n",
       "1          1   9839640  C1231006815       170136000       160296360   \n",
       "5          1  11668140  C2048537720        41554000        29885855   \n",
       "7          1   7817710    C90045638        53860000        46042290   \n",
       "8          1   7107770   C154988899       183195000       176087225   \n",
       "9          1   7861640  C1912850431       176087230       168225585   \n",
       "\n",
       "      nameDest  oldbalanceDest  newbalanceDest  Orig_diff  Dest_diff  diff  \n",
       "1  M1979787155               0         9839630    9839640    9839630   -10  \n",
       "5  M1230701703               0        11668135   11668145   11668135   -10  \n",
       "7   M573487274               0         7817700    7817710    7817700   -10  \n",
       "8   M408069119               0         7107765    7107775    7107765   -10  \n",
       "9   M633326333               0         7861635    7861645    7861635   -10  "
      ]
     },
     "execution_count": 35,
     "metadata": {},
     "output_type": "execute_result"
    }
   ],
   "source": [
    "differences.head()"
   ]
  },
  {
   "cell_type": "code",
   "execution_count": 36,
   "metadata": {},
   "outputs": [
    {
     "data": {
      "text/plain": [
       "-10    3372180\n",
       "Name: diff, dtype: int64"
      ]
     },
     "execution_count": 36,
     "metadata": {},
     "output_type": "execute_result"
    }
   ],
   "source": [
    "### Only a difference of -10 occurs\n",
    "\n",
    "differences['diff'].value_counts()"
   ]
  },
  {
   "cell_type": "code",
   "execution_count": 37,
   "metadata": {},
   "outputs": [
    {
     "data": {
      "text/plain": [
       "33721800"
      ]
     },
     "execution_count": 37,
     "metadata": {},
     "output_type": "execute_result"
    }
   ],
   "source": [
    "### all the 1 ct transactions result in 33721.80 euro\n",
    "\n",
    "total_diff = (differences['diff'].sum())*-1\n",
    "total_diff"
   ]
  },
  {
   "cell_type": "markdown",
   "metadata": {},
   "source": [
    "Investigate when 1 cents are vanished mostly (at which timestamp)"
   ]
  },
  {
   "cell_type": "code",
   "execution_count": 38,
   "metadata": {},
   "outputs": [],
   "source": [
    "diff_ts = differences[['timestamp', 'diff']]\n",
    "diff_ts = diff_ts.groupby(['timestamp']).sum()\n",
    "difts = list(diff_ts.index)\n",
    "diff_val = list((diff_ts.values).flatten())"
   ]
  },
  {
   "cell_type": "markdown",
   "metadata": {},
   "source": [
    "### Investigate the 'one cent' account"
   ]
  },
  {
   "cell_type": "code",
   "execution_count": 39,
   "metadata": {},
   "outputs": [
    {
     "data": {
      "text/html": [
       "<div>\n",
       "<style scoped>\n",
       "    .dataframe tbody tr th:only-of-type {\n",
       "        vertical-align: middle;\n",
       "    }\n",
       "\n",
       "    .dataframe tbody tr th {\n",
       "        vertical-align: top;\n",
       "    }\n",
       "\n",
       "    .dataframe thead th {\n",
       "        text-align: right;\n",
       "    }\n",
       "</style>\n",
       "<table border=\"1\" class=\"dataframe\">\n",
       "  <thead>\n",
       "    <tr style=\"text-align: right;\">\n",
       "      <th></th>\n",
       "      <th>timestamp</th>\n",
       "      <th>amount</th>\n",
       "      <th>nameOrig</th>\n",
       "      <th>oldbalanceOrig</th>\n",
       "      <th>newbalanceOrig</th>\n",
       "      <th>nameDest</th>\n",
       "      <th>oldbalanceDest</th>\n",
       "      <th>newbalanceDest</th>\n",
       "      <th>Orig_diff</th>\n",
       "      <th>Dest_diff</th>\n",
       "      <th>diff</th>\n",
       "    </tr>\n",
       "  </thead>\n",
       "  <tbody>\n",
       "    <tr>\n",
       "      <th>0</th>\n",
       "      <td>1</td>\n",
       "      <td>10</td>\n",
       "      <td>C1231006815</td>\n",
       "      <td>170136000</td>\n",
       "      <td>170135990</td>\n",
       "      <td>C52983754</td>\n",
       "      <td>10</td>\n",
       "      <td>20</td>\n",
       "      <td>10</td>\n",
       "      <td>10</td>\n",
       "      <td>0</td>\n",
       "    </tr>\n",
       "    <tr>\n",
       "      <th>6</th>\n",
       "      <td>1</td>\n",
       "      <td>10</td>\n",
       "      <td>C90045638</td>\n",
       "      <td>53860000</td>\n",
       "      <td>53859990</td>\n",
       "      <td>C52983754</td>\n",
       "      <td>20</td>\n",
       "      <td>30</td>\n",
       "      <td>10</td>\n",
       "      <td>10</td>\n",
       "      <td>0</td>\n",
       "    </tr>\n",
       "    <tr>\n",
       "      <th>13</th>\n",
       "      <td>1</td>\n",
       "      <td>10</td>\n",
       "      <td>C249177573</td>\n",
       "      <td>20771000</td>\n",
       "      <td>20770990</td>\n",
       "      <td>C52983754</td>\n",
       "      <td>30</td>\n",
       "      <td>40</td>\n",
       "      <td>10</td>\n",
       "      <td>10</td>\n",
       "      <td>0</td>\n",
       "    </tr>\n",
       "    <tr>\n",
       "      <th>16</th>\n",
       "      <td>1</td>\n",
       "      <td>10</td>\n",
       "      <td>C1716932897</td>\n",
       "      <td>10127000</td>\n",
       "      <td>10126990</td>\n",
       "      <td>C52983754</td>\n",
       "      <td>40</td>\n",
       "      <td>50</td>\n",
       "      <td>10</td>\n",
       "      <td>10</td>\n",
       "      <td>0</td>\n",
       "    </tr>\n",
       "    <tr>\n",
       "      <th>20</th>\n",
       "      <td>1</td>\n",
       "      <td>10</td>\n",
       "      <td>C761750706</td>\n",
       "      <td>450000</td>\n",
       "      <td>449990</td>\n",
       "      <td>C52983754</td>\n",
       "      <td>50</td>\n",
       "      <td>60</td>\n",
       "      <td>10</td>\n",
       "      <td>10</td>\n",
       "      <td>0</td>\n",
       "    </tr>\n",
       "  </tbody>\n",
       "</table>\n",
       "</div>"
      ],
      "text/plain": [
       "    timestamp  amount     nameOrig  oldbalanceOrig  newbalanceOrig   nameDest  \\\n",
       "0           1      10  C1231006815       170136000       170135990  C52983754   \n",
       "6           1      10    C90045638        53860000        53859990  C52983754   \n",
       "13          1      10   C249177573        20771000        20770990  C52983754   \n",
       "16          1      10  C1716932897        10127000        10126990  C52983754   \n",
       "20          1      10   C761750706          450000          449990  C52983754   \n",
       "\n",
       "    oldbalanceDest  newbalanceDest  Orig_diff  Dest_diff  diff  \n",
       "0               10              20         10         10     0  \n",
       "6               20              30         10         10     0  \n",
       "13              30              40         10         10     0  \n",
       "16              40              50         10         10     0  \n",
       "20              50              60         10         10     0  "
      ]
     },
     "execution_count": 39,
     "metadata": {},
     "output_type": "execute_result"
    }
   ],
   "source": [
    "onecent = df_mut[df_mut['amount'] == 10]\n",
    "onecent.head()"
   ]
  },
  {
   "cell_type": "code",
   "execution_count": 40,
   "metadata": {},
   "outputs": [
    {
     "data": {
      "text/plain": [
       "C52983754     1372194\n",
       "C554562342          1\n",
       "Name: nameDest, dtype: int64"
      ]
     },
     "execution_count": 40,
     "metadata": {},
     "output_type": "execute_result"
    }
   ],
   "source": [
    "### account C52983754  gets 1372194 times 1 ct\n",
    "\n",
    "onecent['nameDest'].value_counts()"
   ]
  },
  {
   "cell_type": "code",
   "execution_count": 41,
   "metadata": {},
   "outputs": [],
   "source": [
    "onecent = onecent[onecent['nameDest'] == 'C52983754']"
   ]
  },
  {
   "cell_type": "code",
   "execution_count": 42,
   "metadata": {},
   "outputs": [
    {
     "data": {
      "text/plain": [
       "13721940"
      ]
     },
     "execution_count": 42,
     "metadata": {},
     "output_type": "execute_result"
    }
   ],
   "source": [
    "# total amount that C52983754 earned (Divide by thousand)\n",
    "\n",
    "total = onecent['amount'].sum()\n",
    "total"
   ]
  },
  {
   "cell_type": "code",
   "execution_count": 43,
   "metadata": {},
   "outputs": [
    {
     "data": {
      "text/plain": [
       "19999860"
      ]
     },
     "execution_count": 43,
     "metadata": {},
     "output_type": "execute_result"
    }
   ],
   "source": [
    "bet = total_diff - total\n",
    "bet"
   ]
  },
  {
   "cell_type": "markdown",
   "metadata": {},
   "source": [
    "#### Arrange C52983754 by timestamp"
   ]
  },
  {
   "cell_type": "code",
   "execution_count": 44,
   "metadata": {},
   "outputs": [],
   "source": [
    "one = onecent[['timestamp', 'amount']]\n",
    "one = one.groupby(['timestamp']).sum()"
   ]
  },
  {
   "cell_type": "code",
   "execution_count": 45,
   "metadata": {},
   "outputs": [],
   "source": [
    "ts_one = list(one.index)\n",
    "am_one = list((one.values).flatten())"
   ]
  },
  {
   "cell_type": "code",
   "execution_count": 46,
   "metadata": {},
   "outputs": [
    {
     "data": {
      "text/plain": [
       "[5760, 7760, 9090, 10330, 11660, 15140, 30010, 74230, 154830, 230700]"
      ]
     },
     "execution_count": 46,
     "metadata": {},
     "output_type": "execute_result"
    }
   ],
   "source": [
    "# Make cumulative\n",
    "am_one2 = []\n",
    "\n",
    "sum_x = 0\n",
    "for i in am_one:\n",
    "    sum_x += i\n",
    "    am_one2.append(sum_x)\n",
    "\n",
    "am_one2[:10]"
   ]
  },
  {
   "cell_type": "markdown",
   "metadata": {},
   "source": [
    "### Investigate 'C1286084959' (occurs most as 'original' account)"
   ]
  },
  {
   "cell_type": "code",
   "execution_count": 47,
   "metadata": {},
   "outputs": [
    {
     "data": {
      "text/html": [
       "<div>\n",
       "<style scoped>\n",
       "    .dataframe tbody tr th:only-of-type {\n",
       "        vertical-align: middle;\n",
       "    }\n",
       "\n",
       "    .dataframe tbody tr th {\n",
       "        vertical-align: top;\n",
       "    }\n",
       "\n",
       "    .dataframe thead th {\n",
       "        text-align: right;\n",
       "    }\n",
       "</style>\n",
       "<table border=\"1\" class=\"dataframe\">\n",
       "  <thead>\n",
       "    <tr style=\"text-align: right;\">\n",
       "      <th></th>\n",
       "      <th>timestamp</th>\n",
       "      <th>amount</th>\n",
       "      <th>nameOrig</th>\n",
       "      <th>oldbalanceOrig</th>\n",
       "      <th>newbalanceOrig</th>\n",
       "      <th>nameDest</th>\n",
       "      <th>oldbalanceDest</th>\n",
       "      <th>newbalanceDest</th>\n",
       "      <th>Orig_diff</th>\n",
       "      <th>Dest_diff</th>\n",
       "      <th>diff</th>\n",
       "    </tr>\n",
       "  </thead>\n",
       "  <tbody>\n",
       "    <tr>\n",
       "      <th>226363</th>\n",
       "      <td>13</td>\n",
       "      <td>588800</td>\n",
       "      <td>C1286084959</td>\n",
       "      <td>28291069530</td>\n",
       "      <td>28290480730</td>\n",
       "      <td>C2342523425</td>\n",
       "      <td>0</td>\n",
       "      <td>588800</td>\n",
       "      <td>588800</td>\n",
       "      <td>588800</td>\n",
       "      <td>0</td>\n",
       "    </tr>\n",
       "    <tr>\n",
       "      <th>426361</th>\n",
       "      <td>17</td>\n",
       "      <td>517940</td>\n",
       "      <td>C1286084959</td>\n",
       "      <td>31078745265</td>\n",
       "      <td>31078227325</td>\n",
       "      <td>C2342523425</td>\n",
       "      <td>588800</td>\n",
       "      <td>1106740</td>\n",
       "      <td>517940</td>\n",
       "      <td>517940</td>\n",
       "      <td>0</td>\n",
       "    </tr>\n",
       "    <tr>\n",
       "      <th>541115</th>\n",
       "      <td>19</td>\n",
       "      <td>292980</td>\n",
       "      <td>C1286084959</td>\n",
       "      <td>31475729030</td>\n",
       "      <td>31475436050</td>\n",
       "      <td>C2342523425</td>\n",
       "      <td>1106740</td>\n",
       "      <td>1399720</td>\n",
       "      <td>292980</td>\n",
       "      <td>292980</td>\n",
       "      <td>0</td>\n",
       "    </tr>\n",
       "    <tr>\n",
       "      <th>786105</th>\n",
       "      <td>35</td>\n",
       "      <td>633550</td>\n",
       "      <td>C1286084959</td>\n",
       "      <td>32146482265</td>\n",
       "      <td>32145848715</td>\n",
       "      <td>C2342523425</td>\n",
       "      <td>1399720</td>\n",
       "      <td>2033270</td>\n",
       "      <td>633550</td>\n",
       "      <td>633550</td>\n",
       "      <td>0</td>\n",
       "    </tr>\n",
       "    <tr>\n",
       "      <th>944973</th>\n",
       "      <td>39</td>\n",
       "      <td>411960</td>\n",
       "      <td>C1286084959</td>\n",
       "      <td>33782267380</td>\n",
       "      <td>33781855420</td>\n",
       "      <td>C2342523425</td>\n",
       "      <td>2033270</td>\n",
       "      <td>2445230</td>\n",
       "      <td>411960</td>\n",
       "      <td>411960</td>\n",
       "      <td>0</td>\n",
       "    </tr>\n",
       "  </tbody>\n",
       "</table>\n",
       "</div>"
      ],
      "text/plain": [
       "        timestamp  amount     nameOrig  oldbalanceOrig  newbalanceOrig  \\\n",
       "226363         13  588800  C1286084959     28291069530     28290480730   \n",
       "426361         17  517940  C1286084959     31078745265     31078227325   \n",
       "541115         19  292980  C1286084959     31475729030     31475436050   \n",
       "786105         35  633550  C1286084959     32146482265     32145848715   \n",
       "944973         39  411960  C1286084959     33782267380     33781855420   \n",
       "\n",
       "           nameDest  oldbalanceDest  newbalanceDest  Orig_diff  Dest_diff  \\\n",
       "226363  C2342523425               0          588800     588800     588800   \n",
       "426361  C2342523425          588800         1106740     517940     517940   \n",
       "541115  C2342523425         1106740         1399720     292980     292980   \n",
       "786105  C2342523425         1399720         2033270     633550     633550   \n",
       "944973  C2342523425         2033270         2445230     411960     411960   \n",
       "\n",
       "        diff  \n",
       "226363     0  \n",
       "426361     0  \n",
       "541115     0  \n",
       "786105     0  \n",
       "944973     0  "
      ]
     },
     "execution_count": 47,
     "metadata": {},
     "output_type": "execute_result"
    }
   ],
   "source": [
    "# It occurs that ALL transactions from C1286084959 go to C2342523425\n",
    "\n",
    "fraud_1ct = df_mut[df_mut['nameOrig'] == 'C1286084959']\n",
    "fraud_1ct.head()"
   ]
  },
  {
   "cell_type": "code",
   "execution_count": 48,
   "metadata": {},
   "outputs": [
    {
     "data": {
      "text/plain": [
       "19999860"
      ]
     },
     "execution_count": 48,
     "metadata": {},
     "output_type": "execute_result"
    }
   ],
   "source": [
    "## Total amount that is booked from C1286084959 to C2342523425 is 19999860\n",
    "\n",
    "y = df_mut[df_mut['nameDest'] == 'C2342523425']['amount'].sum()\n",
    "y"
   ]
  },
  {
   "cell_type": "code",
   "execution_count": 49,
   "metadata": {},
   "outputs": [
    {
     "data": {
      "text/plain": [
       "19999860"
      ]
     },
     "execution_count": 49,
     "metadata": {},
     "output_type": "execute_result"
    }
   ],
   "source": [
    "### This is EXACTLY the difference between the total difference and the one ct total amount!\n",
    "\n",
    "# remember:\n",
    "# total = onecent['amount'].sum()-10\n",
    "# total_diff = (differences['diff'].sum())*-1\n",
    "\n",
    "result = total_diff - total\n",
    "result"
   ]
  },
  {
   "cell_type": "markdown",
   "metadata": {},
   "source": [
    "Seems like C1286084959 books fraudulent money to C2342523425. It however needs to give up some money to C52983754 (the one ct account). It is still unclear where the difference in balance (the one cents differences) are stored. Therefore, we examine the account balance from C1286084959"
   ]
  },
  {
   "cell_type": "markdown",
   "metadata": {},
   "source": [
    "#### C1286084959 Account balance"
   ]
  },
  {
   "cell_type": "code",
   "execution_count": 50,
   "metadata": {},
   "outputs": [
    {
     "name": "stdout",
     "output_type": "stream",
     "text": [
      "113\n"
     ]
    },
    {
     "data": {
      "text/html": [
       "<div>\n",
       "<style scoped>\n",
       "    .dataframe tbody tr th:only-of-type {\n",
       "        vertical-align: middle;\n",
       "    }\n",
       "\n",
       "    .dataframe tbody tr th {\n",
       "        vertical-align: top;\n",
       "    }\n",
       "\n",
       "    .dataframe thead th {\n",
       "        text-align: right;\n",
       "    }\n",
       "</style>\n",
       "<table border=\"1\" class=\"dataframe\">\n",
       "  <thead>\n",
       "    <tr style=\"text-align: right;\">\n",
       "      <th></th>\n",
       "      <th>timestamp</th>\n",
       "      <th>amount</th>\n",
       "      <th>nameOrig</th>\n",
       "      <th>oldbalanceOrig</th>\n",
       "      <th>newbalanceOrig</th>\n",
       "      <th>nameDest</th>\n",
       "      <th>oldbalanceDest</th>\n",
       "      <th>newbalanceDest</th>\n",
       "      <th>Orig_diff</th>\n",
       "      <th>Dest_diff</th>\n",
       "      <th>diff</th>\n",
       "    </tr>\n",
       "  </thead>\n",
       "  <tbody>\n",
       "    <tr>\n",
       "      <th>5846720</th>\n",
       "      <td>346</td>\n",
       "      <td>84205390</td>\n",
       "      <td>C86576996</td>\n",
       "      <td>0</td>\n",
       "      <td>-84205390</td>\n",
       "      <td>C1286084959</td>\n",
       "      <td>76419822250</td>\n",
       "      <td>76504027640</td>\n",
       "      <td>84205390</td>\n",
       "      <td>84205390</td>\n",
       "      <td>0</td>\n",
       "    </tr>\n",
       "    <tr>\n",
       "      <th>5874532</th>\n",
       "      <td>347</td>\n",
       "      <td>235564750</td>\n",
       "      <td>C1068656420</td>\n",
       "      <td>0</td>\n",
       "      <td>-235564755</td>\n",
       "      <td>C1286084959</td>\n",
       "      <td>76504099380</td>\n",
       "      <td>76739664125</td>\n",
       "      <td>235564755</td>\n",
       "      <td>235564745</td>\n",
       "      <td>-10</td>\n",
       "    </tr>\n",
       "    <tr>\n",
       "      <th>6767230</th>\n",
       "      <td>393</td>\n",
       "      <td>119568310</td>\n",
       "      <td>C1878371174</td>\n",
       "      <td>8348248960</td>\n",
       "      <td>8228680650</td>\n",
       "      <td>C1286084959</td>\n",
       "      <td>76738820156</td>\n",
       "      <td>76858388466</td>\n",
       "      <td>119568310</td>\n",
       "      <td>119568310</td>\n",
       "      <td>0</td>\n",
       "    </tr>\n",
       "    <tr>\n",
       "      <th>6803238</th>\n",
       "      <td>394</td>\n",
       "      <td>381887530</td>\n",
       "      <td>C1789981744</td>\n",
       "      <td>50447000</td>\n",
       "      <td>-331440530</td>\n",
       "      <td>C1286084959</td>\n",
       "      <td>76858479596</td>\n",
       "      <td>77240367116</td>\n",
       "      <td>381887530</td>\n",
       "      <td>381887520</td>\n",
       "      <td>-10</td>\n",
       "    </tr>\n",
       "    <tr>\n",
       "      <th>7041037</th>\n",
       "      <td>401</td>\n",
       "      <td>189251840</td>\n",
       "      <td>C1256632176</td>\n",
       "      <td>22224000</td>\n",
       "      <td>-167027845</td>\n",
       "      <td>C1286084959</td>\n",
       "      <td>77239933486</td>\n",
       "      <td>77429185321</td>\n",
       "      <td>189251845</td>\n",
       "      <td>189251835</td>\n",
       "      <td>-10</td>\n",
       "    </tr>\n",
       "  </tbody>\n",
       "</table>\n",
       "</div>"
      ],
      "text/plain": [
       "         timestamp     amount     nameOrig  oldbalanceOrig  newbalanceOrig  \\\n",
       "5846720        346   84205390    C86576996               0       -84205390   \n",
       "5874532        347  235564750  C1068656420               0      -235564755   \n",
       "6767230        393  119568310  C1878371174      8348248960      8228680650   \n",
       "6803238        394  381887530  C1789981744        50447000      -331440530   \n",
       "7041037        401  189251840  C1256632176        22224000      -167027845   \n",
       "\n",
       "            nameDest  oldbalanceDest  newbalanceDest  Orig_diff  Dest_diff  \\\n",
       "5846720  C1286084959     76419822250     76504027640   84205390   84205390   \n",
       "5874532  C1286084959     76504099380     76739664125  235564755  235564745   \n",
       "6767230  C1286084959     76738820156     76858388466  119568310  119568310   \n",
       "6803238  C1286084959     76858479596     77240367116  381887530  381887520   \n",
       "7041037  C1286084959     77239933486     77429185321  189251845  189251835   \n",
       "\n",
       "         diff  \n",
       "5846720     0  \n",
       "5874532   -10  \n",
       "6767230     0  \n",
       "6803238   -10  \n",
       "7041037   -10  "
      ]
     },
     "execution_count": 50,
     "metadata": {},
     "output_type": "execute_result"
    }
   ],
   "source": [
    "## fraud_1ct was the nameOrig dataframe of C1286084959\n",
    "\n",
    "c4595 = df_mut[df_mut['nameDest'] == 'C1286084959']\n",
    "print(len(c4595))\n",
    "c4595.tail()"
   ]
  },
  {
   "cell_type": "code",
   "execution_count": 51,
   "metadata": {},
   "outputs": [
    {
     "name": "stdout",
     "output_type": "stream",
     "text": [
      "133\n"
     ]
    }
   ],
   "source": [
    "### Merge properly to check account differences\n",
    "### sort by index to get the right timeframe\n",
    "\n",
    "c4595_ = pd.concat([c4595, fraud_1ct])\n",
    "c4595_ = c4595_.sort_index()\n",
    "print(len(c4595_))"
   ]
  },
  {
   "cell_type": "code",
   "execution_count": 52,
   "metadata": {},
   "outputs": [],
   "source": [
    "### We see that the balances do NOT match... therefore we try to calculate the difference in acount balances.\n",
    "\n",
    "c_ = c4595_\n",
    "c_ = c_.reset_index()\n",
    "del c_['index']\n",
    "\n",
    "list1_ =[]\n",
    "list2_ =[]\n",
    "timestamps = []\n",
    "\n",
    "for row in c4595_.values:\n",
    "    if row[5] == 'C1286084959':\n",
    "        list1_.append(row[6])\n",
    "        list2_.append(row[7])\n",
    "    elif row[2] == 'C1286084959':\n",
    "        list1_.append(row[3])\n",
    "        list2_.append(row[4])\n",
    "\n",
    "dif = []\n",
    "\n",
    "for i in range(len(list1_)):\n",
    "    if i == len(list1_)-2:\n",
    "        timestamps.append(c_.iloc[i, 0])\n",
    "        x = list1_[i+1] - list2_[i]\n",
    "        dif.append(x)\n",
    "        break\n",
    "    else:\n",
    "        timestamps.append(c_.iloc[i, 0])\n",
    "        x = list1_[i+1] - list2_[i]\n",
    "        dif.append(x)"
   ]
  },
  {
   "cell_type": "markdown",
   "metadata": {},
   "source": [
    "### Few visualizations about findings untill now"
   ]
  },
  {
   "cell_type": "code",
   "execution_count": 53,
   "metadata": {},
   "outputs": [],
   "source": [
    "# MAKE df with dif and timestamps\n",
    "## Prepare data for graphs\n",
    "\n",
    "### The miraculously gained money\n",
    "dif_ = pd.DataFrame()\n",
    "dif_[\"ts\"] = timestamps\n",
    "dif_['Amount'] = dif\n",
    "dif_ = dif_.groupby(['ts']).sum()\n",
    "\n",
    "timestamp = list(dif_.index)\n",
    "amounts = dif_.values\n",
    "amounts = list(amounts.flatten())\n",
    "\n",
    "## The onecents booked to C52983754\n",
    "onecent = onecent[onecent[\"nameDest\"] == 'C52983754']\n",
    "onecent_ = onecent[['timestamp', 'amount']]\n",
    "onecent_ = onecent_.groupby(['timestamp']).sum()\n",
    "\n",
    "### all 1cts differences\n",
    "## multiply by -1\n",
    "\n",
    "val = [x*-1 for x in diff_val]\n",
    "\n",
    "## Make the dissapeared 1cts cumulative\n",
    "\n",
    "amounts2 = []\n",
    "val2 = []\n",
    "\n",
    "# amount miraculously created\n",
    "sum__ = 0\n",
    "for i in amounts:\n",
    "    sum__ += i\n",
    "    amounts2.append(sum__)\n",
    "\n",
    "# for all 1cts vanished\n",
    "sum_ = 0\n",
    "for j in val:\n",
    "    sum_ += j\n",
    "    val2.append(sum_)\n",
    "\n",
    "fraud_ts = list(fraud_1ct['timestamp'])\n",
    "fraud_am = list(fraud_1ct['amount'])\n",
    "\n",
    "# Make the transferred amounts from C1286084959 cumulative\n",
    "## the bookings to another account\n",
    "\n",
    "fraud_a = []\n",
    "\n",
    "sumx = 0\n",
    "for i in fraud_am:\n",
    "    sumx += i\n",
    "    fraud_a.append(sumx)\n",
    "    \n",
    "# Make cumulative\n",
    "## All 1ct differences (C52983754)\n",
    "\n",
    "am_one2 = []\n",
    "\n",
    "sum_x = 0\n",
    "for i in am_one:\n",
    "    sum_x += i\n",
    "    am_one2.append(sum_x)"
   ]
  },
  {
   "cell_type": "code",
   "execution_count": 54,
   "metadata": {},
   "outputs": [
    {
     "data": {
      "image/png": "[encoded data removed]",
      "text/plain": [
       "<Figure size 432x288 with 1 Axes>"
      ]
     },
     "metadata": {
      "needs_background": "light"
     },
     "output_type": "display_data"
    }
   ],
   "source": [
    "plt.title('1-cent transactions amount per ts', fontsize=16)\n",
    "plt.xlabel('Timestamp', fontsize=14)\n",
    "plt.ylabel('Amount (cumulative)', fontsize=14)\n",
    "plt.plot(difts, val2, linestyle='dashed')\n",
    "plt.plot(ts_one, am_one2, linestyle='dashed', color='orange')\n",
    "plt.legend(['Total 1 cents vanished', '1 cents to C52983754'])\n",
    "plt.grid()\n",
    "plt.savefig('ts_fraud-4.png')\n",
    "plt.show()"
   ]
  },
  {
   "cell_type": "code",
   "execution_count": 55,
   "metadata": {},
   "outputs": [
    {
     "data": {
      "image/png": "[encoded data removed]",
      "text/plain": [
       "<Figure size 432x288 with 1 Axes>"
      ]
     },
     "metadata": {
      "needs_background": "light"
     },
     "output_type": "display_data"
    }
   ],
   "source": [
    "plt.title('Amounts collected and transferred', fontsize=16)\n",
    "plt.xlabel('Timestamp', fontsize=14)\n",
    "plt.ylabel('Amount (cumulative)', fontsize=14)\n",
    "plt.plot(timestamp, amounts2, marker='o', color='skyblue', alpha = 0.7)\n",
    "plt.plot(fraud_ts, fraud_a, marker=\"o\", color='red', alpha=0.5)\n",
    "plt.plot(difts, val2, linestyle='dashed')\n",
    "plt.plot(ts_one, am_one2, linestyle='dashed', color='orange')\n",
    "plt.legend(['C1286084959', 'to C2342523425', '1cts', 'to C52983754'])\n",
    "plt.grid()\n",
    "# plt.savefig('ts_fraud-1.png')\n",
    "plt.show()"
   ]
  },
  {
   "cell_type": "markdown",
   "metadata": {},
   "source": [
    "Create line that approximates the values of 'C1286084959'"
   ]
  },
  {
   "cell_type": "code",
   "execution_count": 56,
   "metadata": {},
   "outputs": [
    {
     "name": "stdout",
     "output_type": "stream",
     "text": [
      "[14350, 19520, 22510, 25690, 28940] 741\n",
      "[5760, 7760, 9090, 10330, 11660] 710\n",
      "[8590, 11760, 13420, 15360, 17280]\n"
     ]
    }
   ],
   "source": [
    "# product = val2 - am_one2\n",
    "\n",
    "product = []\n",
    "\n",
    "zip_object = zip(val2, am_one2)\n",
    "for val2_i, am_one2_i in zip_object:\n",
    "    product.append(val2_i-am_one2_i)\n",
    "\n",
    "print(val2[:5], len(val2))\n",
    "print(am_one2[:5], len(am_one2))\n",
    "print(product[:5])"
   ]
  },
  {
   "cell_type": "code",
   "execution_count": 57,
   "metadata": {},
   "outputs": [
    {
     "data": {
      "image/png": "[encoded data removed]",
      "text/plain": [
       "<Figure size 432x288 with 1 Axes>"
      ]
     },
     "metadata": {
      "needs_background": "light"
     },
     "output_type": "display_data"
    }
   ],
   "source": [
    "plt.title('1-cent transactions amount per ts', fontsize=16)\n",
    "plt.xlabel('Timestamp', fontsize=14)\n",
    "plt.ylabel('Amount (cumulative)', fontsize=14)\n",
    "plt.plot(ts_one, product, marker='o', markersize=1,  color='red', alpha = 0.5)\n",
    "plt.plot(difts, val2, linestyle='dashed', linewidth=2)\n",
    "plt.plot(ts_one, am_one2, linestyle='dashed', color='orange')\n",
    "plt.legend(['Approximated line', '1 cents vanished', '1cts to C52983754'])\n",
    "plt.grid()\n",
    "plt.savefig('ts_fraud-3.png')\n",
    "plt.show()"
   ]
  },
  {
   "cell_type": "code",
   "execution_count": 58,
   "metadata": {},
   "outputs": [
    {
     "data": {
      "image/png": "[encoded data removed]",
      "text/plain": [
       "<Figure size 432x288 with 1 Axes>"
      ]
     },
     "metadata": {
      "needs_background": "light"
     },
     "output_type": "display_data"
    }
   ],
   "source": [
    "plt.title('Amounts gained and transferred by C1286084959', fontsize=16)\n",
    "plt.xlabel('Timestamp', fontsize=14)\n",
    "plt.ylabel('Amount (cumulative)', fontsize=14)\n",
    "plt.plot(timestamp, amounts2, marker='o', alpha = 0.7, color='skyblue')\n",
    "plt.plot(fraud_ts, fraud_a, marker=\"o\", alpha=0.4, color='red')\n",
    "plt.legend(['Created by C1286084959', 'Booked to C2342523425'])\n",
    "plt.grid()\n",
    "plt.savefig('ts_fraud-2.png')\n",
    "plt.show()"
   ]
  },
  {
   "cell_type": "code",
   "execution_count": 59,
   "metadata": {},
   "outputs": [
    {
     "data": {
      "image/png": "[encoded data removed]",
      "text/plain": [
       "<Figure size 432x288 with 1 Axes>"
      ]
     },
     "metadata": {
      "needs_background": "light"
     },
     "output_type": "display_data"
    }
   ],
   "source": [
    "## Test whether it is more clear with LN\n",
    "\n",
    "amounts3 = [np.log(x) for x in amounts2]\n",
    "frauda2 = [np.log(x) for x in fraud_a]\n",
    "\n",
    "plt.title('Amount created and transferred', fontsize=16)\n",
    "plt.xlabel('timestamp', fontsize=14)\n",
    "plt.ylabel('Amount (cumulative)', fontsize=14)\n",
    "plt.plot(timestamp, amounts3, marker='o', alpha = 0.7, color='skyblue')\n",
    "plt.plot(fraud_ts, frauda2, marker=\"o\", alpha=0.4, color='red')\n",
    "plt.grid()\n",
    "plt.show()"
   ]
  },
  {
   "cell_type": "code",
   "execution_count": 60,
   "metadata": {},
   "outputs": [
    {
     "data": {
      "text/plain": [
       "(19999182, 19999860)"
      ]
     },
     "execution_count": 60,
     "metadata": {},
     "output_type": "execute_result"
    }
   ],
   "source": [
    "## almost matches: y = df_mut[df_mut['nameDest'] == 'C2342523425']['amount'].sum()\n",
    "## c4595_['diff'].sum() represent the difference (1 cts) that sometimes vanish even from C1286084959\n",
    "\n",
    "sum_ = sum(dif)\n",
    "sum_, y"
   ]
  },
  {
   "cell_type": "code",
   "execution_count": 61,
   "metadata": {},
   "outputs": [
    {
     "data": {
      "text/plain": [
       "678"
      ]
     },
     "execution_count": 61,
     "metadata": {},
     "output_type": "execute_result"
    }
   ],
   "source": [
    "## Only 0.68 cents difference... (remember to divide by thousand)\n",
    "# could easily be a rounding error or mistake in calculations.\n",
    "\n",
    "a = (y - sum_)\n",
    "a"
   ]
  },
  {
   "cell_type": "code",
   "execution_count": 62,
   "metadata": {},
   "outputs": [
    {
     "data": {
      "text/plain": [
       "-0.63"
      ]
     },
     "execution_count": 62,
     "metadata": {},
     "output_type": "execute_result"
    }
   ],
   "source": [
    "# 1cts that vanish from C1286084959\n",
    "\n",
    "c4595_['diff'].sum()/1000"
   ]
  },
  {
   "cell_type": "markdown",
   "metadata": {},
   "source": [
    "However, we can conclude that somehow the amounts that 'dissapear' (the 0cts), most likely are unvisibly added to the account of C1286084959 "
   ]
  },
  {
   "cell_type": "markdown",
   "metadata": {},
   "source": [
    "### Patterns"
   ]
  },
  {
   "cell_type": "code",
   "execution_count": 63,
   "metadata": {},
   "outputs": [
    {
     "data": {
      "text/html": [
       "<div>\n",
       "<style scoped>\n",
       "    .dataframe tbody tr th:only-of-type {\n",
       "        vertical-align: middle;\n",
       "    }\n",
       "\n",
       "    .dataframe tbody tr th {\n",
       "        vertical-align: top;\n",
       "    }\n",
       "\n",
       "    .dataframe thead th {\n",
       "        text-align: right;\n",
       "    }\n",
       "</style>\n",
       "<table border=\"1\" class=\"dataframe\">\n",
       "  <thead>\n",
       "    <tr style=\"text-align: right;\">\n",
       "      <th></th>\n",
       "      <th>timestamp</th>\n",
       "      <th>amount</th>\n",
       "      <th>nameOrig</th>\n",
       "      <th>oldbalanceOrig</th>\n",
       "      <th>newbalanceOrig</th>\n",
       "      <th>nameDest</th>\n",
       "      <th>oldbalanceDest</th>\n",
       "      <th>newbalanceDest</th>\n",
       "      <th>Orig_diff</th>\n",
       "      <th>Dest_diff</th>\n",
       "      <th>diff</th>\n",
       "    </tr>\n",
       "  </thead>\n",
       "  <tbody>\n",
       "    <tr>\n",
       "      <th>0</th>\n",
       "      <td>1</td>\n",
       "      <td>10</td>\n",
       "      <td>C1231006815</td>\n",
       "      <td>170136000</td>\n",
       "      <td>170135990</td>\n",
       "      <td>C52983754</td>\n",
       "      <td>10</td>\n",
       "      <td>20</td>\n",
       "      <td>10</td>\n",
       "      <td>10</td>\n",
       "      <td>0</td>\n",
       "    </tr>\n",
       "    <tr>\n",
       "      <th>1</th>\n",
       "      <td>1</td>\n",
       "      <td>9839640</td>\n",
       "      <td>C1231006815</td>\n",
       "      <td>170136000</td>\n",
       "      <td>160296360</td>\n",
       "      <td>M1979787155</td>\n",
       "      <td>0</td>\n",
       "      <td>9839630</td>\n",
       "      <td>9839640</td>\n",
       "      <td>9839630</td>\n",
       "      <td>-10</td>\n",
       "    </tr>\n",
       "    <tr>\n",
       "      <th>6</th>\n",
       "      <td>1</td>\n",
       "      <td>10</td>\n",
       "      <td>C90045638</td>\n",
       "      <td>53860000</td>\n",
       "      <td>53859990</td>\n",
       "      <td>C52983754</td>\n",
       "      <td>20</td>\n",
       "      <td>30</td>\n",
       "      <td>10</td>\n",
       "      <td>10</td>\n",
       "      <td>0</td>\n",
       "    </tr>\n",
       "    <tr>\n",
       "      <th>7</th>\n",
       "      <td>1</td>\n",
       "      <td>7817710</td>\n",
       "      <td>C90045638</td>\n",
       "      <td>53860000</td>\n",
       "      <td>46042290</td>\n",
       "      <td>M573487274</td>\n",
       "      <td>0</td>\n",
       "      <td>7817700</td>\n",
       "      <td>7817710</td>\n",
       "      <td>7817700</td>\n",
       "      <td>-10</td>\n",
       "    </tr>\n",
       "    <tr>\n",
       "      <th>13</th>\n",
       "      <td>1</td>\n",
       "      <td>10</td>\n",
       "      <td>C249177573</td>\n",
       "      <td>20771000</td>\n",
       "      <td>20770990</td>\n",
       "      <td>C52983754</td>\n",
       "      <td>30</td>\n",
       "      <td>40</td>\n",
       "      <td>10</td>\n",
       "      <td>10</td>\n",
       "      <td>0</td>\n",
       "    </tr>\n",
       "    <tr>\n",
       "      <th>14</th>\n",
       "      <td>1</td>\n",
       "      <td>3099970</td>\n",
       "      <td>C249177573</td>\n",
       "      <td>20771000</td>\n",
       "      <td>17671030</td>\n",
       "      <td>M2096539129</td>\n",
       "      <td>0</td>\n",
       "      <td>3099960</td>\n",
       "      <td>3099970</td>\n",
       "      <td>3099960</td>\n",
       "      <td>-10</td>\n",
       "    </tr>\n",
       "    <tr>\n",
       "      <th>16</th>\n",
       "      <td>1</td>\n",
       "      <td>10</td>\n",
       "      <td>C1716932897</td>\n",
       "      <td>10127000</td>\n",
       "      <td>10126990</td>\n",
       "      <td>C52983754</td>\n",
       "      <td>40</td>\n",
       "      <td>50</td>\n",
       "      <td>10</td>\n",
       "      <td>10</td>\n",
       "      <td>0</td>\n",
       "    </tr>\n",
       "    <tr>\n",
       "      <th>17</th>\n",
       "      <td>1</td>\n",
       "      <td>11633760</td>\n",
       "      <td>C1716932897</td>\n",
       "      <td>10127000</td>\n",
       "      <td>-1506760</td>\n",
       "      <td>M801569151</td>\n",
       "      <td>0</td>\n",
       "      <td>11633750</td>\n",
       "      <td>11633760</td>\n",
       "      <td>11633750</td>\n",
       "      <td>-10</td>\n",
       "    </tr>\n",
       "    <tr>\n",
       "      <th>20</th>\n",
       "      <td>1</td>\n",
       "      <td>10</td>\n",
       "      <td>C761750706</td>\n",
       "      <td>450000</td>\n",
       "      <td>449990</td>\n",
       "      <td>C52983754</td>\n",
       "      <td>50</td>\n",
       "      <td>60</td>\n",
       "      <td>10</td>\n",
       "      <td>10</td>\n",
       "      <td>0</td>\n",
       "    </tr>\n",
       "    <tr>\n",
       "      <th>21</th>\n",
       "      <td>1</td>\n",
       "      <td>1563820</td>\n",
       "      <td>C761750706</td>\n",
       "      <td>450000</td>\n",
       "      <td>-1113820</td>\n",
       "      <td>M1731217984</td>\n",
       "      <td>0</td>\n",
       "      <td>1563810</td>\n",
       "      <td>1563820</td>\n",
       "      <td>1563810</td>\n",
       "      <td>-10</td>\n",
       "    </tr>\n",
       "  </tbody>\n",
       "</table>\n",
       "</div>"
      ],
      "text/plain": [
       "    timestamp    amount     nameOrig  oldbalanceOrig  newbalanceOrig  \\\n",
       "0           1        10  C1231006815       170136000       170135990   \n",
       "1           1   9839640  C1231006815       170136000       160296360   \n",
       "6           1        10    C90045638        53860000        53859990   \n",
       "7           1   7817710    C90045638        53860000        46042290   \n",
       "13          1        10   C249177573        20771000        20770990   \n",
       "14          1   3099970   C249177573        20771000        17671030   \n",
       "16          1        10  C1716932897        10127000        10126990   \n",
       "17          1  11633760  C1716932897        10127000        -1506760   \n",
       "20          1        10   C761750706          450000          449990   \n",
       "21          1   1563820   C761750706          450000        -1113820   \n",
       "\n",
       "       nameDest  oldbalanceDest  newbalanceDest  Orig_diff  Dest_diff  diff  \n",
       "0     C52983754              10              20         10         10     0  \n",
       "1   M1979787155               0         9839630    9839640    9839630   -10  \n",
       "6     C52983754              20              30         10         10     0  \n",
       "7    M573487274               0         7817700    7817710    7817700   -10  \n",
       "13    C52983754              30              40         10         10     0  \n",
       "14  M2096539129               0         3099960    3099970    3099960   -10  \n",
       "16    C52983754              40              50         10         10     0  \n",
       "17   M801569151               0        11633750   11633760   11633750   -10  \n",
       "20    C52983754              50              60         10         10     0  \n",
       "21  M1731217984               0         1563810    1563820    1563810   -10  "
      ]
     },
     "execution_count": 63,
     "metadata": {},
     "output_type": "execute_result"
    }
   ],
   "source": [
    "# There is a pattern in the fraudulent transactions:\n",
    "# First, the 0.01 cent is transferred to C52983754\n",
    "# subsequently 0.01 cent is vanished from a recievers account\n",
    "\n",
    "subset = onecent.head()\n",
    "\n",
    "temporary = pd.DataFrame()\n",
    "for name in subset['nameOrig']:\n",
    "    x = df_mut[df_mut['nameOrig'] == name]\n",
    "    temporary = pd.concat([temporary, x])\n",
    "\n",
    "t2 = temporary\n",
    "temporary"
   ]
  },
  {
   "cell_type": "code",
   "execution_count": 64,
   "metadata": {},
   "outputs": [],
   "source": [
    "# del t2['timestamp']\n",
    "del t2['Orig_diff']\n",
    "del t2['Dest_diff']\n",
    "del t2['oldbalanceDest']"
   ]
  },
  {
   "cell_type": "code",
   "execution_count": 65,
   "metadata": {},
   "outputs": [
    {
     "name": "stdout",
     "output_type": "stream",
     "text": [
      "\\begin{tabular}{rrlrrlrr}\n",
      "\\toprule\n",
      " timestamp &    amount &     nameOrig &  oldbalanceOrig &  newbalanceOrig &     nameDest &  newbalanceDest &  diff \\\\\n",
      "\\midrule\n",
      "         1 &        10 &  C1231006815 &       170136000 &       170135990 &    C52983754 &              20 &     0 \\\\\n",
      "         1 &   9839640 &  C1231006815 &       170136000 &       160296360 &  M1979787155 &         9839630 &   -10 \\\\\n",
      "         1 &        10 &    C90045638 &        53860000 &        53859990 &    C52983754 &              30 &     0 \\\\\n",
      "         1 &   7817710 &    C90045638 &        53860000 &        46042290 &   M573487274 &         7817700 &   -10 \\\\\n",
      "         1 &        10 &   C249177573 &        20771000 &        20770990 &    C52983754 &              40 &     0 \\\\\n",
      "         1 &   3099970 &   C249177573 &        20771000 &        17671030 &  M2096539129 &         3099960 &   -10 \\\\\n",
      "         1 &        10 &  C1716932897 &        10127000 &        10126990 &    C52983754 &              50 &     0 \\\\\n",
      "         1 &  11633760 &  C1716932897 &        10127000 &        -1506760 &   M801569151 &        11633750 &   -10 \\\\\n",
      "         1 &        10 &   C761750706 &          450000 &          449990 &    C52983754 &              60 &     0 \\\\\n",
      "         1 &   1563820 &   C761750706 &          450000 &        -1113820 &  M1731217984 &         1563810 &   -10 \\\\\n",
      "\\bottomrule\n",
      "\\end{tabular}\n",
      "\n"
     ]
    }
   ],
   "source": [
    "print(t2.to_latex(index=False))"
   ]
  },
  {
   "cell_type": "markdown",
   "metadata": {},
   "source": [
    "### Check on maximum amount transferred"
   ]
  },
  {
   "cell_type": "code",
   "execution_count": 69,
   "metadata": {},
   "outputs": [
    {
     "data": {
      "text/html": [
       "<div>\n",
       "<style scoped>\n",
       "    .dataframe tbody tr th:only-of-type {\n",
       "        vertical-align: middle;\n",
       "    }\n",
       "\n",
       "    .dataframe tbody tr th {\n",
       "        vertical-align: top;\n",
       "    }\n",
       "\n",
       "    .dataframe thead th {\n",
       "        text-align: right;\n",
       "    }\n",
       "</style>\n",
       "<table border=\"1\" class=\"dataframe\">\n",
       "  <thead>\n",
       "    <tr style=\"text-align: right;\">\n",
       "      <th></th>\n",
       "      <th>timestamp</th>\n",
       "      <th>amount</th>\n",
       "      <th>nameOrig</th>\n",
       "      <th>oldbalanceOrig</th>\n",
       "      <th>newbalanceOrig</th>\n",
       "      <th>nameDest</th>\n",
       "      <th>oldbalanceDest</th>\n",
       "      <th>newbalanceDest</th>\n",
       "      <th>Orig_diff</th>\n",
       "      <th>Dest_diff</th>\n",
       "      <th>diff</th>\n",
       "    </tr>\n",
       "  </thead>\n",
       "  <tbody>\n",
       "    <tr>\n",
       "      <th>4480645</th>\n",
       "      <td>276</td>\n",
       "      <td>92445516640</td>\n",
       "      <td>C1715283297</td>\n",
       "      <td>0</td>\n",
       "      <td>-92445516640</td>\n",
       "      <td>C439737079</td>\n",
       "      <td>125278520</td>\n",
       "      <td>92570795160</td>\n",
       "      <td>92445516640</td>\n",
       "      <td>92445516640</td>\n",
       "      <td>0</td>\n",
       "    </tr>\n",
       "  </tbody>\n",
       "</table>\n",
       "</div>"
      ],
      "text/plain": [
       "         timestamp       amount     nameOrig  oldbalanceOrig  newbalanceOrig  \\\n",
       "4480645        276  92445516640  C1715283297               0    -92445516640   \n",
       "\n",
       "           nameDest  oldbalanceDest  newbalanceDest    Orig_diff    Dest_diff  \\\n",
       "4480645  C439737079       125278520     92570795160  92445516640  92445516640   \n",
       "\n",
       "         diff  \n",
       "4480645     0  "
      ]
     },
     "execution_count": 69,
     "metadata": {},
     "output_type": "execute_result"
    }
   ],
   "source": [
    "df_mut[df_mut['amount'] == df_mut['amount'].max()]"
   ]
  },
  {
   "cell_type": "code",
   "execution_count": 70,
   "metadata": {},
   "outputs": [],
   "source": [
    "max_am = df_mut[df_mut[\"nameDest\"] == 'C439737079']"
   ]
  },
  {
   "cell_type": "markdown",
   "metadata": {},
   "source": [
    "C439737079 Does not occur in 'nameOrig'. Hence, it is plausible that it is a big company/bank (that people invest in). This actually holds for a lot of bank account numbers that occur more frequently as a destination account."
   ]
  },
  {
   "cell_type": "markdown",
   "metadata": {},
   "source": [
    "#### Look within one timestamp for 1 cents transactions to  C52983754 (not contributing to paper, rather used to explore!). You could skip."
   ]
  },
  {
   "cell_type": "code",
   "execution_count": 71,
   "metadata": {},
   "outputs": [],
   "source": [
    "t19 = onecent[onecent['timestamp'] == 19]"
   ]
  },
  {
   "cell_type": "code",
   "execution_count": 72,
   "metadata": {},
   "outputs": [
    {
     "data": {
      "text/html": [
       "<div>\n",
       "<style scoped>\n",
       "    .dataframe tbody tr th:only-of-type {\n",
       "        vertical-align: middle;\n",
       "    }\n",
       "\n",
       "    .dataframe tbody tr th {\n",
       "        vertical-align: top;\n",
       "    }\n",
       "\n",
       "    .dataframe thead th {\n",
       "        text-align: right;\n",
       "    }\n",
       "</style>\n",
       "<table border=\"1\" class=\"dataframe\">\n",
       "  <thead>\n",
       "    <tr style=\"text-align: right;\">\n",
       "      <th></th>\n",
       "      <th>timestamp</th>\n",
       "      <th>amount</th>\n",
       "      <th>nameOrig</th>\n",
       "      <th>oldbalanceOrig</th>\n",
       "      <th>newbalanceOrig</th>\n",
       "      <th>nameDest</th>\n",
       "      <th>oldbalanceDest</th>\n",
       "      <th>newbalanceDest</th>\n",
       "      <th>Orig_diff</th>\n",
       "      <th>Dest_diff</th>\n",
       "      <th>diff</th>\n",
       "    </tr>\n",
       "  </thead>\n",
       "  <tbody>\n",
       "    <tr>\n",
       "      <th>535914</th>\n",
       "      <td>19</td>\n",
       "      <td>10</td>\n",
       "      <td>C1953554718</td>\n",
       "      <td>173954000</td>\n",
       "      <td>173953990</td>\n",
       "      <td>C52983754</td>\n",
       "      <td>947740</td>\n",
       "      <td>947750</td>\n",
       "      <td>10</td>\n",
       "      <td>10</td>\n",
       "      <td>0</td>\n",
       "    </tr>\n",
       "    <tr>\n",
       "      <th>535916</th>\n",
       "      <td>19</td>\n",
       "      <td>10</td>\n",
       "      <td>C1940254139</td>\n",
       "      <td>76299000</td>\n",
       "      <td>76298990</td>\n",
       "      <td>C52983754</td>\n",
       "      <td>947750</td>\n",
       "      <td>947760</td>\n",
       "      <td>10</td>\n",
       "      <td>10</td>\n",
       "      <td>0</td>\n",
       "    </tr>\n",
       "    <tr>\n",
       "      <th>535922</th>\n",
       "      <td>19</td>\n",
       "      <td>10</td>\n",
       "      <td>C1326479040</td>\n",
       "      <td>29547000</td>\n",
       "      <td>29546990</td>\n",
       "      <td>C52983754</td>\n",
       "      <td>947760</td>\n",
       "      <td>947770</td>\n",
       "      <td>10</td>\n",
       "      <td>10</td>\n",
       "      <td>0</td>\n",
       "    </tr>\n",
       "    <tr>\n",
       "      <th>535927</th>\n",
       "      <td>19</td>\n",
       "      <td>10</td>\n",
       "      <td>C1334585307</td>\n",
       "      <td>15811000</td>\n",
       "      <td>15810990</td>\n",
       "      <td>C52983754</td>\n",
       "      <td>947770</td>\n",
       "      <td>947780</td>\n",
       "      <td>10</td>\n",
       "      <td>10</td>\n",
       "      <td>0</td>\n",
       "    </tr>\n",
       "    <tr>\n",
       "      <th>535940</th>\n",
       "      <td>19</td>\n",
       "      <td>10</td>\n",
       "      <td>C442825830</td>\n",
       "      <td>12418000</td>\n",
       "      <td>12417990</td>\n",
       "      <td>C52983754</td>\n",
       "      <td>947780</td>\n",
       "      <td>947790</td>\n",
       "      <td>10</td>\n",
       "      <td>10</td>\n",
       "      <td>0</td>\n",
       "    </tr>\n",
       "  </tbody>\n",
       "</table>\n",
       "</div>"
      ],
      "text/plain": [
       "        timestamp  amount     nameOrig  oldbalanceOrig  newbalanceOrig  \\\n",
       "535914         19      10  C1953554718       173954000       173953990   \n",
       "535916         19      10  C1940254139        76299000        76298990   \n",
       "535922         19      10  C1326479040        29547000        29546990   \n",
       "535927         19      10  C1334585307        15811000        15810990   \n",
       "535940         19      10   C442825830        12418000        12417990   \n",
       "\n",
       "         nameDest  oldbalanceDest  newbalanceDest  Orig_diff  Dest_diff  diff  \n",
       "535914  C52983754          947740          947750         10         10     0  \n",
       "535916  C52983754          947750          947760         10         10     0  \n",
       "535922  C52983754          947760          947770         10         10     0  \n",
       "535927  C52983754          947770          947780         10         10     0  \n",
       "535940  C52983754          947780          947790         10         10     0  "
      ]
     },
     "execution_count": 72,
     "metadata": {},
     "output_type": "execute_result"
    }
   ],
   "source": [
    "t19.head()"
   ]
  },
  {
   "cell_type": "code",
   "execution_count": 73,
   "metadata": {},
   "outputs": [],
   "source": [
    "slice_ = pd.DataFrame()"
   ]
  },
  {
   "cell_type": "code",
   "execution_count": 74,
   "metadata": {},
   "outputs": [],
   "source": [
    "# make slice of one cent dataframe where timestep is 19 in order to check for possible patterns.\n",
    "\n",
    "count = 0\n",
    "for i in t19.values:\n",
    "    if count < 100:\n",
    "        x = df_mut[df_mut['nameOrig'] == i[2]]\n",
    "        slice_ = pd.concat([slice_, x])\n",
    "        count += 1"
   ]
  },
  {
   "cell_type": "code",
   "execution_count": 75,
   "metadata": {},
   "outputs": [
    {
     "data": {
      "text/plain": [
       "200"
      ]
     },
     "execution_count": 75,
     "metadata": {},
     "output_type": "execute_result"
    }
   ],
   "source": [
    "len(slice_)"
   ]
  },
  {
   "cell_type": "code",
   "execution_count": 76,
   "metadata": {},
   "outputs": [
    {
     "data": {
      "text/plain": [
       "C746483024     2\n",
       "C1777569545    2\n",
       "C1238570959    2\n",
       "C1236225112    2\n",
       "C617520666     2\n",
       "              ..\n",
       "C682819761     2\n",
       "C334125749     2\n",
       "C768306491     2\n",
       "C393032316     2\n",
       "C1333831427    2\n",
       "Name: nameOrig, Length: 100, dtype: int64"
      ]
     },
     "execution_count": 76,
     "metadata": {},
     "output_type": "execute_result"
    }
   ],
   "source": [
    "slice_['nameOrig'].value_counts()"
   ]
  },
  {
   "cell_type": "code",
   "execution_count": 78,
   "metadata": {},
   "outputs": [
    {
     "data": {
      "text/html": [
       "<div>\n",
       "<style scoped>\n",
       "    .dataframe tbody tr th:only-of-type {\n",
       "        vertical-align: middle;\n",
       "    }\n",
       "\n",
       "    .dataframe tbody tr th {\n",
       "        vertical-align: top;\n",
       "    }\n",
       "\n",
       "    .dataframe thead th {\n",
       "        text-align: right;\n",
       "    }\n",
       "</style>\n",
       "<table border=\"1\" class=\"dataframe\">\n",
       "  <thead>\n",
       "    <tr style=\"text-align: right;\">\n",
       "      <th></th>\n",
       "      <th>timestamp</th>\n",
       "      <th>amount</th>\n",
       "      <th>nameOrig</th>\n",
       "      <th>oldbalanceOrig</th>\n",
       "      <th>newbalanceOrig</th>\n",
       "      <th>nameDest</th>\n",
       "      <th>oldbalanceDest</th>\n",
       "      <th>newbalanceDest</th>\n",
       "      <th>Orig_diff</th>\n",
       "      <th>Dest_diff</th>\n",
       "      <th>diff</th>\n",
       "    </tr>\n",
       "  </thead>\n",
       "  <tbody>\n",
       "    <tr>\n",
       "      <th>536477</th>\n",
       "      <td>19</td>\n",
       "      <td>112125740</td>\n",
       "      <td>C1229006543</td>\n",
       "      <td>195000</td>\n",
       "      <td>-111930740</td>\n",
       "      <td>C1837241711</td>\n",
       "      <td>480335580</td>\n",
       "      <td>592461310</td>\n",
       "      <td>112125740</td>\n",
       "      <td>112125730</td>\n",
       "      <td>-10</td>\n",
       "    </tr>\n",
       "    <tr>\n",
       "      <th>536478</th>\n",
       "      <td>19</td>\n",
       "      <td>10</td>\n",
       "      <td>C1487324447</td>\n",
       "      <td>0</td>\n",
       "      <td>-10</td>\n",
       "      <td>C52983754</td>\n",
       "      <td>948720</td>\n",
       "      <td>948730</td>\n",
       "      <td>10</td>\n",
       "      <td>10</td>\n",
       "      <td>0</td>\n",
       "    </tr>\n",
       "    <tr>\n",
       "      <th>536479</th>\n",
       "      <td>19</td>\n",
       "      <td>19685620</td>\n",
       "      <td>C1487324447</td>\n",
       "      <td>0</td>\n",
       "      <td>-19685620</td>\n",
       "      <td>C16762050</td>\n",
       "      <td>589131070</td>\n",
       "      <td>608816680</td>\n",
       "      <td>19685620</td>\n",
       "      <td>19685610</td>\n",
       "      <td>-10</td>\n",
       "    </tr>\n",
       "    <tr>\n",
       "      <th>536480</th>\n",
       "      <td>19</td>\n",
       "      <td>10</td>\n",
       "      <td>C1443517335</td>\n",
       "      <td>0</td>\n",
       "      <td>-10</td>\n",
       "      <td>C52983754</td>\n",
       "      <td>948730</td>\n",
       "      <td>948740</td>\n",
       "      <td>10</td>\n",
       "      <td>10</td>\n",
       "      <td>0</td>\n",
       "    </tr>\n",
       "    <tr>\n",
       "      <th>536481</th>\n",
       "      <td>19</td>\n",
       "      <td>2591400</td>\n",
       "      <td>C1443517335</td>\n",
       "      <td>0</td>\n",
       "      <td>-2591400</td>\n",
       "      <td>M941148717</td>\n",
       "      <td>0</td>\n",
       "      <td>2591390</td>\n",
       "      <td>2591400</td>\n",
       "      <td>2591390</td>\n",
       "      <td>-10</td>\n",
       "    </tr>\n",
       "  </tbody>\n",
       "</table>\n",
       "</div>"
      ],
      "text/plain": [
       "        timestamp     amount     nameOrig  oldbalanceOrig  newbalanceOrig  \\\n",
       "536477         19  112125740  C1229006543          195000      -111930740   \n",
       "536478         19         10  C1487324447               0             -10   \n",
       "536479         19   19685620  C1487324447               0       -19685620   \n",
       "536480         19         10  C1443517335               0             -10   \n",
       "536481         19    2591400  C1443517335               0        -2591400   \n",
       "\n",
       "           nameDest  oldbalanceDest  newbalanceDest  Orig_diff  Dest_diff  \\\n",
       "536477  C1837241711       480335580       592461310  112125740  112125730   \n",
       "536478    C52983754          948720          948730         10         10   \n",
       "536479    C16762050       589131070       608816680   19685620   19685610   \n",
       "536480    C52983754          948730          948740         10         10   \n",
       "536481   M941148717               0         2591390    2591400    2591390   \n",
       "\n",
       "        diff  \n",
       "536477   -10  \n",
       "536478     0  \n",
       "536479   -10  \n",
       "536480     0  \n",
       "536481   -10  "
      ]
     },
     "execution_count": 78,
     "metadata": {},
     "output_type": "execute_result"
    }
   ],
   "source": [
    "slice_.tail()"
   ]
  },
  {
   "cell_type": "markdown",
   "metadata": {},
   "source": [
    "Create new DF and write to file, this however take hours so skipping is suitable"
   ]
  },
  {
   "cell_type": "code",
   "execution_count": null,
   "metadata": {},
   "outputs": [],
   "source": [
    "# victims2 = pd.DataFrame()"
   ]
  },
  {
   "cell_type": "code",
   "execution_count": null,
   "metadata": {},
   "outputs": [],
   "source": [
    "# begin = time.time()\n",
    "# big_count = 0\n",
    "# with open('p1.txt', 'a') as f:\n",
    "#     for i in range(1,187):\n",
    "#         slice_df_full = df_mut[df_mut['timestamp'] == i]\n",
    "#         slice_df = onect[onect['timestamp'] == i]\n",
    "#         length = len(slice_df)\n",
    "#         count = 0\n",
    "#         for origin in slice_df['nameOrig'].values:\n",
    "#             big_count += 1\n",
    "#             count += 1\n",
    "#             rows = slice_df_full[slice_df_full['nameOrig'] == origin]\n",
    "#             f.write(rows.to_string(header = False, index = False))\n",
    "# #         victims2 = pd.concat([victims2, rows])\n",
    "#             print(\"TS: \" + str(i) + \"; TO GO: \" + str(length-count) + \"; TIME: \" + str(time.time()-begin) + \"; TOT: \" + str(big_count))"
   ]
  },
  {
   "cell_type": "code",
   "execution_count": null,
   "metadata": {},
   "outputs": [],
   "source": [
    "# z = victims2['nameDest'].value_counts()"
   ]
  },
  {
   "cell_type": "code",
   "execution_count": null,
   "metadata": {},
   "outputs": [],
   "source": [
    "# z"
   ]
  },
  {
   "cell_type": "markdown",
   "metadata": {},
   "source": [
    "#### Investigate all balances that are under zero. This was before we realised it is quite normal to be in debt as an investor. "
   ]
  },
  {
   "cell_type": "code",
   "execution_count": 79,
   "metadata": {},
   "outputs": [],
   "source": [
    "zero_balance = df_mut[df_mut[\"oldbalanceOrig\"] <= 0]"
   ]
  },
  {
   "cell_type": "code",
   "execution_count": 80,
   "metadata": {},
   "outputs": [
    {
     "data": {
      "text/html": [
       "<div>\n",
       "<style scoped>\n",
       "    .dataframe tbody tr th:only-of-type {\n",
       "        vertical-align: middle;\n",
       "    }\n",
       "\n",
       "    .dataframe tbody tr th {\n",
       "        vertical-align: top;\n",
       "    }\n",
       "\n",
       "    .dataframe thead th {\n",
       "        text-align: right;\n",
       "    }\n",
       "</style>\n",
       "<table border=\"1\" class=\"dataframe\">\n",
       "  <thead>\n",
       "    <tr style=\"text-align: right;\">\n",
       "      <th></th>\n",
       "      <th>timestamp</th>\n",
       "      <th>amount</th>\n",
       "      <th>nameOrig</th>\n",
       "      <th>oldbalanceOrig</th>\n",
       "      <th>newbalanceOrig</th>\n",
       "      <th>nameDest</th>\n",
       "      <th>oldbalanceDest</th>\n",
       "      <th>newbalanceDest</th>\n",
       "      <th>Orig_diff</th>\n",
       "      <th>Dest_diff</th>\n",
       "      <th>diff</th>\n",
       "    </tr>\n",
       "  </thead>\n",
       "  <tbody>\n",
       "    <tr>\n",
       "      <th>7733127</th>\n",
       "      <td>717</td>\n",
       "      <td>82899050</td>\n",
       "      <td>C1170262181</td>\n",
       "      <td>-279010325</td>\n",
       "      <td>-361909380</td>\n",
       "      <td>C1991152940</td>\n",
       "      <td>1485888165</td>\n",
       "      <td>1568787210</td>\n",
       "      <td>82899055</td>\n",
       "      <td>82899045</td>\n",
       "      <td>-10</td>\n",
       "    </tr>\n",
       "    <tr>\n",
       "      <th>7734636</th>\n",
       "      <td>730</td>\n",
       "      <td>0</td>\n",
       "      <td>C729003789</td>\n",
       "      <td>0</td>\n",
       "      <td>-5</td>\n",
       "      <td>C1388096959</td>\n",
       "      <td>1868150705</td>\n",
       "      <td>1868150700</td>\n",
       "      <td>5</td>\n",
       "      <td>-5</td>\n",
       "      <td>-10</td>\n",
       "    </tr>\n",
       "    <tr>\n",
       "      <th>7734638</th>\n",
       "      <td>730</td>\n",
       "      <td>10</td>\n",
       "      <td>C2088151490</td>\n",
       "      <td>0</td>\n",
       "      <td>-10</td>\n",
       "      <td>C52983754</td>\n",
       "      <td>13721570</td>\n",
       "      <td>13721580</td>\n",
       "      <td>10</td>\n",
       "      <td>10</td>\n",
       "      <td>0</td>\n",
       "    </tr>\n",
       "    <tr>\n",
       "      <th>7734639</th>\n",
       "      <td>730</td>\n",
       "      <td>0</td>\n",
       "      <td>C2088151490</td>\n",
       "      <td>0</td>\n",
       "      <td>0</td>\n",
       "      <td>C1156763710</td>\n",
       "      <td>0</td>\n",
       "      <td>-10</td>\n",
       "      <td>0</td>\n",
       "      <td>-10</td>\n",
       "      <td>-10</td>\n",
       "    </tr>\n",
       "    <tr>\n",
       "      <th>7734790</th>\n",
       "      <td>741</td>\n",
       "      <td>0</td>\n",
       "      <td>C312737633</td>\n",
       "      <td>0</td>\n",
       "      <td>0</td>\n",
       "      <td>C1400061387</td>\n",
       "      <td>267522865</td>\n",
       "      <td>267522865</td>\n",
       "      <td>0</td>\n",
       "      <td>0</td>\n",
       "      <td>0</td>\n",
       "    </tr>\n",
       "  </tbody>\n",
       "</table>\n",
       "</div>"
      ],
      "text/plain": [
       "         timestamp    amount     nameOrig  oldbalanceOrig  newbalanceOrig  \\\n",
       "7733127        717  82899050  C1170262181      -279010325      -361909380   \n",
       "7734636        730         0   C729003789               0              -5   \n",
       "7734638        730        10  C2088151490               0             -10   \n",
       "7734639        730         0  C2088151490               0               0   \n",
       "7734790        741         0   C312737633               0               0   \n",
       "\n",
       "            nameDest  oldbalanceDest  newbalanceDest  Orig_diff  Dest_diff  \\\n",
       "7733127  C1991152940      1485888165      1568787210   82899055   82899045   \n",
       "7734636  C1388096959      1868150705      1868150700          5         -5   \n",
       "7734638    C52983754        13721570        13721580         10         10   \n",
       "7734639  C1156763710               0             -10          0        -10   \n",
       "7734790  C1400061387       267522865       267522865          0          0   \n",
       "\n",
       "         diff  \n",
       "7733127   -10  \n",
       "7734636   -10  \n",
       "7734638     0  \n",
       "7734639   -10  \n",
       "7734790     0  "
      ]
     },
     "execution_count": 80,
     "metadata": {},
     "output_type": "execute_result"
    }
   ],
   "source": [
    "zero_balance.tail()"
   ]
  },
  {
   "cell_type": "code",
   "execution_count": 83,
   "metadata": {},
   "outputs": [
    {
     "data": {
      "text/plain": [
       "-92445516640"
      ]
     },
     "execution_count": 83,
     "metadata": {},
     "output_type": "execute_result"
    }
   ],
   "source": [
    "zero_balance['newbalanceOrig'].min()"
   ]
  },
  {
   "cell_type": "code",
   "execution_count": 109,
   "metadata": {},
   "outputs": [],
   "source": [
    "vals = zero_balance['nameDest'].value_counts()"
   ]
  },
  {
   "cell_type": "code",
   "execution_count": 85,
   "metadata": {},
   "outputs": [
    {
     "data": {
      "text/plain": [
       "C52983754      454422\n",
       "C2083562754        53\n",
       "C665576141         51\n",
       "C248609774         51\n",
       "C1590550415        50\n",
       "                ...  \n",
       "M1026080412         1\n",
       "M896664001          1\n",
       "M1180170223         1\n",
       "M1246595762         1\n",
       "M1776784009         1\n",
       "Name: nameDest, Length: 1099758, dtype: int64"
      ]
     },
     "execution_count": 85,
     "metadata": {},
     "output_type": "execute_result"
    }
   ],
   "source": [
    "### Accounts that often get money from accounts that are in debt\n",
    "## Same prominent accounts occur als usual\n",
    "\n",
    "vals"
   ]
  },
  {
   "cell_type": "code",
   "execution_count": 86,
   "metadata": {},
   "outputs": [],
   "source": [
    "val_list = []\n",
    "\n",
    "counter = 0\n",
    "for val in vals.index:\n",
    "    if vals[counter] != 1:\n",
    "        val_list.append([val, vals[counter]])\n",
    "        counter += 1"
   ]
  },
  {
   "cell_type": "code",
   "execution_count": 87,
   "metadata": {},
   "outputs": [
    {
     "data": {
      "text/plain": [
       "226387"
      ]
     },
     "execution_count": 87,
     "metadata": {},
     "output_type": "execute_result"
    }
   ],
   "source": [
    "len(val_list)"
   ]
  },
  {
   "cell_type": "markdown",
   "metadata": {},
   "source": [
    "#### Inconsistencies further examined"
   ]
  },
  {
   "cell_type": "code",
   "execution_count": 91,
   "metadata": {},
   "outputs": [],
   "source": [
    "maximum = df_mut[\"timestamp\"].max()\n",
    "fraud_counts = dict()\n",
    "\n",
    "for i in range(1, maximum + 1):\n",
    "    count = 0\n",
    "    x = df_mut[df_mut[\"timestamp\"] == i].values\n",
    "    for j in x:\n",
    "        if j[10] != 0:\n",
    "            count += 1\n",
    "            \n",
    "    y = len(x)\n",
    "    fraud_counts[i] = [count, y]"
   ]
  },
  {
   "cell_type": "code",
   "execution_count": 108,
   "metadata": {},
   "outputs": [],
   "source": [
    "## fraud_counts\n",
    "## Used below"
   ]
  },
  {
   "cell_type": "markdown",
   "metadata": {},
   "source": [
    "### Transactions per timestamp calculated"
   ]
  },
  {
   "cell_type": "code",
   "execution_count": 93,
   "metadata": {},
   "outputs": [],
   "source": [
    "ts = []\n",
    "amount = []\n",
    "\n",
    "for i in range(1,744):\n",
    "    ts.append(i)\n",
    "    amount.append(fraud_counts[i][1])"
   ]
  },
  {
   "cell_type": "code",
   "execution_count": 94,
   "metadata": {},
   "outputs": [
    {
     "data": {
      "image/png": "[encoded data removed]",
      "text/plain": [
       "<Figure size 432x288 with 1 Axes>"
      ]
     },
     "metadata": {
      "needs_background": "light"
     },
     "output_type": "display_data"
    }
   ],
   "source": [
    "fig, ax = plt.subplots()\n",
    "ax.plot(ts, amount,  color='coral')\n",
    "\n",
    "ax.set_title('Transactions per timestamp', fontsize=16)\n",
    "ax.set_xlabel('Timestamp', fontsize=14)\n",
    "ax.set_ylabel('Frequency', fontsize=14)\n",
    "\n",
    "ax.grid()\n",
    "plt.savefig(\"transactions-ts.png\")\n",
    "plt.show()"
   ]
  },
  {
   "cell_type": "markdown",
   "metadata": {},
   "source": [
    "### Irregular transactions per 24 timestamps"
   ]
  },
  {
   "cell_type": "code",
   "execution_count": 99,
   "metadata": {},
   "outputs": [
    {
     "name": "stdout",
     "output_type": "stream",
     "text": [
      "done\n"
     ]
    }
   ],
   "source": [
    "ts_day = []\n",
    "amount_day = []\n",
    "\n",
    "start = 0\n",
    "count = 0\n",
    "for i in range(1,744):\n",
    "    if i % 24 == 0:\n",
    "        count += 1\n",
    "        start += fraud_counts[i][0]\n",
    "        ts_day.append(count)\n",
    "        amount_day.append(start)\n",
    "        start = 0\n",
    "    elif i == 743:\n",
    "        count += 1\n",
    "        start += fraud_counts[i][0]\n",
    "        ts_day.append(count)\n",
    "        amount_day.append(start)\n",
    "        print(\"done\")\n",
    "    else:\n",
    "        start += fraud_counts[i][1]"
   ]
  },
  {
   "cell_type": "code",
   "execution_count": 100,
   "metadata": {
    "scrolled": true
   },
   "outputs": [
    {
     "data": {
      "image/png": "[encoded data removed]",
      "text/plain": [
       "<Figure size 432x288 with 1 Axes>"
      ]
     },
     "metadata": {
      "needs_background": "light"
     },
     "output_type": "display_data"
    }
   ],
   "source": [
    "fig, ax = plt.subplots()\n",
    "ax.plot(ts_day, amount_day)\n",
    "\n",
    "ax.set(xlabel='timestamp', ylabel='amount of transactions',\n",
    "       title='Irregular transactions per 24 timestamps')\n",
    "\n",
    "ax.grid()\n",
    "plt.show()"
   ]
  },
  {
   "cell_type": "markdown",
   "metadata": {},
   "source": [
    "### Percentage of irregular transactions per 24 timestamps and per timestamp"
   ]
  },
  {
   "cell_type": "code",
   "execution_count": 101,
   "metadata": {},
   "outputs": [],
   "source": [
    "fraud2_c = {k: [v[0]/v[1], v[1]] for k, v in fraud_counts.items()}"
   ]
  },
  {
   "cell_type": "code",
   "execution_count": 103,
   "metadata": {},
   "outputs": [],
   "source": [
    "x_axis = []\n",
    "y_axis = []\n",
    "\n",
    "for i in range(1,744):\n",
    "    x_axis.append(i)\n",
    "    y_axis.append(fraud2_c[i][0])"
   ]
  },
  {
   "cell_type": "code",
   "execution_count": 104,
   "metadata": {},
   "outputs": [
    {
     "name": "stdout",
     "output_type": "stream",
     "text": [
      "done\n"
     ]
    }
   ],
   "source": [
    "ts_day = []\n",
    "amount_day = []\n",
    "\n",
    "start = 0\n",
    "count = 0\n",
    "for i in range(1,744):\n",
    "    if i % 24 == 0:\n",
    "        count += 1\n",
    "        start += fraud2_c[i][0]\n",
    "        ts_day.append(count)\n",
    "        amount_day.append(start/24)\n",
    "        start = 0\n",
    "    elif i == 743:\n",
    "        count += 1\n",
    "        start += fraud2_c[i][0]\n",
    "        ts_day.append(count)\n",
    "        amount_day.append(start/23)\n",
    "        print(\"done\")\n",
    "    else:\n",
    "        start += fraud2_c[i][0]"
   ]
  },
  {
   "cell_type": "code",
   "execution_count": 106,
   "metadata": {},
   "outputs": [
    {
     "data": {
      "image/png": "[encoded data removed]",
      "text/plain": [
       "<Figure size 432x288 with 1 Axes>"
      ]
     },
     "metadata": {
      "needs_background": "light"
     },
     "output_type": "display_data"
    }
   ],
   "source": [
    "fig, ax = plt.subplots()\n",
    "ax.plot(ts_day, amount_day, marker = 'o')\n",
    "\n",
    "ax.set(xlabel='timestamp', ylabel='percentage irregular',\n",
    "       title='Irregular percentages per day')\n",
    "\n",
    "ax.grid()\n",
    "plt.show()"
   ]
  },
  {
   "cell_type": "code",
   "execution_count": 107,
   "metadata": {},
   "outputs": [
    {
     "data": {
      "image/png": "[encoded data removed]",
      "text/plain": [
       "<Figure size 432x288 with 1 Axes>"
      ]
     },
     "metadata": {
      "needs_background": "light"
     },
     "output_type": "display_data"
    }
   ],
   "source": [
    "fig, ax = plt.subplots()\n",
    "ax.plot(x_axis, y_axis)\n",
    "\n",
    "ax.set(xlabel='timestamp', ylabel='percentage irregular',\n",
    "       title='Irregular percentages per timestamp')\n",
    "\n",
    "ax.grid()\n",
    "plt.show()"
   ]
  }
 ],
 "metadata": {
  "kernelspec": {
   "display_name": "Python 3",
   "language": "python",
   "name": "python3"
  },
  "language_info": {
   "codemirror_mode": {
    "name": "ipython",
    "version": 3
   },
   "file_extension": ".py",
   "mimetype": "text/x-python",
   "name": "python",
   "nbconvert_exporter": "python",
   "pygments_lexer": "ipython3",
   "version": "3.7.6"
  }
 },
 "nbformat": 4,
 "nbformat_minor": 2
}
